{
  "nbformat": 4,
  "nbformat_minor": 0,
  "metadata": {
    "colab": {
      "name": "Feature_Importance.ipynb",
      "provenance": [],
      "authorship_tag": "ABX9TyOFSXIrbg7Nt1g/KIRjN1jZ",
      "include_colab_link": true
    },
    "kernelspec": {
      "name": "python3",
      "display_name": "Python 3"
    },
    "language_info": {
      "name": "python"
    }
  },
  "cells": [
    {
      "cell_type": "markdown",
      "metadata": {
        "id": "view-in-github",
        "colab_type": "text"
      },
      "source": [
        "<a href=\"https://colab.research.google.com/github/narutsoo/tutorial/blob/master/Feature_Importance.ipynb\" target=\"_parent\"><img src=\"https://colab.research.google.com/assets/colab-badge.svg\" alt=\"Open In Colab\"/></a>"
      ]
    },
    {
      "cell_type": "markdown",
      "metadata": {
        "id": "8BGyd6g2f8E4"
      },
      "source": [
        "# Topic : How to Calculate Feature Importance With Python\n",
        "\n",
        "*Reference*\n",
        "\n",
        "https://machinelearningmastery.com/calculate-feature-importance-with-python/"
      ]
    },
    {
      "cell_type": "markdown",
      "metadata": {
        "id": "hLw7bdjUgLtn"
      },
      "source": [
        "---\n",
        "# Linear Regression Feature Importance\n",
        "---"
      ]
    },
    {
      "cell_type": "markdown",
      "metadata": {
        "id": "BB1zjITrgR5y"
      },
      "source": [
        "Import related libraries"
      ]
    },
    {
      "cell_type": "code",
      "metadata": {
        "id": "CW5RiS4IggT4"
      },
      "source": [
        "from sklearn.datasets import make_regression\n",
        "from sklearn.linear_model import LinearRegression\n",
        "import matplotlib.pyplot as plt"
      ],
      "execution_count": 1,
      "outputs": []
    },
    {
      "cell_type": "markdown",
      "metadata": {
        "id": "KHEzQ1N4g2Jc"
      },
      "source": [
        "Define the dataset"
      ]
    },
    {
      "cell_type": "code",
      "metadata": {
        "id": "cww2cVyMg0OS"
      },
      "source": [
        "X, y = make_regression(n_samples=1000, n_features=10, n_informative=5, random_state=1)"
      ],
      "execution_count": 2,
      "outputs": []
    },
    {
      "cell_type": "markdown",
      "metadata": {
        "id": "4xMWhWPghKZk"
      },
      "source": [
        "Define the model"
      ]
    },
    {
      "cell_type": "code",
      "metadata": {
        "id": "n39BwKKEhISh"
      },
      "source": [
        "model = LinearRegression()"
      ],
      "execution_count": 3,
      "outputs": []
    },
    {
      "cell_type": "markdown",
      "metadata": {
        "id": "Z2CPe8LqhU2p"
      },
      "source": [
        "Train (fit) the model"
      ]
    },
    {
      "cell_type": "code",
      "metadata": {
        "colab": {
          "base_uri": "https://localhost:8080/"
        },
        "id": "G7SVu193hIEW",
        "outputId": "bf390df9-ce09-4795-e49e-fe95e4caf8ba"
      },
      "source": [
        "model.fit(X, y)"
      ],
      "execution_count": 4,
      "outputs": [
        {
          "output_type": "execute_result",
          "data": {
            "text/plain": [
              "LinearRegression(copy_X=True, fit_intercept=True, n_jobs=None, normalize=False)"
            ]
          },
          "metadata": {
            "tags": []
          },
          "execution_count": 4
        }
      ]
    },
    {
      "cell_type": "markdown",
      "metadata": {
        "id": "oZBv_adBhYfN"
      },
      "source": [
        "Feature Importance"
      ]
    },
    {
      "cell_type": "code",
      "metadata": {
        "id": "Os_mXmwqha4Y"
      },
      "source": [
        "importance = model.coef_"
      ],
      "execution_count": 5,
      "outputs": []
    },
    {
      "cell_type": "markdown",
      "metadata": {
        "id": "IOwpGgloioQa"
      },
      "source": [
        "Summary feature importance"
      ]
    },
    {
      "cell_type": "code",
      "metadata": {
        "colab": {
          "base_uri": "https://localhost:8080/"
        },
        "id": "uO59hkMyiyPB",
        "outputId": "896f02cf-1c9a-4bc4-c8c5-752c561db79c"
      },
      "source": [
        "for i, v in enumerate(importance):\n",
        "  print (\"Feature : %0d, Score : %.5f\" %(i, v))"
      ],
      "execution_count": 6,
      "outputs": [
        {
          "output_type": "stream",
          "text": [
            "Feature : 0, Score : -0.00000\n",
            "Feature : 1, Score : 12.44483\n",
            "Feature : 2, Score : -0.00000\n",
            "Feature : 3, Score : -0.00000\n",
            "Feature : 4, Score : 93.32225\n",
            "Feature : 5, Score : 86.50811\n",
            "Feature : 6, Score : 26.74607\n",
            "Feature : 7, Score : 3.28535\n",
            "Feature : 8, Score : -0.00000\n",
            "Feature : 9, Score : 0.00000\n"
          ],
          "name": "stdout"
        }
      ]
    },
    {
      "cell_type": "markdown",
      "metadata": {
        "id": "QqPnOUsRiqlh"
      },
      "source": [
        "Plot feature importance\n"
      ]
    },
    {
      "cell_type": "code",
      "metadata": {
        "colab": {
          "base_uri": "https://localhost:8080/",
          "height": 265
        },
        "id": "UbW0eh0mjVql",
        "outputId": "16bdfc3a-5fa5-4e5f-c1ed-823e73d4cb64"
      },
      "source": [
        "plt.bar([x for x in range(len(importance))], importance)\n",
        "plt.show()"
      ],
      "execution_count": 7,
      "outputs": [
        {
          "output_type": "display_data",
          "data": {
            "image/png": "[encoded data removed]",
            "text/plain": [
              "<Figure size 432x288 with 1 Axes>"
            ]
          },
          "metadata": {
            "tags": [],
            "needs_background": "light"
          }
        }
      ]
    },
    {
      "cell_type": "markdown",
      "metadata": {
        "id": "Op7IM98ajo1B"
      },
      "source": [
        "---\n",
        "# Logistic Regression Feature Importance\n",
        "---\n"
      ]
    },
    {
      "cell_type": "markdown",
      "metadata": {
        "id": "8CGEeRk1j0KJ"
      },
      "source": [
        "Import related libraries"
      ]
    },
    {
      "cell_type": "code",
      "metadata": {
        "id": "aG2MUsksj2lt"
      },
      "source": [
        "from sklearn.datasets import make_classification\n",
        "from sklearn.linear_model import LogisticRegression\n",
        "import matplotlib.pyplot as plt"
      ],
      "execution_count": 8,
      "outputs": []
    },
    {
      "cell_type": "markdown",
      "metadata": {
        "id": "msNEkTHckEPB"
      },
      "source": [
        "Define the dataset"
      ]
    },
    {
      "cell_type": "code",
      "metadata": {
        "id": "lZkKiguTkIZX"
      },
      "source": [
        "X, y = make_classification(n_samples=1000, n_informative=5, n_features=10, n_redundant=5, random_state=1)"
      ],
      "execution_count": 9,
      "outputs": []
    },
    {
      "cell_type": "markdown",
      "metadata": {
        "id": "32s2VUMilDS8"
      },
      "source": [
        "Define the model"
      ]
    },
    {
      "cell_type": "code",
      "metadata": {
        "id": "HIGCgAV7lE9d"
      },
      "source": [
        "model = LogisticRegression()"
      ],
      "execution_count": 10,
      "outputs": []
    },
    {
      "cell_type": "markdown",
      "metadata": {
        "id": "6OBPqa0WlH0i"
      },
      "source": [
        "Train (fit) the model"
      ]
    },
    {
      "cell_type": "code",
      "metadata": {
        "colab": {
          "base_uri": "https://localhost:8080/"
        },
        "id": "GMnTI5aLlHhF",
        "outputId": "d65eaa5f-68bf-4811-8de8-58323cb9b58f"
      },
      "source": [
        "model.fit(X, y)"
      ],
      "execution_count": 11,
      "outputs": [
        {
          "output_type": "execute_result",
          "data": {
            "text/plain": [
              "LogisticRegression(C=1.0, class_weight=None, dual=False, fit_intercept=True,\n",
              "                   intercept_scaling=1, l1_ratio=None, max_iter=100,\n",
              "                   multi_class='auto', n_jobs=None, penalty='l2',\n",
              "                   random_state=None, solver='lbfgs', tol=0.0001, verbose=0,\n",
              "                   warm_start=False)"
            ]
          },
          "metadata": {
            "tags": []
          },
          "execution_count": 11
        }
      ]
    },
    {
      "cell_type": "markdown",
      "metadata": {
        "id": "p-03vWfYlO8I"
      },
      "source": [
        "Feature Importance"
      ]
    },
    {
      "cell_type": "code",
      "metadata": {
        "id": "l5hZu4LslOhe"
      },
      "source": [
        "importance = model.coef_[0]"
      ],
      "execution_count": 12,
      "outputs": []
    },
    {
      "cell_type": "markdown",
      "metadata": {
        "id": "luDcPTvYny8B"
      },
      "source": [
        "Summary feature importance"
      ]
    },
    {
      "cell_type": "code",
      "metadata": {
        "colab": {
          "base_uri": "https://localhost:8080/"
        },
        "id": "kFyUwBMNlOMF",
        "outputId": "c50f9290-7c91-4acc-afd2-1b6473d32c6f"
      },
      "source": [
        "for i, v in enumerate(importance):\n",
        "  print (\"Feature : %0d, Score : %.5f\" %(i, v))"
      ],
      "execution_count": 13,
      "outputs": [
        {
          "output_type": "stream",
          "text": [
            "Feature : 0, Score : 0.16320\n",
            "Feature : 1, Score : -0.64301\n",
            "Feature : 2, Score : 0.48497\n",
            "Feature : 3, Score : -0.46190\n",
            "Feature : 4, Score : 0.18432\n",
            "Feature : 5, Score : -0.11978\n",
            "Feature : 6, Score : -0.40602\n",
            "Feature : 7, Score : 0.03772\n",
            "Feature : 8, Score : -0.51785\n",
            "Feature : 9, Score : 0.26540\n"
          ],
          "name": "stdout"
        }
      ]
    },
    {
      "cell_type": "markdown",
      "metadata": {
        "id": "36v-zkgGn0cE"
      },
      "source": [
        "Plot feature importance"
      ]
    },
    {
      "cell_type": "code",
      "metadata": {
        "colab": {
          "base_uri": "https://localhost:8080/",
          "height": 265
        },
        "id": "l1PyfrqimR7e",
        "outputId": "06e30507-4163-4182-96d4-ef19002ab3df"
      },
      "source": [
        "plt.bar([x for x in range(len(importance))], importance)\n",
        "plt.show()"
      ],
      "execution_count": 14,
      "outputs": [
        {
          "output_type": "display_data",
          "data": {
            "image/png": "[encoded data removed]",
            "text/plain": [
              "<Figure size 432x288 with 1 Axes>"
            ]
          },
          "metadata": {
            "tags": [],
            "needs_background": "light"
          }
        }
      ]
    },
    {
      "cell_type": "markdown",
      "metadata": {
        "id": "FiwF2Y_kmoju"
      },
      "source": [
        "---\n",
        "# Decision Tree Feature Importance\n",
        "---"
      ]
    },
    {
      "cell_type": "markdown",
      "metadata": {
        "id": "oaAfAYnqq1B1"
      },
      "source": [
        "## Regression\n",
        "\n",
        "Import related libraries"
      ]
    },
    {
      "cell_type": "code",
      "metadata": {
        "id": "lLtRyOv5pih5"
      },
      "source": [
        "from sklearn.datasets import make_regression\n",
        "from sklearn.tree import DecisionTreeRegressor\n",
        "import matplotlib.pyplot as plt"
      ],
      "execution_count": 15,
      "outputs": []
    },
    {
      "cell_type": "markdown",
      "metadata": {
        "id": "YwGljGgmqzAd"
      },
      "source": [
        "Define the dataset"
      ]
    },
    {
      "cell_type": "code",
      "metadata": {
        "id": "baWJEv9jpqxI"
      },
      "source": [
        "X, y = make_regression(n_samples=1000, n_features=10, n_informative=5, random_state=1)"
      ],
      "execution_count": 16,
      "outputs": []
    },
    {
      "cell_type": "markdown",
      "metadata": {
        "id": "hyenmi1jqt-y"
      },
      "source": [
        "Define the model"
      ]
    },
    {
      "cell_type": "code",
      "metadata": {
        "id": "Qr1uNXUYp1iO"
      },
      "source": [
        "model = DecisionTreeRegressor()"
      ],
      "execution_count": 17,
      "outputs": []
    },
    {
      "cell_type": "markdown",
      "metadata": {
        "id": "rabne8J2qwsf"
      },
      "source": [
        "Train (fit) the model"
      ]
    },
    {
      "cell_type": "code",
      "metadata": {
        "colab": {
          "base_uri": "https://localhost:8080/"
        },
        "id": "GOkQ88Onp5tt",
        "outputId": "35886e62-8752-443e-9896-d96ebeedecbe"
      },
      "source": [
        "model.fit(X, y)"
      ],
      "execution_count": 18,
      "outputs": [
        {
          "output_type": "execute_result",
          "data": {
            "text/plain": [
              "DecisionTreeRegressor(ccp_alpha=0.0, criterion='mse', max_depth=None,\n",
              "                      max_features=None, max_leaf_nodes=None,\n",
              "                      min_impurity_decrease=0.0, min_impurity_split=None,\n",
              "                      min_samples_leaf=1, min_samples_split=2,\n",
              "                      min_weight_fraction_leaf=0.0, presort='deprecated',\n",
              "                      random_state=None, splitter='best')"
            ]
          },
          "metadata": {
            "tags": []
          },
          "execution_count": 18
        }
      ]
    },
    {
      "cell_type": "markdown",
      "metadata": {
        "id": "bEA_XtX2p7vT"
      },
      "source": [
        "Feature Importance"
      ]
    },
    {
      "cell_type": "code",
      "metadata": {
        "id": "3s3kVvkEp-1D"
      },
      "source": [
        "importance = model.feature_importances_"
      ],
      "execution_count": 19,
      "outputs": []
    },
    {
      "cell_type": "markdown",
      "metadata": {
        "id": "LfDxk18eqImN"
      },
      "source": [
        "Summary feature importance"
      ]
    },
    {
      "cell_type": "code",
      "metadata": {
        "colab": {
          "base_uri": "https://localhost:8080/"
        },
        "id": "yNnJpHfTqMeM",
        "outputId": "cbd68402-fcc6-4c80-8114-7f96fa9fdad1"
      },
      "source": [
        "for i, v in enumerate(importance):\n",
        "  print (\"Feature : %0d, Score : %.5f\" %(i, v))"
      ],
      "execution_count": 20,
      "outputs": [
        {
          "output_type": "stream",
          "text": [
            "Feature : 0, Score : 0.00256\n",
            "Feature : 1, Score : 0.00416\n",
            "Feature : 2, Score : 0.00242\n",
            "Feature : 3, Score : 0.00251\n",
            "Feature : 4, Score : 0.51664\n",
            "Feature : 5, Score : 0.43788\n",
            "Feature : 6, Score : 0.02709\n",
            "Feature : 7, Score : 0.00309\n",
            "Feature : 8, Score : 0.00261\n",
            "Feature : 9, Score : 0.00103\n"
          ],
          "name": "stdout"
        }
      ]
    },
    {
      "cell_type": "markdown",
      "metadata": {
        "id": "oFZWqqYYqYRg"
      },
      "source": [
        "Plot feature importance"
      ]
    },
    {
      "cell_type": "code",
      "metadata": {
        "colab": {
          "base_uri": "https://localhost:8080/",
          "height": 265
        },
        "id": "afthsn-VqaXf",
        "outputId": "d8a8fd32-7362-4e8a-cf74-6c7457947cb8"
      },
      "source": [
        "plt.bar([x for x in range(len(importance))], importance)\n",
        "plt.show()"
      ],
      "execution_count": 21,
      "outputs": [
        {
          "output_type": "display_data",
          "data": {
            "image/png": "[encoded data removed]",
            "text/plain": [
              "<Figure size 432x288 with 1 Axes>"
            ]
          },
          "metadata": {
            "tags": [],
            "needs_background": "light"
          }
        }
      ]
    },
    {
      "cell_type": "markdown",
      "metadata": {
        "id": "5aechX9UpfMm"
      },
      "source": [
        "## Classification\n",
        "\n",
        "Import related libraries"
      ]
    },
    {
      "cell_type": "code",
      "metadata": {
        "id": "bDgAH9pIn5yb"
      },
      "source": [
        "from sklearn.datasets import make_classification\n",
        "from sklearn.tree import DecisionTreeClassifier\n",
        "import matplotlib.pyplot as plt"
      ],
      "execution_count": 22,
      "outputs": []
    },
    {
      "cell_type": "markdown",
      "metadata": {
        "id": "kz0rreKhoRNi"
      },
      "source": [
        "Define the dataset"
      ]
    },
    {
      "cell_type": "code",
      "metadata": {
        "id": "Cpc6RuGcoF_7"
      },
      "source": [
        "X, y = make_classification(n_samples=1000, n_features=10, n_informative=5, n_redundant=5, random_state=1)"
      ],
      "execution_count": 23,
      "outputs": []
    },
    {
      "cell_type": "markdown",
      "metadata": {
        "id": "lYywC3wzoUtL"
      },
      "source": [
        "Define the model"
      ]
    },
    {
      "cell_type": "code",
      "metadata": {
        "id": "p83hfUtHoO4T"
      },
      "source": [
        "model = DecisionTreeClassifier()"
      ],
      "execution_count": 24,
      "outputs": []
    },
    {
      "cell_type": "markdown",
      "metadata": {
        "id": "odGMNGVErBzn"
      },
      "source": [
        "Train (fit) the model"
      ]
    },
    {
      "cell_type": "code",
      "metadata": {
        "colab": {
          "base_uri": "https://localhost:8080/"
        },
        "id": "UjaCgb4FrD_4",
        "outputId": "b83bdf3a-1604-440b-f641-42a2d12cbb18"
      },
      "source": [
        "model.fit(X, y)"
      ],
      "execution_count": 25,
      "outputs": [
        {
          "output_type": "execute_result",
          "data": {
            "text/plain": [
              "DecisionTreeClassifier(ccp_alpha=0.0, class_weight=None, criterion='gini',\n",
              "                       max_depth=None, max_features=None, max_leaf_nodes=None,\n",
              "                       min_impurity_decrease=0.0, min_impurity_split=None,\n",
              "                       min_samples_leaf=1, min_samples_split=2,\n",
              "                       min_weight_fraction_leaf=0.0, presort='deprecated',\n",
              "                       random_state=None, splitter='best')"
            ]
          },
          "metadata": {
            "tags": []
          },
          "execution_count": 25
        }
      ]
    },
    {
      "cell_type": "markdown",
      "metadata": {
        "id": "WPS3lJfXrHGm"
      },
      "source": [
        "Feature Importance"
      ]
    },
    {
      "cell_type": "code",
      "metadata": {
        "id": "oIFZrplKrKSA"
      },
      "source": [
        "importance = model.feature_importances_"
      ],
      "execution_count": 26,
      "outputs": []
    },
    {
      "cell_type": "markdown",
      "metadata": {
        "id": "gUnrKlFlrVJ9"
      },
      "source": [
        "Summary feature importance"
      ]
    },
    {
      "cell_type": "code",
      "metadata": {
        "colab": {
          "base_uri": "https://localhost:8080/"
        },
        "id": "VKquguZMrXlh",
        "outputId": "719713eb-b9ee-4c7a-c232-fa3808c91af3"
      },
      "source": [
        "for i, v in enumerate(importance):\n",
        "  print (\"Feature : %0d, Score : %.5f\" %(i, v))"
      ],
      "execution_count": 27,
      "outputs": [
        {
          "output_type": "stream",
          "text": [
            "Feature : 0, Score : 0.01278\n",
            "Feature : 1, Score : 0.01600\n",
            "Feature : 2, Score : 0.18510\n",
            "Feature : 3, Score : 0.30638\n",
            "Feature : 4, Score : 0.09344\n",
            "Feature : 5, Score : 0.00485\n",
            "Feature : 6, Score : 0.16592\n",
            "Feature : 7, Score : 0.05121\n",
            "Feature : 8, Score : 0.12595\n",
            "Feature : 9, Score : 0.03836\n"
          ],
          "name": "stdout"
        }
      ]
    },
    {
      "cell_type": "markdown",
      "metadata": {
        "id": "SmIOylb1rrhk"
      },
      "source": [
        "Plot feature importance"
      ]
    },
    {
      "cell_type": "code",
      "metadata": {
        "colab": {
          "base_uri": "https://localhost:8080/",
          "height": 282
        },
        "id": "sQs23h1PruCs",
        "outputId": "82bc5ee8-a022-4400-cd98-f9ce718a079c"
      },
      "source": [
        "plt.bar([x for x in range(len(importance))], importance)"
      ],
      "execution_count": 28,
      "outputs": [
        {
          "output_type": "execute_result",
          "data": {
            "text/plain": [
              "<BarContainer object of 10 artists>"
            ]
          },
          "metadata": {
            "tags": []
          },
          "execution_count": 28
        },
        {
          "output_type": "display_data",
          "data": {
            "image/png": "[encoded data removed]",
            "text/plain": [
              "<Figure size 432x288 with 1 Axes>"
            ]
          },
          "metadata": {
            "tags": [],
            "needs_background": "light"
          }
        }
      ]
    },
    {
      "cell_type": "markdown",
      "metadata": {
        "id": "JbBujQDfsK5R"
      },
      "source": [
        "---\n",
        "# Random Forest Feature Importance\n",
        "---"
      ]
    },
    {
      "cell_type": "markdown",
      "metadata": {
        "id": "2TARonxvsjn5"
      },
      "source": [
        "## Regression"
      ]
    },
    {
      "cell_type": "markdown",
      "metadata": {
        "id": "oiQfaiyds0s3"
      },
      "source": [
        "Import related libraries"
      ]
    },
    {
      "cell_type": "code",
      "metadata": {
        "id": "GiuW-08Es3K_"
      },
      "source": [
        "from sklearn.datasets import make_regression\n",
        "from sklearn.ensemble import RandomForestRegressor\n",
        "import matplotlib.pyplot as plt"
      ],
      "execution_count": 29,
      "outputs": []
    },
    {
      "cell_type": "markdown",
      "metadata": {
        "id": "ex1Fg4PqtOgS"
      },
      "source": [
        "Define the dataset"
      ]
    },
    {
      "cell_type": "code",
      "metadata": {
        "id": "_y0TXM73tL57"
      },
      "source": [
        "X, y = make_regression(n_samples=1000, n_features=10, n_informative=5, random_state=1)"
      ],
      "execution_count": 30,
      "outputs": []
    },
    {
      "cell_type": "markdown",
      "metadata": {
        "id": "hZWacorKtcrg"
      },
      "source": [
        "Define the model"
      ]
    },
    {
      "cell_type": "code",
      "metadata": {
        "id": "pN1Z4fxVteo8"
      },
      "source": [
        "model = RandomForestRegressor()"
      ],
      "execution_count": 31,
      "outputs": []
    },
    {
      "cell_type": "markdown",
      "metadata": {
        "id": "H1DQEkrXtyBj"
      },
      "source": [
        "Train (fit) the model"
      ]
    },
    {
      "cell_type": "code",
      "metadata": {
        "colab": {
          "base_uri": "https://localhost:8080/"
        },
        "id": "6B3f2DUItxrk",
        "outputId": "e514ec1c-fc64-46d7-9984-e64ca9df68e5"
      },
      "source": [
        "model.fit(X, y)"
      ],
      "execution_count": 32,
      "outputs": [
        {
          "output_type": "execute_result",
          "data": {
            "text/plain": [
              "RandomForestRegressor(bootstrap=True, ccp_alpha=0.0, criterion='mse',\n",
              "                      max_depth=None, max_features='auto', max_leaf_nodes=None,\n",
              "                      max_samples=None, min_impurity_decrease=0.0,\n",
              "                      min_impurity_split=None, min_samples_leaf=1,\n",
              "                      min_samples_split=2, min_weight_fraction_leaf=0.0,\n",
              "                      n_estimators=100, n_jobs=None, oob_score=False,\n",
              "                      random_state=None, verbose=0, warm_start=False)"
            ]
          },
          "metadata": {
            "tags": []
          },
          "execution_count": 32
        }
      ]
    },
    {
      "cell_type": "markdown",
      "metadata": {
        "id": "rwmSizXPuL1Y"
      },
      "source": [
        "Feature Importance"
      ]
    },
    {
      "cell_type": "code",
      "metadata": {
        "id": "9NM7RUO2uXUA"
      },
      "source": [
        "importance = model.feature_importances_"
      ],
      "execution_count": 33,
      "outputs": []
    },
    {
      "cell_type": "markdown",
      "metadata": {
        "id": "Xceqk64uuavB"
      },
      "source": [
        "Summary feature importance"
      ]
    },
    {
      "cell_type": "code",
      "metadata": {
        "colab": {
          "base_uri": "https://localhost:8080/"
        },
        "id": "ghvHyaOrum3N",
        "outputId": "c765aec5-c5fe-4e68-a0ad-46aa06302ce4"
      },
      "source": [
        "for i, v in enumerate(importance):\n",
        "  print (\"Feature : %0d, Score : %.5f\" %(i, v))"
      ],
      "execution_count": 34,
      "outputs": [
        {
          "output_type": "stream",
          "text": [
            "Feature : 0, Score : 0.00284\n",
            "Feature : 1, Score : 0.00574\n",
            "Feature : 2, Score : 0.00273\n",
            "Feature : 3, Score : 0.00293\n",
            "Feature : 4, Score : 0.52704\n",
            "Feature : 5, Score : 0.42326\n",
            "Feature : 6, Score : 0.02684\n",
            "Feature : 7, Score : 0.00269\n",
            "Feature : 8, Score : 0.00309\n",
            "Feature : 9, Score : 0.00285\n"
          ],
          "name": "stdout"
        }
      ]
    },
    {
      "cell_type": "markdown",
      "metadata": {
        "id": "_CVa2meaux7S"
      },
      "source": [
        "Plot feature importance"
      ]
    },
    {
      "cell_type": "code",
      "metadata": {
        "colab": {
          "base_uri": "https://localhost:8080/",
          "height": 282
        },
        "id": "BJaFJ-Egu1Nh",
        "outputId": "74d4324d-2d03-4479-be36-080e46767afc"
      },
      "source": [
        "plt.bar([x for x in range(len(importance))], importance)"
      ],
      "execution_count": 35,
      "outputs": [
        {
          "output_type": "execute_result",
          "data": {
            "text/plain": [
              "<BarContainer object of 10 artists>"
            ]
          },
          "metadata": {
            "tags": []
          },
          "execution_count": 35
        },
        {
          "output_type": "display_data",
          "data": {
            "image/png": "[encoded data removed]",
            "text/plain": [
              "<Figure size 432x288 with 1 Axes>"
            ]
          },
          "metadata": {
            "tags": [],
            "needs_background": "light"
          }
        }
      ]
    },
    {
      "cell_type": "markdown",
      "metadata": {
        "id": "yDcVRWrjvpYF"
      },
      "source": [
        "## Classification"
      ]
    },
    {
      "cell_type": "markdown",
      "metadata": {
        "id": "QjvDLE64vtCp"
      },
      "source": [
        "Import related libraries"
      ]
    },
    {
      "cell_type": "code",
      "metadata": {
        "id": "qkgrx4n-vvLk"
      },
      "source": [
        "from sklearn.datasets import make_classification\n",
        "from sklearn.ensemble import RandomForestClassifier\n",
        "import matplotlib.pyplot as plt"
      ],
      "execution_count": 36,
      "outputs": []
    },
    {
      "cell_type": "markdown",
      "metadata": {
        "id": "xSmcWGPGv47a"
      },
      "source": [
        "Define the dataset"
      ]
    },
    {
      "cell_type": "code",
      "metadata": {
        "id": "AvPE9A7yv721"
      },
      "source": [
        "X, y = make_classification(n_samples=1000, n_features=10, n_informative=5, n_redundant=5, random_state=1)"
      ],
      "execution_count": 37,
      "outputs": []
    },
    {
      "cell_type": "markdown",
      "metadata": {
        "id": "e2cPj5jfwFc7"
      },
      "source": [
        "Define the model"
      ]
    },
    {
      "cell_type": "code",
      "metadata": {
        "id": "pi3wzeQswHIF"
      },
      "source": [
        "model = RandomForestClassifier()"
      ],
      "execution_count": 38,
      "outputs": []
    },
    {
      "cell_type": "markdown",
      "metadata": {
        "id": "rj_jq3fpwJi2"
      },
      "source": [
        "Train (fit) the model"
      ]
    },
    {
      "cell_type": "code",
      "metadata": {
        "colab": {
          "base_uri": "https://localhost:8080/"
        },
        "id": "scEHCbeTwLhM",
        "outputId": "c1b97860-c608-4d52-808c-60f5c689a1d4"
      },
      "source": [
        "model.fit(X, y)"
      ],
      "execution_count": 39,
      "outputs": [
        {
          "output_type": "execute_result",
          "data": {
            "text/plain": [
              "RandomForestClassifier(bootstrap=True, ccp_alpha=0.0, class_weight=None,\n",
              "                       criterion='gini', max_depth=None, max_features='auto',\n",
              "                       max_leaf_nodes=None, max_samples=None,\n",
              "                       min_impurity_decrease=0.0, min_impurity_split=None,\n",
              "                       min_samples_leaf=1, min_samples_split=2,\n",
              "                       min_weight_fraction_leaf=0.0, n_estimators=100,\n",
              "                       n_jobs=None, oob_score=False, random_state=None,\n",
              "                       verbose=0, warm_start=False)"
            ]
          },
          "metadata": {
            "tags": []
          },
          "execution_count": 39
        }
      ]
    },
    {
      "cell_type": "markdown",
      "metadata": {
        "id": "_fclE5U3wNxM"
      },
      "source": [
        "Feature Importance"
      ]
    },
    {
      "cell_type": "code",
      "metadata": {
        "id": "sWax_36VwPo9"
      },
      "source": [
        "importance = model.feature_importances_"
      ],
      "execution_count": 40,
      "outputs": []
    },
    {
      "cell_type": "markdown",
      "metadata": {
        "id": "h_rZj_w_wSi6"
      },
      "source": [
        "Summary feature importance"
      ]
    },
    {
      "cell_type": "code",
      "metadata": {
        "colab": {
          "base_uri": "https://localhost:8080/"
        },
        "id": "Nr-rMXz9wVEA",
        "outputId": "5b102498-09de-4369-8036-26eefe5771f4"
      },
      "source": [
        "for i, v in enumerate(importance):\n",
        "  print (\"Feature : %0d, Score : %.5f\" %(i, v))"
      ],
      "execution_count": 41,
      "outputs": [
        {
          "output_type": "stream",
          "text": [
            "Feature : 0, Score : 0.05928\n",
            "Feature : 1, Score : 0.11117\n",
            "Feature : 2, Score : 0.15667\n",
            "Feature : 3, Score : 0.18972\n",
            "Feature : 4, Score : 0.09321\n",
            "Feature : 5, Score : 0.11060\n",
            "Feature : 6, Score : 0.10339\n",
            "Feature : 7, Score : 0.04743\n",
            "Feature : 8, Score : 0.08057\n",
            "Feature : 9, Score : 0.04796\n"
          ],
          "name": "stdout"
        }
      ]
    },
    {
      "cell_type": "markdown",
      "metadata": {
        "id": "mvcJbPdIww6S"
      },
      "source": [
        "Plot feature importance"
      ]
    },
    {
      "cell_type": "code",
      "metadata": {
        "colab": {
          "base_uri": "https://localhost:8080/",
          "height": 282
        },
        "id": "j1oXJM1Nw0Bi",
        "outputId": "42b07af7-8aa9-4caa-e20e-405f0dbe8212"
      },
      "source": [
        "plt.bar([x for x in range(len(importance))], importance)"
      ],
      "execution_count": 42,
      "outputs": [
        {
          "output_type": "execute_result",
          "data": {
            "text/plain": [
              "<BarContainer object of 10 artists>"
            ]
          },
          "metadata": {
            "tags": []
          },
          "execution_count": 42
        },
        {
          "output_type": "display_data",
          "data": {
            "image/png": "[encoded data removed]",
            "text/plain": [
              "<Figure size 432x288 with 1 Axes>"
            ]
          },
          "metadata": {
            "tags": [],
            "needs_background": "light"
          }
        }
      ]
    },
    {
      "cell_type": "markdown",
      "metadata": {
        "id": "zZf0QyWtu9RK"
      },
      "source": [
        "---\n",
        "# XGBoost Feature Importance\n",
        "---"
      ]
    },
    {
      "cell_type": "markdown",
      "metadata": {
        "id": "urUStNbXvc-T"
      },
      "source": [
        "## Regression"
      ]
    },
    {
      "cell_type": "markdown",
      "metadata": {
        "id": "HMznHr7W7tlM"
      },
      "source": [
        "Import related libraries"
      ]
    },
    {
      "cell_type": "code",
      "metadata": {
        "id": "bZrlklt87wGj"
      },
      "source": [
        "from sklearn.datasets import make_regression\n",
        "from xgboost import XGBRegressor\n",
        "import matplotlib.pyplot as plt"
      ],
      "execution_count": 43,
      "outputs": []
    },
    {
      "cell_type": "markdown",
      "metadata": {
        "id": "faaMtJos75L6"
      },
      "source": [
        "Define the dataset"
      ]
    },
    {
      "cell_type": "code",
      "metadata": {
        "id": "ZK_wKQG_77dO"
      },
      "source": [
        "X, y = make_regression(n_samples=1000, n_features=10, n_informative=5, random_state=1)"
      ],
      "execution_count": 44,
      "outputs": []
    },
    {
      "cell_type": "markdown",
      "metadata": {
        "id": "Ul7e3CMF8GGY"
      },
      "source": [
        "Define the model"
      ]
    },
    {
      "cell_type": "code",
      "metadata": {
        "id": "7l9vXhul8Ium"
      },
      "source": [
        "model =XGBRegressor()"
      ],
      "execution_count": 45,
      "outputs": []
    },
    {
      "cell_type": "markdown",
      "metadata": {
        "id": "qW64fesp8NJ9"
      },
      "source": [
        "Train (fit) the model"
      ]
    },
    {
      "cell_type": "code",
      "metadata": {
        "colab": {
          "base_uri": "https://localhost:8080/"
        },
        "id": "j4eQ0e_i8Mi0",
        "outputId": "a3ebbeb2-c37a-410d-f4d5-30188bbfabf0"
      },
      "source": [
        "model.fit(X, y)"
      ],
      "execution_count": 46,
      "outputs": [
        {
          "output_type": "stream",
          "text": [
            "[11:57:35] WARNING: /workspace/src/objective/regression_obj.cu:152: reg:linear is now deprecated in favor of reg:squarederror.\n"
          ],
          "name": "stdout"
        },
        {
          "output_type": "execute_result",
          "data": {
            "text/plain": [
              "XGBRegressor(base_score=0.5, booster='gbtree', colsample_bylevel=1,\n",
              "             colsample_bynode=1, colsample_bytree=1, gamma=0,\n",
              "             importance_type='gain', learning_rate=0.1, max_delta_step=0,\n",
              "             max_depth=3, min_child_weight=1, missing=None, n_estimators=100,\n",
              "             n_jobs=1, nthread=None, objective='reg:linear', random_state=0,\n",
              "             reg_alpha=0, reg_lambda=1, scale_pos_weight=1, seed=None,\n",
              "             silent=None, subsample=1, verbosity=1)"
            ]
          },
          "metadata": {
            "tags": []
          },
          "execution_count": 46
        }
      ]
    },
    {
      "cell_type": "markdown",
      "metadata": {
        "id": "GJZ1X_gR8RNl"
      },
      "source": [
        "Feature Importance"
      ]
    },
    {
      "cell_type": "code",
      "metadata": {
        "id": "NH6JrHvF8TYH"
      },
      "source": [
        "importance = model.feature_importances_"
      ],
      "execution_count": 47,
      "outputs": []
    },
    {
      "cell_type": "markdown",
      "metadata": {
        "id": "YiXZxb3i8Xdv"
      },
      "source": [
        "Summary feature importance"
      ]
    },
    {
      "cell_type": "code",
      "metadata": {
        "colab": {
          "base_uri": "https://localhost:8080/"
        },
        "id": "nEWiTyv48aOZ",
        "outputId": "b14715f8-99d4-4545-d109-56ab4f1ec7f0"
      },
      "source": [
        "for i, v in enumerate(importance):\n",
        "  print (\"Feature : %0d, Score = %.5f\" %(i, v))"
      ],
      "execution_count": 48,
      "outputs": [
        {
          "output_type": "stream",
          "text": [
            "Feature : 0, Score = 0.00060\n",
            "Feature : 1, Score = 0.01917\n",
            "Feature : 2, Score = 0.00091\n",
            "Feature : 3, Score = 0.00118\n",
            "Feature : 4, Score = 0.49380\n",
            "Feature : 5, Score = 0.42342\n",
            "Feature : 6, Score = 0.05057\n",
            "Feature : 7, Score = 0.00419\n",
            "Feature : 8, Score = 0.00124\n",
            "Feature : 9, Score = 0.00491\n"
          ],
          "name": "stdout"
        }
      ]
    },
    {
      "cell_type": "markdown",
      "metadata": {
        "id": "4W1eCxkE8lWD"
      },
      "source": [
        "Plot feature importance"
      ]
    },
    {
      "cell_type": "code",
      "metadata": {
        "colab": {
          "base_uri": "https://localhost:8080/",
          "height": 282
        },
        "id": "KowRc6yT8oA8",
        "outputId": "007b4c47-72e5-406c-b8ff-99bed55e2fa7"
      },
      "source": [
        "plt.bar([x for x in range(len(importance))], importance)"
      ],
      "execution_count": 49,
      "outputs": [
        {
          "output_type": "execute_result",
          "data": {
            "text/plain": [
              "<BarContainer object of 10 artists>"
            ]
          },
          "metadata": {
            "tags": []
          },
          "execution_count": 49
        },
        {
          "output_type": "display_data",
          "data": {
            "image/png": "[encoded data removed]",
            "text/plain": [
              "<Figure size 432x288 with 1 Axes>"
            ]
          },
          "metadata": {
            "tags": [],
            "needs_background": "light"
          }
        }
      ]
    },
    {
      "cell_type": "markdown",
      "metadata": {
        "id": "TLixZ6Dl8t2_"
      },
      "source": [
        "## Classification"
      ]
    },
    {
      "cell_type": "markdown",
      "metadata": {
        "id": "sblgSzaR8zY_"
      },
      "source": [
        "Import related libraries"
      ]
    },
    {
      "cell_type": "code",
      "metadata": {
        "id": "13KXBCa_bVSn"
      },
      "source": [
        "from sklearn.datasets import make_classification\n",
        "from xgboost import XGBClassifier\n",
        "import matplotlib.pyplot as plt"
      ],
      "execution_count": 50,
      "outputs": []
    },
    {
      "cell_type": "markdown",
      "metadata": {
        "id": "a6q_c9NE84r1"
      },
      "source": [
        "Define the dataset"
      ]
    },
    {
      "cell_type": "code",
      "metadata": {
        "id": "-NTwG9t8bhEX"
      },
      "source": [
        "X, y = make_classification(n_samples=1000, n_features=10, n_informative=5, n_redundant=5, random_state=1)"
      ],
      "execution_count": 51,
      "outputs": []
    },
    {
      "cell_type": "markdown",
      "metadata": {
        "id": "Xj5-b4me86az"
      },
      "source": [
        "Define the model"
      ]
    },
    {
      "cell_type": "code",
      "metadata": {
        "id": "HQ0qi7P3bo2H"
      },
      "source": [
        "model = XGBClassifier()"
      ],
      "execution_count": 52,
      "outputs": []
    },
    {
      "cell_type": "markdown",
      "metadata": {
        "id": "GnEQ02lT89X6"
      },
      "source": [
        "Train (fit) the model"
      ]
    },
    {
      "cell_type": "code",
      "metadata": {
        "colab": {
          "base_uri": "https://localhost:8080/"
        },
        "id": "MXJOjTQkbsgY",
        "outputId": "9ea3fd57-e5ab-48f9-f559-1cb50d01af95"
      },
      "source": [
        "model.fit(X, y)"
      ],
      "execution_count": 53,
      "outputs": [
        {
          "output_type": "execute_result",
          "data": {
            "text/plain": [
              "XGBClassifier(base_score=0.5, booster='gbtree', colsample_bylevel=1,\n",
              "              colsample_bynode=1, colsample_bytree=1, gamma=0,\n",
              "              learning_rate=0.1, max_delta_step=0, max_depth=3,\n",
              "              min_child_weight=1, missing=None, n_estimators=100, n_jobs=1,\n",
              "              nthread=None, objective='binary:logistic', random_state=0,\n",
              "              reg_alpha=0, reg_lambda=1, scale_pos_weight=1, seed=None,\n",
              "              silent=None, subsample=1, verbosity=1)"
            ]
          },
          "metadata": {
            "tags": []
          },
          "execution_count": 53
        }
      ]
    },
    {
      "cell_type": "markdown",
      "metadata": {
        "id": "TL2P1V2V9CoZ"
      },
      "source": [
        "Feature Importance"
      ]
    },
    {
      "cell_type": "code",
      "metadata": {
        "id": "vxhSF4Y8cCi8"
      },
      "source": [
        "importance = model.feature_importances_"
      ],
      "execution_count": 54,
      "outputs": []
    },
    {
      "cell_type": "markdown",
      "metadata": {
        "id": "pktOiab89J4N"
      },
      "source": [
        "Summary feature importance"
      ]
    },
    {
      "cell_type": "code",
      "metadata": {
        "colab": {
          "base_uri": "https://localhost:8080/"
        },
        "id": "GHoJE_BCcIkh",
        "outputId": "5da742b7-80d1-4237-9d63-b4180fbd9cc2"
      },
      "source": [
        "for i, v in enumerate(importance):\n",
        "  print ('Feature : %0d, Score : %.5f' %(i, v))"
      ],
      "execution_count": 55,
      "outputs": [
        {
          "output_type": "stream",
          "text": [
            "Feature : 0, Score : 0.02464\n",
            "Feature : 1, Score : 0.08153\n",
            "Feature : 2, Score : 0.12516\n",
            "Feature : 3, Score : 0.28400\n",
            "Feature : 4, Score : 0.12694\n",
            "Feature : 5, Score : 0.10752\n",
            "Feature : 6, Score : 0.08624\n",
            "Feature : 7, Score : 0.04820\n",
            "Feature : 8, Score : 0.09357\n",
            "Feature : 9, Score : 0.02220\n"
          ],
          "name": "stdout"
        }
      ]
    },
    {
      "cell_type": "markdown",
      "metadata": {
        "id": "u9C_T1oV9MUI"
      },
      "source": [
        "Plot feature importance"
      ]
    },
    {
      "cell_type": "code",
      "metadata": {
        "colab": {
          "base_uri": "https://localhost:8080/",
          "height": 282
        },
        "id": "NOu-IluJcOf3",
        "outputId": "5f1059f5-77b5-43a0-c027-bdc424db956f"
      },
      "source": [
        "plt.bar([x for x in range(len(importance))], importance) "
      ],
      "execution_count": 57,
      "outputs": [
        {
          "output_type": "execute_result",
          "data": {
            "text/plain": [
              "<BarContainer object of 10 artists>"
            ]
          },
          "metadata": {
            "tags": []
          },
          "execution_count": 57
        },
        {
          "output_type": "display_data",
          "data": {
            "image/png": "[encoded data removed]",
            "text/plain": [
              "<Figure size 432x288 with 1 Axes>"
            ]
          },
          "metadata": {
            "tags": [],
            "needs_background": "light"
          }
        }
      ]
    },
    {
      "cell_type": "markdown",
      "metadata": {
        "id": "GmVBDP_b9fLB"
      },
      "source": [
        "---\n",
        "# Permutation Feature Importance\n",
        "---"
      ]
    },
    {
      "cell_type": "markdown",
      "metadata": {
        "id": "m5L0BCMI9ixv"
      },
      "source": [
        "## Regression"
      ]
    },
    {
      "cell_type": "code",
      "metadata": {
        "colab": {
          "base_uri": "https://localhost:8080/",
          "height": 437
        },
        "id": "J0yB8ZN79ojP",
        "outputId": "ae8e0522-9640-48d8-b1c6-4d897a8b8ac1"
      },
      "source": [
        "from sklearn.datasets import make_regression\n",
        "from sklearn.neighbors import KNeighborsRegressor\n",
        "from sklearn.inspection import permutation_importance\n",
        "import matplotlib.pyplot as plt\n",
        "\n",
        "X, y = make_regression(n_samples=1000, n_features=10, n_informative=5, random_state=1)\n",
        "\n",
        "model = KNeighborsRegressor()\n",
        "model.fit(X, y)\n",
        "\n",
        "# perform permutation importance\n",
        "results = permutation_importance(model, X, y, scoring = 'neg_mean_squared_error')\n",
        "\n",
        "# Feature Importance\n",
        "importance = results.importances_mean\n",
        "\n",
        "# Summary feature importance\n",
        "for i, v in enumerate(importance):\n",
        "  print (\"Feature : %0d, Score : %.5f\" %(i, v))\n",
        "\n",
        "# Plot feature importance\n",
        "plt.bar([x for x in range(len(importance))], importance)\n",
        "plt.show()"
      ],
      "execution_count": 58,
      "outputs": [
        {
          "output_type": "stream",
          "text": [
            "Feature : 0, Score : 176.60417\n",
            "Feature : 1, Score : 349.16085\n",
            "Feature : 2, Score : 107.90441\n",
            "Feature : 3, Score : 47.19475\n",
            "Feature : 4, Score : 9636.48174\n",
            "Feature : 5, Score : 7698.08714\n",
            "Feature : 6, Score : 943.20686\n",
            "Feature : 7, Score : 152.43359\n",
            "Feature : 8, Score : 102.70691\n",
            "Feature : 9, Score : 107.70306\n"
          ],
          "name": "stdout"
        },
        {
          "output_type": "display_data",
          "data": {
            "image/png": "[encoded data removed]",
            "text/plain": [
              "<Figure size 432x288 with 1 Axes>"
            ]
          },
          "metadata": {
            "tags": [],
            "needs_background": "light"
          }
        }
      ]
    },
    {
      "cell_type": "markdown",
      "metadata": {
        "id": "0mBPyYqUALeS"
      },
      "source": [
        "## Classification"
      ]
    },
    {
      "cell_type": "code",
      "metadata": {
        "colab": {
          "base_uri": "https://localhost:8080/",
          "height": 435
        },
        "id": "N5LV5zm0AOGh",
        "outputId": "3b9e3183-c38f-4d99-b495-908a391797ad"
      },
      "source": [
        "from sklearn.datasets import make_classification\n",
        "from sklearn.neighbors import KNeighborsClassifier\n",
        "from sklearn.inspection import permutation_importance\n",
        "import matplotlib.pyplot as plt\n",
        "\n",
        "# Define the dataset\n",
        "X, y = make_classification(n_samples=1000, n_features=10, n_informative=5, n_redundant=5, random_state=1)\n",
        "\n",
        "# Define the model\n",
        "model = KNeighborsClassifier()\n",
        "\n",
        "# Train (fit) the model\n",
        "model.fit(X, y)\n",
        "\n",
        "# perform permutation importance\n",
        "results = permutation_importance(model, X, y, scoring = \"accuracy\")\n",
        "\n",
        "# Feature Importance\n",
        "importance = results.importances_mean\n",
        "\n",
        "# Summary feature importance\n",
        "for i, v in enumerate(importance):\n",
        "  print (\"Feature : %0d, Score : %.5f\" %(i, v))\n",
        "\n",
        "# Plot feature importance\n",
        "plt.bar([x for x in range(len(importance))], importance)\n",
        "plt.show()"
      ],
      "execution_count": 59,
      "outputs": [
        {
          "output_type": "stream",
          "text": [
            "Feature : 0, Score : 0.05140\n",
            "Feature : 1, Score : 0.06480\n",
            "Feature : 2, Score : 0.05500\n",
            "Feature : 3, Score : 0.08920\n",
            "Feature : 4, Score : 0.05420\n",
            "Feature : 5, Score : 0.05360\n",
            "Feature : 6, Score : 0.07580\n",
            "Feature : 7, Score : 0.05660\n",
            "Feature : 8, Score : 0.05700\n",
            "Feature : 9, Score : 0.02640\n"
          ],
          "name": "stdout"
        },
        {
          "output_type": "display_data",
          "data": {
            "image/png": "[encoded data removed]",
            "text/plain": [
              "<Figure size 432x288 with 1 Axes>"
            ]
          },
          "metadata": {
            "tags": [],
            "needs_background": "light"
          }
        }
      ]
    },
    {
      "cell_type": "markdown",
      "metadata": {
        "id": "WrlD7Jf6cyqs"
      },
      "source": [
        "---\n",
        "# Feature Selection with Importance\n",
        "---"
      ]
    },
    {
      "cell_type": "markdown",
      "metadata": {
        "id": "nNlcknrJDlBA"
      },
      "source": [
        "# Logistic Regression with Accuracy Score"
      ]
    },
    {
      "cell_type": "code",
      "metadata": {
        "colab": {
          "base_uri": "https://localhost:8080/"
        },
        "id": "9yohlBfqCZbi",
        "outputId": "9c3b0bf9-f8a3-42af-ca02-826bde1e89ab"
      },
      "source": [
        "from sklearn.datasets import make_classification\n",
        "from sklearn.linear_model import LogisticRegression\n",
        "from sklearn.model_selection import train_test_split\n",
        "from sklearn.metrics import accuracy_score\n",
        "\n",
        "# Define the dataset\n",
        "X, y = make_classification(n_samples=1000, n_features=10, n_informative=5, n_redundant=5, random_state=1)\n",
        "\n",
        "# Separate train & test data\n",
        "X_train, X_test, y_train, y_test = train_test_split(X, y, test_size=0.33, random_state=1)\n",
        "\n",
        "# Define the model\n",
        "model = LogisticRegression()\n",
        "model.fit(X_train, y_train)\n",
        "\n",
        "# Get prediction results\n",
        "y_pred = model.predict(X_test)\n",
        "\n",
        "# Get accuracy score\n",
        "print (\"Accuracy = \", round(100*accuracy_score(y_test, y_pred), 2))"
      ],
      "execution_count": 60,
      "outputs": [
        {
          "output_type": "stream",
          "text": [
            "Accuracy =  84.55\n"
          ],
          "name": "stdout"
        }
      ]
    },
    {
      "cell_type": "markdown",
      "metadata": {
        "id": "11gZr01tDfFA"
      },
      "source": [
        "## Random Forest with Feature Selection"
      ]
    },
    {
      "cell_type": "code",
      "metadata": {
        "id": "GRQMqR_Ncq_K"
      },
      "source": [
        "from sklearn.datasets import make_classification\n",
        "from sklearn.ensemble import RandomForestClassifier\n",
        "from sklearn.model_selection import train_test_split\n",
        "from sklearn.linear_model import LogisticRegression\n",
        "from sklearn.metrics import accuracy_score\n",
        "from sklearn.feature_selection import SelectFromModel"
      ],
      "execution_count": 61,
      "outputs": []
    },
    {
      "cell_type": "code",
      "metadata": {
        "id": "zj7lR-J4dUD6"
      },
      "source": [
        "def select_features(X_train, y_train, X_test):\n",
        "  fs = SelectFromModel(RandomForestClassifier(n_estimators=1000), max_features=5)\n",
        "  fs.fit(X_train, y_train)\n",
        "  X_train_fs = fs.transform(X_train)\n",
        "  X_test_fs = fs.transform(X_test)\n",
        "  return X_train_fs, X_test_fs, fs"
      ],
      "execution_count": 62,
      "outputs": []
    },
    {
      "cell_type": "code",
      "metadata": {
        "id": "fyDSm14kdItP"
      },
      "source": [
        "# Define the data\n",
        "X, y = make_classification(n_samples=1000, n_features=10, n_informative=5, n_redundant=5, random_state=1)"
      ],
      "execution_count": 63,
      "outputs": []
    },
    {
      "cell_type": "code",
      "metadata": {
        "id": "HfjT-koddTd5"
      },
      "source": [
        "# Separate train & test data\n",
        "X_train, X_test, y_train, y_test = train_test_split (X, y, test_size=0.33, random_state=1)"
      ],
      "execution_count": 64,
      "outputs": []
    },
    {
      "cell_type": "code",
      "metadata": {
        "id": "SVGKJik5eI49"
      },
      "source": [
        "# Select features\n",
        "X_train_fs, X_test_fs, fs = select_features(X_train, y_train, X_test)"
      ],
      "execution_count": 65,
      "outputs": []
    },
    {
      "cell_type": "code",
      "metadata": {
        "colab": {
          "base_uri": "https://localhost:8080/"
        },
        "id": "4R7vrme1efM0",
        "outputId": "217798b9-cd8c-4620-8788-74ca9a0c80c8"
      },
      "source": [
        "X_train_fs[:5]"
      ],
      "execution_count": 66,
      "outputs": [
        {
          "output_type": "execute_result",
          "data": {
            "text/plain": [
              "array([[ 1.31306008,  0.56262961,  2.55017079,  0.55720675,  1.78240576],\n",
              "       [ 0.61255809, -0.09624884,  1.13429671, -0.07359238,  0.70191433],\n",
              "       [ 0.44400747, -0.7296659 , -1.18520466, -3.49921447, -0.23007832],\n",
              "       [ 1.76082427,  2.6482884 ,  1.92936154,  0.91604706, -0.78474642],\n",
              "       [ 0.50598691,  0.0179577 ,  0.31148354, -1.21470721, -2.91086162]])"
            ]
          },
          "metadata": {
            "tags": []
          },
          "execution_count": 66
        }
      ]
    },
    {
      "cell_type": "code",
      "metadata": {
        "colab": {
          "base_uri": "https://localhost:8080/"
        },
        "id": "KkMTZQFEewDk",
        "outputId": "4ce8a6a4-dafe-4da7-d9db-d823bbdaf835"
      },
      "source": [
        "X_train[:5]"
      ],
      "execution_count": 67,
      "outputs": [
        {
          "output_type": "execute_result",
          "data": {
            "text/plain": [
              "array([[-2.77615981,  1.31306008,  0.56262961,  2.55017079, -0.44536324,\n",
              "         0.55720675,  1.78240576,  6.06716756, -1.87178209,  3.01127815],\n",
              "       [-0.82887082,  0.61255809, -0.09624884,  1.13429671,  0.23240574,\n",
              "        -0.07359238,  0.70191433,  2.46675701, -1.01793047,  1.02630579],\n",
              "       [ 2.40749474,  0.44400747, -0.7296659 , -1.18520466,  2.61762008,\n",
              "        -3.49921447, -0.23007832,  1.43994642, -1.22790616,  0.7306135 ],\n",
              "       [-1.27294205,  1.76082427,  2.6482884 ,  1.92936154, -1.30345588,\n",
              "         0.91604706, -0.78474642,  6.40832691, -1.66879204,  4.69707787],\n",
              "       [ 3.269719  ,  0.50598691,  0.0179577 ,  0.31148354,  1.98714868,\n",
              "        -1.21470721, -2.91086162,  0.3588385 , -2.1711751 ,  0.23512422]])"
            ]
          },
          "metadata": {
            "tags": []
          },
          "execution_count": 67
        }
      ]
    },
    {
      "cell_type": "code",
      "metadata": {
        "id": "HqFjRwD4eyth",
        "colab": {
          "base_uri": "https://localhost:8080/"
        },
        "outputId": "d5b4b514-a759-402f-9953-957bcf6fc557"
      },
      "source": [
        "# Define the model\n",
        "model = LogisticRegression(solver='liblinear')\n",
        "\n",
        "# Train (fit) the model\n",
        "model.fit(X_train_fs, y_train)\n",
        "\n",
        "# Get prediction results\n",
        "yhat = model.predict(X_test_fs)\n",
        "\n",
        "# Get accuracy score\n",
        "acc = accuracy_score(y_test, yhat)\n",
        "print (\"Accuracy Score =\", round(acc*100,2))"
      ],
      "execution_count": 73,
      "outputs": [
        {
          "output_type": "stream",
          "text": [
            "Accuracy Score = 84.55\n"
          ],
          "name": "stdout"
        }
      ]
    },
    {
      "cell_type": "code",
      "metadata": {
        "id": "QEH7Vo9NFbs8"
      },
      "source": [
        ""
      ],
      "execution_count": 73,
      "outputs": []
    }
  ]
}