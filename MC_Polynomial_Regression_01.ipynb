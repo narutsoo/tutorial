{
  "nbformat": 4,
  "nbformat_minor": 0,
  "metadata": {
    "colab": {
      "name": "MC_Polynomial_Regression_01.ipynb",
      "provenance": [],
      "authorship_tag": "ABX9TyPDM78irnZ7el6q+NuKyxxd",
      "include_colab_link": true
    },
    "kernelspec": {
      "name": "python3",
      "display_name": "Python 3"
    }
  },
  "cells": [
    {
      "cell_type": "markdown",
      "metadata": {
        "id": "view-in-github",
        "colab_type": "text"
      },
      "source": [
        "<a href=\"https://colab.research.google.com/github/narutsoo/tutorial/blob/master/MC_Polynomial_Regression_01.ipynb\" target=\"_parent\"><img src=\"https://colab.research.google.com/assets/colab-badge.svg\" alt=\"Open In Colab\"/></a>"
      ]
    },
    {
      "cell_type": "markdown",
      "metadata": {
        "id": "w18VoqIoBYRY"
      },
      "source": [
        "---\n",
        "\n",
        "# 01 : Polynomial Regression \n",
        "\n",
        "---"
      ]
    },
    {
      "cell_type": "markdown",
      "metadata": {
        "id": "m0--PXvg-oJb"
      },
      "source": [
        "* To import data .. Area (Sq.wa.) and Price x 1,000 (Baht) \n"
      ]
    },
    {
      "cell_type": "code",
      "metadata": {
        "id": "ClKwgF4Sw1nx"
      },
      "source": [
        "import numpy as np\n",
        "\n",
        "X = np.array ([80, 104,  94,  72,  78, 130,  94, 114, 114, 104, \n",
        "               110, 86,  98, 110, 104, 106,  86, 116, 106, 128])\n",
        "\n",
        "y = np.array ([7300, 9900, 9800, 4600, 7500, 10400, 9700, 9700, 10000, 10100, \n",
        "               9800, 8900, 9700, 9500, 9800, 9800, 8900, 9900, 9800, 10300])"
      ],
      "execution_count": 1,
      "outputs": []
    },
    {
      "cell_type": "code",
      "metadata": {
        "id": "H-pIvpsnBFS8"
      },
      "source": [
        "X = X.reshape(-1, 1)\n",
        "y = y.reshape(-1, 1)"
      ],
      "execution_count": 2,
      "outputs": []
    },
    {
      "cell_type": "markdown",
      "metadata": {
        "id": "tKZIktpDB5gU"
      },
      "source": [
        "* To import related libraries .. Matplotlib (For visualization)"
      ]
    },
    {
      "cell_type": "code",
      "metadata": {
        "id": "F_1TzwHCBvnN"
      },
      "source": [
        "import matplotlib.pyplot as plt"
      ],
      "execution_count": 3,
      "outputs": []
    },
    {
      "cell_type": "code",
      "metadata": {
        "id": "12ICXnaFByO-",
        "colab": {
          "base_uri": "https://localhost:8080/",
          "height": 269
        },
        "outputId": "e55fc92a-931b-4064-aba6-c21dc206a3b1"
      },
      "source": [
        "plt.scatter(X, y, s = 40, color='green', marker='D', alpha=.3, label = 'Data')\n",
        "plt.xticks(fontsize=14)\n",
        "plt.yticks(fontsize=14)\n",
        "plt.xlim([68,134])\n",
        "plt.ylim([4200,11500])\n",
        "plt.show()"
      ],
      "execution_count": 4,
      "outputs": [
        {
          "output_type": "display_data",
          "data": {
            "image/png": "[encoded data removed]",
            "text/plain": [
              "<Figure size 432x288 with 1 Axes>"
            ]
          },
          "metadata": {
            "tags": [],
            "needs_background": "light"
          }
        }
      ]
    },
    {
      "cell_type": "markdown",
      "metadata": {
        "id": "QHLg4_O9CMPr"
      },
      "source": [
        "* To import Scikit-learn\n",
        "* To use \"polynomial features\" and \"linear model\" from Scikit-learn"
      ]
    },
    {
      "cell_type": "code",
      "metadata": {
        "id": "jWgGUh9dWhtD"
      },
      "source": [
        "from sklearn.preprocessing import PolynomialFeatures\n",
        "\n",
        "from sklearn.linear_model import LinearRegression"
      ],
      "execution_count": 5,
      "outputs": []
    },
    {
      "cell_type": "markdown",
      "metadata": {
        "id": "CfCUFLHoKU_7"
      },
      "source": [
        "* To prepare Polynomial Features .. by defining Degree of Polynomial (order = 3, in this case)"
      ]
    },
    {
      "cell_type": "code",
      "metadata": {
        "id": "QWL9KFeHCDaM"
      },
      "source": [
        "poly_feature = PolynomialFeatures(degree=3) \n",
        "\n",
        "\n",
        "X_poly = poly_feature.fit_transform(X)"
      ],
      "execution_count": 6,
      "outputs": []
    },
    {
      "cell_type": "code",
      "metadata": {
        "colab": {
          "base_uri": "https://localhost:8080/"
        },
        "id": "wSA9mCH3MoQs",
        "outputId": "72e3be49-91ca-4313-8c92-ab3b92d3fc3f"
      },
      "source": [
        "X_poly"
      ],
      "execution_count": 7,
      "outputs": [
        {
          "output_type": "execute_result",
          "data": {
            "text/plain": [
              "array([[1.000000e+00, 8.000000e+01, 6.400000e+03, 5.120000e+05],\n",
              "       [1.000000e+00, 1.040000e+02, 1.081600e+04, 1.124864e+06],\n",
              "       [1.000000e+00, 9.400000e+01, 8.836000e+03, 8.305840e+05],\n",
              "       [1.000000e+00, 7.200000e+01, 5.184000e+03, 3.732480e+05],\n",
              "       [1.000000e+00, 7.800000e+01, 6.084000e+03, 4.745520e+05],\n",
              "       [1.000000e+00, 1.300000e+02, 1.690000e+04, 2.197000e+06],\n",
              "       [1.000000e+00, 9.400000e+01, 8.836000e+03, 8.305840e+05],\n",
              "       [1.000000e+00, 1.140000e+02, 1.299600e+04, 1.481544e+06],\n",
              "       [1.000000e+00, 1.140000e+02, 1.299600e+04, 1.481544e+06],\n",
              "       [1.000000e+00, 1.040000e+02, 1.081600e+04, 1.124864e+06],\n",
              "       [1.000000e+00, 1.100000e+02, 1.210000e+04, 1.331000e+06],\n",
              "       [1.000000e+00, 8.600000e+01, 7.396000e+03, 6.360560e+05],\n",
              "       [1.000000e+00, 9.800000e+01, 9.604000e+03, 9.411920e+05],\n",
              "       [1.000000e+00, 1.100000e+02, 1.210000e+04, 1.331000e+06],\n",
              "       [1.000000e+00, 1.040000e+02, 1.081600e+04, 1.124864e+06],\n",
              "       [1.000000e+00, 1.060000e+02, 1.123600e+04, 1.191016e+06],\n",
              "       [1.000000e+00, 8.600000e+01, 7.396000e+03, 6.360560e+05],\n",
              "       [1.000000e+00, 1.160000e+02, 1.345600e+04, 1.560896e+06],\n",
              "       [1.000000e+00, 1.060000e+02, 1.123600e+04, 1.191016e+06],\n",
              "       [1.000000e+00, 1.280000e+02, 1.638400e+04, 2.097152e+06]])"
            ]
          },
          "metadata": {
            "tags": []
          },
          "execution_count": 7
        }
      ]
    },
    {
      "cell_type": "code",
      "metadata": {
        "id": "S_I3JAUH_Z54"
      },
      "source": [
        "poly_model = LinearRegression()"
      ],
      "execution_count": 8,
      "outputs": []
    },
    {
      "cell_type": "markdown",
      "metadata": {
        "id": "K-bhJwEoBaSw"
      },
      "source": [
        "* To fit (train) the model by using x_poly, y"
      ]
    },
    {
      "cell_type": "code",
      "metadata": {
        "id": "d7CCx3mlBdLG"
      },
      "source": [
        "poly_model = poly_model.fit(X_poly, y)"
      ],
      "execution_count": 9,
      "outputs": []
    },
    {
      "cell_type": "markdown",
      "metadata": {
        "id": "LWbBGZKW_gbi"
      },
      "source": [
        "* At this step, the Polynomial Model is obtained (presented by the red line)"
      ]
    },
    {
      "cell_type": "markdown",
      "metadata": {
        "id": "C_HltKexdQ3N"
      },
      "source": [
        "![image.png](data:image/png;base64,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)"
      ]
    },
    {
      "cell_type": "code",
      "metadata": {
        "id": "vXzl5wIDAsod"
      },
      "source": [
        "y_pred_poly = poly_model.predict(X_poly)"
      ],
      "execution_count": 10,
      "outputs": []
    },
    {
      "cell_type": "markdown",
      "metadata": {
        "id": "E-_1DbG3Azeh"
      },
      "source": [
        "* To visualize the Linear Regression Model (red line) comparing with data (green)"
      ]
    },
    {
      "cell_type": "code",
      "metadata": {
        "id": "rjCX98OfArOR",
        "colab": {
          "base_uri": "https://localhost:8080/",
          "height": 269
        },
        "outputId": "96172d19-af93-4dd6-e7be-d53ea72b6e10"
      },
      "source": [
        "# Plot ข้อมูล (x,y) \n",
        "plt.scatter(X, y, s = 40, color='green', marker='D', alpha=.3, label = 'Data')\n",
        "\n",
        "# เตรียมข้อมูล และ Plot Polynomial Regression Model (x,y_pred_poly) \n",
        "sorted_zip = sorted(zip(X, y_pred_poly))\n",
        "X_plot, y_pred_plot = zip(*sorted_zip)\n",
        "\n",
        "plt.plot(X_plot, y_pred_plot, linewidth=4, color='r', label='Polynomial')\n",
        "\n",
        "plt.xticks(fontsize=14)\n",
        "plt.yticks(fontsize=14)\n",
        "plt.xlim([68,134])\n",
        "plt.ylim([4200,11500])\n",
        "\n",
        "plt.legend(loc = 'lower right')\n",
        "plt.show()"
      ],
      "execution_count": 11,
      "outputs": [
        {
          "output_type": "display_data",
          "data": {
            "image/png": "[encoded data removed]",
            "text/plain": [
              "<Figure size 432x288 with 1 Axes>"
            ]
          },
          "metadata": {
            "tags": [],
            "needs_background": "light"
          }
        }
      ]
    },
    {
      "cell_type": "markdown",
      "metadata": {
        "id": "N4ArTfGgDSok"
      },
      "source": [
        "* To evaluate the model"
      ]
    },
    {
      "cell_type": "code",
      "metadata": {
        "id": "bEWZSXPDDX-2",
        "colab": {
          "base_uri": "https://localhost:8080/"
        },
        "outputId": "6473a6f4-5697-45fe-d727-b1b0ba2077df"
      },
      "source": [
        "from sklearn.metrics import mean_squared_error, r2_score\n",
        "\n",
        "rmse_poly = np.sqrt(mean_squared_error(y, y_pred_poly))\n",
        "print ('RMSE (Root Mean Squared Error) = ', rmse_poly)\n",
        "\n",
        "r2_poly = r2_score(y, y_pred_poly)\n",
        "print ('R2 = ', r2_poly)"
      ],
      "execution_count": 12,
      "outputs": [
        {
          "output_type": "stream",
          "text": [
            "RMSE (Root Mean Squared Error) =  179.3334563642536\n",
            "R2 =  0.9818619995648583\n"
          ],
          "name": "stdout"
        }
      ]
    },
    {
      "cell_type": "markdown",
      "metadata": {
        "id": "uqDioBZOK5Oa"
      },
      "source": [
        "---\n",
        "### To make prediction .. if House's Area = 120 Sq.wa.\n",
        "*   Using Polynomial Feature to transform .. poly_feature.fit_transform()\n",
        "*   To predict by using poly_model.predict()"
      ]
    },
    {
      "cell_type": "code",
      "metadata": {
        "id": "NPi5vHUrd37M"
      },
      "source": [
        "x_poly_pred = poly_feature.fit_transform([[120]])"
      ],
      "execution_count": 13,
      "outputs": []
    },
    {
      "cell_type": "code",
      "metadata": {
        "colab": {
          "base_uri": "https://localhost:8080/"
        },
        "id": "qUeUbYund8B3",
        "outputId": "a098b165-acf5-4b5c-ef57-cd76d4edf7d4"
      },
      "source": [
        "poly_model.predict(x_poly_pred)"
      ],
      "execution_count": 14,
      "outputs": [
        {
          "output_type": "execute_result",
          "data": {
            "text/plain": [
              "array([[9766.86169353]])"
            ]
          },
          "metadata": {
            "tags": []
          },
          "execution_count": 14
        }
      ]
    },
    {
      "cell_type": "code",
      "metadata": {
        "id": "4yqWUf3JeobZ"
      },
      "source": [
        ""
      ],
      "execution_count": 14,
      "outputs": []
    }
  ]
}