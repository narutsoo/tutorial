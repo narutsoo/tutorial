{
  "nbformat": 4,
  "nbformat_minor": 0,
  "metadata": {
    "colab": {
      "name": "MC_Classification_DecisionTree.ipynb",
      "provenance": [],
      "authorship_tag": "ABX9TyNBMOWKFhL3LxYZD5XwPxee",
      "include_colab_link": true
    },
    "kernelspec": {
      "name": "python3",
      "display_name": "Python 3"
    },
    "language_info": {
      "name": "python"
    }
  },
  "cells": [
    {
      "cell_type": "markdown",
      "metadata": {
        "id": "view-in-github",
        "colab_type": "text"
      },
      "source": [
        "<a href=\"https://colab.research.google.com/github/narutsoo/tutorial/blob/master/MC_Classification_DecisionTree.ipynb\" target=\"_parent\"><img src=\"https://colab.research.google.com/assets/colab-badge.svg\" alt=\"Open In Colab\"/></a>"
      ]
    },
    {
      "cell_type": "markdown",
      "metadata": {
        "id": "OOl9qbLxarpu"
      },
      "source": [
        "---\n",
        "# Classification : Decision Tree\n",
        "---\n"
      ]
    },
    {
      "cell_type": "markdown",
      "metadata": {
        "id": "nOoVD9dja6cE"
      },
      "source": [
        "* To import related libraries"
      ]
    },
    {
      "cell_type": "code",
      "metadata": {
        "id": "VHwc54iwDRjG"
      },
      "source": [
        "from sklearn.datasets import load_iris\n",
        "from sklearn.tree import DecisionTreeClassifier"
      ],
      "execution_count": 1,
      "outputs": []
    },
    {
      "cell_type": "markdown",
      "metadata": {
        "id": "ZMG4mitnbN3O"
      },
      "source": [
        "* To define the dataset"
      ]
    },
    {
      "cell_type": "code",
      "metadata": {
        "id": "JWYl7fv7DWnH"
      },
      "source": [
        "iris = load_iris()"
      ],
      "execution_count": 2,
      "outputs": []
    },
    {
      "cell_type": "code",
      "metadata": {
        "colab": {
          "base_uri": "https://localhost:8080/"
        },
        "id": "DEnSkkH0DZjL",
        "outputId": "5aeee493-fff7-4bdf-bdac-8e174ec9c8b0"
      },
      "source": [
        "iris.keys()"
      ],
      "execution_count": 3,
      "outputs": [
        {
          "output_type": "execute_result",
          "data": {
            "text/plain": [
              "dict_keys(['data', 'target', 'target_names', 'DESCR', 'feature_names', 'filename'])"
            ]
          },
          "metadata": {
            "tags": []
          },
          "execution_count": 3
        }
      ]
    },
    {
      "cell_type": "code",
      "metadata": {
        "colab": {
          "base_uri": "https://localhost:8080/"
        },
        "id": "vCzWuQyBX6JS",
        "outputId": "565f497f-32d9-47f1-cefe-db2b49fc7726"
      },
      "source": [
        "print (iris.feature_names)\n",
        "print (iris.target_names)"
      ],
      "execution_count": 26,
      "outputs": [
        {
          "output_type": "stream",
          "text": [
            "['sepal length (cm)', 'sepal width (cm)', 'petal length (cm)', 'petal width (cm)']\n",
            "['setosa' 'versicolor' 'virginica']\n"
          ],
          "name": "stdout"
        }
      ]
    },
    {
      "cell_type": "code",
      "metadata": {
        "colab": {
          "base_uri": "https://localhost:8080/"
        },
        "id": "VvyGsS6bf_W7",
        "outputId": "78c95faf-4f70-4fee-a4d5-34b67b284a3f"
      },
      "source": [
        "iris.data[:5]"
      ],
      "execution_count": 23,
      "outputs": [
        {
          "output_type": "execute_result",
          "data": {
            "text/plain": [
              "array([[5.1, 3.5, 1.4, 0.2],\n",
              "       [4.9, 3. , 1.4, 0.2],\n",
              "       [4.7, 3.2, 1.3, 0.2],\n",
              "       [4.6, 3.1, 1.5, 0.2],\n",
              "       [5. , 3.6, 1.4, 0.2]])"
            ]
          },
          "metadata": {
            "tags": []
          },
          "execution_count": 23
        }
      ]
    },
    {
      "cell_type": "markdown",
      "metadata": {
        "id": "EK0wimc1bT4j"
      },
      "source": [
        "* To select the features \"petal length (cm)\" and \"petal width (cm)\"\n",
        "* To define the input and output variables"
      ]
    },
    {
      "cell_type": "code",
      "metadata": {
        "id": "MkhX6gWhDpuQ"
      },
      "source": [
        "X = iris.data[:,2:]\n",
        "y = iris.target"
      ],
      "execution_count": 5,
      "outputs": []
    },
    {
      "cell_type": "markdown",
      "metadata": {
        "id": "rMjBg8MqbJ1c"
      },
      "source": [
        "* To define the model"
      ]
    },
    {
      "cell_type": "code",
      "metadata": {
        "id": "BGAb81n5Dvks"
      },
      "source": [
        "clf = DecisionTreeClassifier(max_depth=2)"
      ],
      "execution_count": 6,
      "outputs": []
    },
    {
      "cell_type": "markdown",
      "metadata": {
        "id": "e_cz8yd_bllC"
      },
      "source": [
        "* To fit the model"
      ]
    },
    {
      "cell_type": "code",
      "metadata": {
        "colab": {
          "base_uri": "https://localhost:8080/"
        },
        "id": "OzRGDfBUDzBN",
        "outputId": "ab07eca2-a6da-4faa-a449-b5e8a941125e"
      },
      "source": [
        "clf.fit(X,y)"
      ],
      "execution_count": 7,
      "outputs": [
        {
          "output_type": "execute_result",
          "data": {
            "text/plain": [
              "DecisionTreeClassifier(ccp_alpha=0.0, class_weight=None, criterion='gini',\n",
              "                       max_depth=2, max_features=None, max_leaf_nodes=None,\n",
              "                       min_impurity_decrease=0.0, min_impurity_split=None,\n",
              "                       min_samples_leaf=1, min_samples_split=2,\n",
              "                       min_weight_fraction_leaf=0.0, presort='deprecated',\n",
              "                       random_state=None, splitter='best')"
            ]
          },
          "metadata": {
            "tags": []
          },
          "execution_count": 7
        }
      ]
    },
    {
      "cell_type": "markdown",
      "metadata": {
        "id": "f0LCuWrobp7C"
      },
      "source": [
        "* To visualize the Decision Tree"
      ]
    },
    {
      "cell_type": "code",
      "metadata": {
        "id": "k8KlTlyYD5ny"
      },
      "source": [
        "import graphviz\n",
        "with open(\"tree.dot\") as f:\n",
        "    dot_graph = f.read()"
      ],
      "execution_count": 17,
      "outputs": []
    },
    {
      "cell_type": "code",
      "metadata": {
        "colab": {
          "base_uri": "https://localhost:8080/",
          "height": 35
        },
        "id": "LUrFu4-zFErI",
        "outputId": "31fe429c-9d38-466f-cc83-fea442f04cc3"
      },
      "source": [
        "g = graphviz.Source(dot_graph)\n",
        "g.format = \"png\"\n",
        "g.render(\"file_name\")"
      ],
      "execution_count": 18,
      "outputs": [
        {
          "output_type": "execute_result",
          "data": {
            "application/vnd.google.colaboratory.intrinsic+json": {
              "type": "string"
            },
            "text/plain": [
              "'file_name.png'"
            ]
          },
          "metadata": {
            "tags": []
          },
          "execution_count": 18
        }
      ]
    },
    {
      "cell_type": "markdown",
      "metadata": {
        "id": "oyOHbLzmb26k"
      },
      "source": [
        "* To make prediction"
      ]
    },
    {
      "cell_type": "code",
      "metadata": {
        "id": "Sl5MgR86GnrI",
        "colab": {
          "base_uri": "https://localhost:8080/"
        },
        "outputId": "43b412c5-91be-4bbf-9fd1-a3f467b090a3"
      },
      "source": [
        "# Predict Class\n",
        "clf.predict([[5, 1.5]])"
      ],
      "execution_count": 24,
      "outputs": [
        {
          "output_type": "execute_result",
          "data": {
            "text/plain": [
              "array([1])"
            ]
          },
          "metadata": {
            "tags": []
          },
          "execution_count": 24
        }
      ]
    },
    {
      "cell_type": "code",
      "metadata": {
        "colab": {
          "base_uri": "https://localhost:8080/"
        },
        "id": "aJb1VIOdFYcC",
        "outputId": "9cd5a7bb-a2d6-464d-b30f-32a1cc01223c"
      },
      "source": [
        "# Predict Probability\n",
        "clf.predict_proba([[5, 1.5]])"
      ],
      "execution_count": 27,
      "outputs": [
        {
          "output_type": "execute_result",
          "data": {
            "text/plain": [
              "array([[0.        , 0.90740741, 0.09259259]])"
            ]
          },
          "metadata": {
            "tags": []
          },
          "execution_count": 27
        }
      ]
    },
    {
      "cell_type": "code",
      "metadata": {
        "id": "vhpVR8aghNO5"
      },
      "source": [
        ""
      ],
      "execution_count": null,
      "outputs": []
    }
  ]
}