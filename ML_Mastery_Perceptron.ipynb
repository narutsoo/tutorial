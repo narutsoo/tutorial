{
  "nbformat": 4,
  "nbformat_minor": 0,
  "metadata": {
    "colab": {
      "name": "ML_Mastery_Perceptron.ipynb",
      "provenance": [],
      "authorship_tag": "ABX9TyO+b/eQA1BD9NFyR4CBm+l/",
      "include_colab_link": true
    },
    "kernelspec": {
      "name": "python3",
      "display_name": "Python 3"
    },
    "language_info": {
      "name": "python"
    }
  },
  "cells": [
    {
      "cell_type": "markdown",
      "metadata": {
        "id": "view-in-github",
        "colab_type": "text"
      },
      "source": [
        "<a href=\"https://colab.research.google.com/github/narutsoo/tutorial/blob/master/ML_Mastery_Perceptron.ipynb\" target=\"_parent\"><img src=\"https://colab.research.google.com/assets/colab-badge.svg\" alt=\"Open In Colab\"/></a>"
      ]
    },
    {
      "cell_type": "markdown",
      "metadata": {
        "id": "jDbdwApYROJo"
      },
      "source": [
        "# Topic : Perceptron Algorithm for Classification in Python\n",
        "*Reference*\n",
        "* https://machinelearningmastery.com/perceptron-algorithm-for-classification-in-python/?fbclid=IwAR3MQiQVL67OP22joGKr1z8tCebohrLjHAXVcCXZ2pg10YhP9Sj40jWbusE"
      ]
    },
    {
      "cell_type": "markdown",
      "metadata": {
        "id": "CPefjlWuR-3b"
      },
      "source": [
        "## To import related libraries"
      ]
    },
    {
      "cell_type": "code",
      "metadata": {
        "colab": {
          "base_uri": "https://localhost:8080/"
        },
        "id": "34u7oGBNQ6Lh",
        "outputId": "c1c1cb03-4638-4f5b-e223-386bdc6e79a9"
      },
      "source": [
        "from sklearn.datasets import make_classification\n",
        "from sklearn.linear_model import Perceptron\n",
        "from sklearn.model_selection import cross_val_score\n",
        "from sklearn.model_selection import RepeatedStratifiedKFold\n",
        "import numpy as np\n",
        "\n",
        "# Define the dataset\n",
        "X, y = make_classification(n_samples=1000, n_features=10, n_informative=10, n_redundant=0, random_state=1)\n",
        "\n",
        "# Define the model\n",
        "model = Perceptron()\n",
        "\n",
        "# Define model evaluation method\n",
        "cv = RepeatedStratifiedKFold(n_splits=10, n_repeats=3, random_state=1)\n",
        "\n",
        "# Evaluate the model\n",
        "scores = cross_val_score(model, X, y, scoring='accuracy', cv=cv, n_jobs=-1)\n",
        "\n",
        "# Summary the result\n",
        "print ('Accuracy Mean = %.3f , Std = %.3f' % (np.mean(scores), np.std(scores)))"
      ],
      "execution_count": 1,
      "outputs": [
        {
          "output_type": "stream",
          "text": [
            "Accuracy Mean = 0.847 , Std = 0.052\n"
          ],
          "name": "stdout"
        }
      ]
    },
    {
      "cell_type": "markdown",
      "metadata": {
        "id": "H5g_-KWIUsr0"
      },
      "source": [
        "## To make a prediction"
      ]
    },
    {
      "cell_type": "code",
      "metadata": {
        "colab": {
          "base_uri": "https://localhost:8080/"
        },
        "id": "PafJrRBBUCT2",
        "outputId": "9e411e1f-99a3-4c99-a42e-46d57e272bd1"
      },
      "source": [
        "from sklearn.datasets import make_classification\n",
        "from sklearn.linear_model import Perceptron\n",
        "\n",
        "# Define the dataset\n",
        "X, y = make_classification(n_samples=1000, n_features=10, n_informative=10, n_redundant=0, random_state=1)\n",
        "\n",
        "# Define the model\n",
        "model = Perceptron()\n",
        "\n",
        "# Fit the mode\n",
        "model.fit(X, y)\n",
        "\n",
        "# Define the new data\n",
        "row = [0.12777556,-3.64400522,-2.23268854,-1.82114386,1.75466361,0.1243966,1.03397657,2.35822076,1.01001752,0.56768485]\n",
        "\n",
        "# Make a prediction\n",
        "yhat = model.predict([row])\n",
        "\n",
        "# To print the result\n",
        "print ('Predicted Class is %d' %yhat)\n"
      ],
      "execution_count": 2,
      "outputs": [
        {
          "output_type": "stream",
          "text": [
            "Predicted Class is 1\n"
          ],
          "name": "stdout"
        }
      ]
    },
    {
      "cell_type": "markdown",
      "metadata": {
        "id": "ZBrfG93uVf-N"
      },
      "source": [
        "## To perform Grid Search (Learning Rate : eta0)"
      ]
    },
    {
      "cell_type": "code",
      "metadata": {
        "colab": {
          "base_uri": "https://localhost:8080/"
        },
        "id": "_s2wrG8QVX78",
        "outputId": "efccd90e-f32f-449c-c7d3-bc8b92bba52a"
      },
      "source": [
        "from sklearn.datasets import make_classification\n",
        "from sklearn.linear_model import Perceptron\n",
        "from sklearn.model_selection import RepeatedStratifiedKFold\n",
        "from sklearn.model_selection import GridSearchCV\n",
        "\n",
        "# Define the dataset\n",
        "X, y = make_classification(n_samples=1000, n_features=10, n_informative=10, n_redundant=0, random_state=1)\n",
        "\n",
        "# Define the model\n",
        "model = Perceptron()\n",
        "\n",
        "# Define model evalation method\n",
        "cv = RepeatedStratifiedKFold(n_splits=10, n_repeats=3, random_state=1)\n",
        "\n",
        "# Define grid\n",
        "grid = dict()\n",
        "grid['eta0'] = [0.0001, 0.001, 0.01, 0.1, 1]\n",
        "\n",
        "# Define the search\n",
        "search = GridSearchCV(model, grid, scoring='accuracy', cv=cv, n_jobs=-1)\n",
        "\n",
        "# Perform the search\n",
        "results = search.fit(X,y)\n",
        "\n",
        "# Summary the results\n",
        "print ('Accuracy Mean =', results.best_score_)\n",
        "print ('Config =', results.best_params_)\n",
        "means = results.cv_results_['mean_test_score']\n",
        "params = results.cv_results_['params']\n",
        "for mean, param in zip(means, params):\n",
        "  print ('Mean =', round(mean,4), 'Param =', param)"
      ],
      "execution_count": 3,
      "outputs": [
        {
          "output_type": "stream",
          "text": [
            "Accuracy Mean = 0.8569999999999999\n",
            "Config = {'eta0': 0.0001}\n",
            "Mean = 0.857 Param = {'eta0': 0.0001}\n",
            "Mean = 0.857 Param = {'eta0': 0.001}\n",
            "Mean = 0.8533 Param = {'eta0': 0.01}\n",
            "Mean = 0.847 Param = {'eta0': 0.1}\n",
            "Mean = 0.847 Param = {'eta0': 1}\n"
          ],
          "name": "stdout"
        }
      ]
    },
    {
      "cell_type": "markdown",
      "metadata": {
        "id": "CgMXzPgeYL9H"
      },
      "source": [
        "## To perform Grid Search (Numbers of Epoch)"
      ]
    },
    {
      "cell_type": "code",
      "metadata": {
        "colab": {
          "base_uri": "https://localhost:8080/"
        },
        "id": "e-2Um-S7Xbgh",
        "outputId": "b1b7b869-5abd-4b3c-dc36-95ac2f004261"
      },
      "source": [
        "from sklearn.datasets import make_classification\n",
        "from sklearn.linear_model import Perceptron\n",
        "from sklearn.model_selection import RepeatedStratifiedKFold\n",
        "from sklearn.model_selection import GridSearchCV\n",
        "\n",
        "# Define the dataset\n",
        "X, y = make_classification(n_samples=1000, n_features=10, n_informative=10, n_redundant=0, random_state=1)\n",
        "\n",
        "# Define the model\n",
        "model = Perceptron()\n",
        "\n",
        "# Define the model evaluation method\n",
        "cv = RepeatedStratifiedKFold(n_splits=10, n_repeats=3, random_state=1)\n",
        "\n",
        "# Define grid\n",
        "grid = dict()\n",
        "grid['max_iter'] = [1, 10, 100, 1000, 10000]\n",
        "\n",
        "# Define the search\n",
        "search = GridSearchCV(model, grid, scoring='accuracy', cv=cv, n_jobs=-1)\n",
        "\n",
        "# Perform the search\n",
        "results = search.fit(X, y)\n",
        "\n",
        "# Summary the results\n",
        "print ('Accuracy Mean =', results.best_score_)\n",
        "print ('Config =', results.best_params_)\n",
        "means = results.cv_results_['mean_test_score']\n",
        "params = results.cv_results_['params']\n",
        "for mean, param in zip(means, params):\n",
        "  print ('Mean =', round(mean, 4), 'Param =', param)"
      ],
      "execution_count": 4,
      "outputs": [
        {
          "output_type": "stream",
          "text": [
            "Accuracy Mean = 0.8496666666666667\n",
            "Config = {'max_iter': 1}\n",
            "Mean = 0.8497 Param = {'max_iter': 1}\n",
            "Mean = 0.8357 Param = {'max_iter': 10}\n",
            "Mean = 0.847 Param = {'max_iter': 100}\n",
            "Mean = 0.847 Param = {'max_iter': 1000}\n",
            "Mean = 0.847 Param = {'max_iter': 10000}\n"
          ],
          "name": "stdout"
        },
        {
          "output_type": "stream",
          "text": [
            "/usr/local/lib/python3.7/dist-packages/sklearn/linear_model/_stochastic_gradient.py:557: ConvergenceWarning: Maximum number of iteration reached before convergence. Consider increasing max_iter to improve the fit.\n",
            "  ConvergenceWarning)\n"
          ],
          "name": "stderr"
        }
      ]
    }
  ]
}