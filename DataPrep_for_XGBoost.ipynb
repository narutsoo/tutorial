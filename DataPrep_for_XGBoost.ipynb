{
  "nbformat": 4,
  "nbformat_minor": 0,
  "metadata": {
    "colab": {
      "name": "DataPrep_for_XGBoost.ipynb",
      "provenance": [],
      "authorship_tag": "ABX9TyMyaHgWwVbULqF+FkbGW0Tp",
      "include_colab_link": true
    },
    "kernelspec": {
      "name": "python3",
      "display_name": "Python 3"
    },
    "language_info": {
      "name": "python"
    }
  },
  "cells": [
    {
      "cell_type": "markdown",
      "metadata": {
        "id": "view-in-github",
        "colab_type": "text"
      },
      "source": [
        "<a href=\"https://colab.research.google.com/github/narutsoo/tutorial/blob/master/DataPrep_for_XGBoost.ipynb\" target=\"_parent\"><img src=\"https://colab.research.google.com/assets/colab-badge.svg\" alt=\"Open In Colab\"/></a>"
      ]
    },
    {
      "cell_type": "markdown",
      "metadata": {
        "id": "Ud80_muJZjA3"
      },
      "source": [
        "Topic : Data Preparation for Gradient Boosting with XGBoost in Python\n",
        "\n",
        "Reference\n",
        "* https://machinelearningmastery.com/data-preparation-gradient-boosting-xgboost-python/\n",
        "\n"
      ]
    },
    {
      "cell_type": "markdown",
      "metadata": {
        "id": "4zwmuQfzf9OG"
      },
      "source": [
        "# Usecase 1 : Iris data (Label Encoder at \"target variable\")"
      ]
    },
    {
      "cell_type": "markdown",
      "metadata": {
        "id": "e8EYdu2EePhf"
      },
      "source": [
        "Import related libraries"
      ]
    },
    {
      "cell_type": "code",
      "metadata": {
        "id": "jSe5OFb0LoRV"
      },
      "source": [
        "import pandas as pd\n",
        "import xgboost\n",
        "from sklearn.model_selection import train_test_split\n",
        "from sklearn.metrics import accuracy_score\n",
        "from sklearn.preprocessing import LabelEncoder"
      ],
      "execution_count": 2,
      "outputs": []
    },
    {
      "cell_type": "markdown",
      "metadata": {
        "id": "UGWY3UsyeSnB"
      },
      "source": [
        "Import dataset (iris dataset : 4 input features, 3 different classes)"
      ]
    },
    {
      "cell_type": "code",
      "metadata": {
        "id": "ZxavWfnML5O4"
      },
      "source": [
        "data = pd.read_csv('https://raw.githubusercontent.com/jbrownlee/Datasets/master/iris.csv', header=None)"
      ],
      "execution_count": 3,
      "outputs": []
    },
    {
      "cell_type": "code",
      "metadata": {
        "id": "fZqxiXYINYHB"
      },
      "source": [
        "data.to_csv('iris.csv', index=False, header=None)"
      ],
      "execution_count": 4,
      "outputs": []
    },
    {
      "cell_type": "markdown",
      "metadata": {
        "id": "47Jb61wTeaBs"
      },
      "source": [
        "Change from datafram to numpy array (and separated between input and target variables)"
      ]
    },
    {
      "cell_type": "code",
      "metadata": {
        "id": "BGDPAWoQMECj"
      },
      "source": [
        "dataset = data.values"
      ],
      "execution_count": 5,
      "outputs": []
    },
    {
      "cell_type": "code",
      "metadata": {
        "id": "GI-n04-_MHPJ"
      },
      "source": [
        "X = dataset[:,0:4]\n",
        "y = dataset[:,4]"
      ],
      "execution_count": 6,
      "outputs": []
    },
    {
      "cell_type": "code",
      "metadata": {
        "id": "-DAzcPg-fd_O"
      },
      "source": [
        "label_encoder = LabelEncoder()\n",
        "y_enc = label_encoder.fit_transform(y)"
      ],
      "execution_count": 8,
      "outputs": []
    },
    {
      "cell_type": "code",
      "metadata": {
        "colab": {
          "base_uri": "https://localhost:8080/"
        },
        "id": "qNnosDXxfl8E",
        "outputId": "d3d97a26-f550-4403-eb86-0548cdb1eb28"
      },
      "source": [
        "y_enc"
      ],
      "execution_count": 9,
      "outputs": [
        {
          "output_type": "execute_result",
          "data": {
            "text/plain": [
              "array([0, 0, 0, 0, 0, 0, 0, 0, 0, 0, 0, 0, 0, 0, 0, 0, 0, 0, 0, 0, 0, 0,\n",
              "       0, 0, 0, 0, 0, 0, 0, 0, 0, 0, 0, 0, 0, 0, 0, 0, 0, 0, 0, 0, 0, 0,\n",
              "       0, 0, 0, 0, 0, 0, 1, 1, 1, 1, 1, 1, 1, 1, 1, 1, 1, 1, 1, 1, 1, 1,\n",
              "       1, 1, 1, 1, 1, 1, 1, 1, 1, 1, 1, 1, 1, 1, 1, 1, 1, 1, 1, 1, 1, 1,\n",
              "       1, 1, 1, 1, 1, 1, 1, 1, 1, 1, 1, 1, 2, 2, 2, 2, 2, 2, 2, 2, 2, 2,\n",
              "       2, 2, 2, 2, 2, 2, 2, 2, 2, 2, 2, 2, 2, 2, 2, 2, 2, 2, 2, 2, 2, 2,\n",
              "       2, 2, 2, 2, 2, 2, 2, 2, 2, 2, 2, 2, 2, 2, 2, 2, 2, 2])"
            ]
          },
          "metadata": {
            "tags": []
          },
          "execution_count": 9
        }
      ]
    },
    {
      "cell_type": "markdown",
      "metadata": {
        "id": "PnNu8AN1eiI7"
      },
      "source": [
        "Separate train & test dataset"
      ]
    },
    {
      "cell_type": "code",
      "metadata": {
        "id": "oCePZXnOMSh_"
      },
      "source": [
        "X_train, X_test, y_train, y_test = train_test_split(X, y_enc, test_size=0.33, random_state=1)"
      ],
      "execution_count": 16,
      "outputs": []
    },
    {
      "cell_type": "markdown",
      "metadata": {
        "id": "Vex2lHPmenlU"
      },
      "source": [
        "Create the model (XGBoost Classfier)"
      ]
    },
    {
      "cell_type": "code",
      "metadata": {
        "id": "odyvawcpMTG2"
      },
      "source": [
        "model = xgboost.XGBClassifier()"
      ],
      "execution_count": 17,
      "outputs": []
    },
    {
      "cell_type": "code",
      "metadata": {
        "colab": {
          "base_uri": "https://localhost:8080/"
        },
        "id": "Ww22lA1eMjGy",
        "outputId": "2d890f3a-191a-45de-bb08-8fa293665bff"
      },
      "source": [
        "model.fit(X_train, y_train)"
      ],
      "execution_count": 18,
      "outputs": [
        {
          "output_type": "execute_result",
          "data": {
            "text/plain": [
              "XGBClassifier(base_score=0.5, booster='gbtree', colsample_bylevel=1,\n",
              "              colsample_bynode=1, colsample_bytree=1, gamma=0,\n",
              "              learning_rate=0.1, max_delta_step=0, max_depth=3,\n",
              "              min_child_weight=1, missing=None, n_estimators=100, n_jobs=1,\n",
              "              nthread=None, objective='multi:softprob', random_state=0,\n",
              "              reg_alpha=0, reg_lambda=1, scale_pos_weight=1, seed=None,\n",
              "              silent=None, subsample=1, verbosity=1)"
            ]
          },
          "metadata": {
            "tags": []
          },
          "execution_count": 18
        }
      ]
    },
    {
      "cell_type": "markdown",
      "metadata": {
        "id": "hBrO-HW5es-N"
      },
      "source": [
        "To predict the results (by given test set)"
      ]
    },
    {
      "cell_type": "code",
      "metadata": {
        "id": "kFXmqolkMzIz"
      },
      "source": [
        "y_pred = model.predict(X_test)"
      ],
      "execution_count": 19,
      "outputs": []
    },
    {
      "cell_type": "code",
      "metadata": {
        "colab": {
          "base_uri": "https://localhost:8080/"
        },
        "id": "-axLD_ztMqVN",
        "outputId": "eab8a5f9-9ebb-4911-e528-cf51e2fdc7a8"
      },
      "source": [
        "print (model.predict(X_test))"
      ],
      "execution_count": 20,
      "outputs": [
        {
          "output_type": "stream",
          "text": [
            "[0 1 1 0 2 1 2 0 0 2 1 0 2 1 1 0 1 1 0 0 1 1 2 0 2 1 0 0 1 2 1 2 1 2 2 0 1\n",
            " 0 1 2 2 0 1 2 1 2 0 0 0 1]\n"
          ],
          "name": "stdout"
        }
      ]
    },
    {
      "cell_type": "markdown",
      "metadata": {
        "id": "5qb7Lwrle0eI"
      },
      "source": [
        "To obtain the accuracy "
      ]
    },
    {
      "cell_type": "code",
      "metadata": {
        "colab": {
          "base_uri": "https://localhost:8080/"
        },
        "id": "Kgw61YTVMstg",
        "outputId": "9087e7b8-4082-462a-bd6b-44cb287ac618"
      },
      "source": [
        "print ('Accuracy =', round(accuracy_score(y_test, y_pred)*100, 2), '%')"
      ],
      "execution_count": 21,
      "outputs": [
        {
          "output_type": "stream",
          "text": [
            "Accuracy = 96.0 %\n"
          ],
          "name": "stdout"
        }
      ]
    },
    {
      "cell_type": "markdown",
      "metadata": {
        "id": "KLYb5RjBgIM4"
      },
      "source": [
        "# Use-Case 2 : Breast Cancer data (Label Encoder / One Hot Encoder)"
      ]
    },
    {
      "cell_type": "markdown",
      "metadata": {
        "id": "nwIXEEsbgP6I"
      },
      "source": [
        "Import related libraries"
      ]
    },
    {
      "cell_type": "code",
      "metadata": {
        "id": "HBT2-O17O4mX"
      },
      "source": [
        "import pandas as pd\n",
        "import numpy\n",
        "from sklearn.metrics import accuracy_score\n",
        "from sklearn.preprocessing import LabelEncoder\n",
        "from sklearn.preprocessing import OneHotEncoder\n",
        "from sklearn.model_selection import train_test_split\n",
        "from xgboost import XGBClassifier"
      ],
      "execution_count": 33,
      "outputs": []
    },
    {
      "cell_type": "markdown",
      "metadata": {
        "id": "bePynogCgS0m"
      },
      "source": [
        "Import dataset (Breast Cancer : 8 input features, 2 classes) >> 286 instances"
      ]
    },
    {
      "cell_type": "code",
      "metadata": {
        "id": "BgYKZXy7PW_0"
      },
      "source": [
        "data = pd.read_csv('https://raw.githubusercontent.com/jbrownlee/Datasets/master/breast-cancer.csv', header=None)"
      ],
      "execution_count": 48,
      "outputs": []
    },
    {
      "cell_type": "markdown",
      "metadata": {
        "id": "VTt3dgjjgp5N"
      },
      "source": [
        "Change datframe to numpy array (define input and target variables)"
      ]
    },
    {
      "cell_type": "code",
      "metadata": {
        "id": "0-L3p--LPd16"
      },
      "source": [
        "dataset = data.values"
      ],
      "execution_count": 49,
      "outputs": []
    },
    {
      "cell_type": "code",
      "metadata": {
        "id": "2-sedDNsPnm-"
      },
      "source": [
        "X = dataset[:,:-1]\n",
        "X = X.astype(str)\n",
        "y = dataset[:,-1]"
      ],
      "execution_count": 50,
      "outputs": []
    },
    {
      "cell_type": "markdown",
      "metadata": {
        "id": "5EroWiyshcKt"
      },
      "source": [
        "Encoder section (input variables)"
      ]
    },
    {
      "cell_type": "code",
      "metadata": {
        "id": "W_saI8BAQZfk"
      },
      "source": [
        "encoded_x = None"
      ],
      "execution_count": 51,
      "outputs": []
    },
    {
      "cell_type": "code",
      "metadata": {
        "id": "VIeM-h4jPiHQ"
      },
      "source": [
        "a = 0 # just to check if-else condition\n",
        "for i in range(0, X.shape[1]):\n",
        "  label_encoder = LabelEncoder()\n",
        "  feature = label_encoder.fit_transform(X[:,i])\n",
        "  feature = feature.reshape(X.shape[0], 1)\n",
        "  onehot_encoder = OneHotEncoder(sparse=False, categories='auto')\n",
        "  feature = onehot_encoder.fit_transform(feature)\n",
        "  if encoded_x is None:\n",
        "    encoded_x = feature\n",
        "  else :\n",
        "    a = 1 # just to check if-else condition\n",
        "    encoded_x = numpy.concatenate((encoded_x, feature), axis=1)"
      ],
      "execution_count": 52,
      "outputs": []
    },
    {
      "cell_type": "code",
      "metadata": {
        "id": "MEtlW7VfR6Zo"
      },
      "source": [
        "# print (a)\n",
        "# print (encoded_x.shape)"
      ],
      "execution_count": 53,
      "outputs": []
    },
    {
      "cell_type": "code",
      "metadata": {
        "id": "xv_T3h4ZR9_a"
      },
      "source": [
        "## all unique value of each column\n",
        "# print (data[0].nunique())\n",
        "# print (data[1].nunique())\n",
        "# print (data[2].nunique())\n",
        "# print (data[3].nunique())\n",
        "# print (data[4].nunique())\n",
        "# print (data[5].nunique())\n",
        "# print (data[6].nunique())\n",
        "# print (data[7].nunique())\n",
        "# print (data[8].nunique())\n",
        "# print (data[9].nunique())"
      ],
      "execution_count": 54,
      "outputs": []
    },
    {
      "cell_type": "markdown",
      "metadata": {
        "id": "k7vIhgEBhhyN"
      },
      "source": [
        "Encoder section (target variable)"
      ]
    },
    {
      "cell_type": "code",
      "metadata": {
        "id": "77XpkIuZSbBw"
      },
      "source": [
        "target_encoder = LabelEncoder()\n",
        "encoded_y = target_encoder.fit_transform(y)"
      ],
      "execution_count": 55,
      "outputs": []
    },
    {
      "cell_type": "markdown",
      "metadata": {
        "id": "DKbxr5A5hz05"
      },
      "source": [
        "Separate train & test dataset"
      ]
    },
    {
      "cell_type": "code",
      "metadata": {
        "id": "VIqD09zPUAc5"
      },
      "source": [
        "X_train, X_test, y_train, y_test = train_test_split(encoded_x, encoded_y, test_size=0.33, random_state=7)"
      ],
      "execution_count": 56,
      "outputs": []
    },
    {
      "cell_type": "markdown",
      "metadata": {
        "id": "wiZ6OC1ch43W"
      },
      "source": [
        "Create the model"
      ]
    },
    {
      "cell_type": "code",
      "metadata": {
        "id": "EgHJ-uzbUOjJ"
      },
      "source": [
        "model = XGBClassifier()"
      ],
      "execution_count": 57,
      "outputs": []
    },
    {
      "cell_type": "code",
      "metadata": {
        "colab": {
          "base_uri": "https://localhost:8080/"
        },
        "id": "zKdhQeYAUSXh",
        "outputId": "5e17260a-3e64-4c9c-95c1-44c4ab581cf7"
      },
      "source": [
        "model.fit(X_train, y_train)"
      ],
      "execution_count": 58,
      "outputs": [
        {
          "output_type": "execute_result",
          "data": {
            "text/plain": [
              "XGBClassifier(base_score=0.5, booster='gbtree', colsample_bylevel=1,\n",
              "              colsample_bynode=1, colsample_bytree=1, gamma=0,\n",
              "              learning_rate=0.1, max_delta_step=0, max_depth=3,\n",
              "              min_child_weight=1, missing=None, n_estimators=100, n_jobs=1,\n",
              "              nthread=None, objective='binary:logistic', random_state=0,\n",
              "              reg_alpha=0, reg_lambda=1, scale_pos_weight=1, seed=None,\n",
              "              silent=None, subsample=1, verbosity=1)"
            ]
          },
          "metadata": {
            "tags": []
          },
          "execution_count": 58
        }
      ]
    },
    {
      "cell_type": "code",
      "metadata": {
        "id": "b8UfKLV4UWhM"
      },
      "source": [
        "y_pred = model.predict(X_test)"
      ],
      "execution_count": 59,
      "outputs": []
    },
    {
      "cell_type": "code",
      "metadata": {
        "colab": {
          "base_uri": "https://localhost:8080/"
        },
        "id": "R5GmL6pMUe5n",
        "outputId": "794a3fd0-c665-493d-c0a5-02fb3014eb6a"
      },
      "source": [
        "print ('Accuracy =', round(accuracy_score(y_test, y_pred)*100, 2), '%')"
      ],
      "execution_count": 60,
      "outputs": [
        {
          "output_type": "stream",
          "text": [
            "Accuracy = 71.58 %\n"
          ],
          "name": "stdout"
        }
      ]
    },
    {
      "cell_type": "code",
      "metadata": {
        "id": "yUtMi7h6Ulvw"
      },
      "source": [
        "# Use-Case 3 : Horse Colic"
      ],
      "execution_count": null,
      "outputs": []
    },
    {
      "cell_type": "markdown",
      "metadata": {
        "id": "hh2LoVIqiM4I"
      },
      "source": [
        "# Use-Case 3 : Horse Colic data (Impute missing data)"
      ]
    },
    {
      "cell_type": "markdown",
      "metadata": {
        "id": "ueUHzeqTiXJg"
      },
      "source": [
        "Import related libraries"
      ]
    },
    {
      "cell_type": "code",
      "metadata": {
        "id": "guhh2CI8Vf9O"
      },
      "source": [
        "import pandas as pd\n",
        "import numpy\n",
        "from sklearn.preprocessing import LabelEncoder\n",
        "from xgboost import XGBClassifier\n",
        "from sklearn.model_selection import train_test_split\n",
        "from sklearn.metrics import accuracy_score\n",
        "from sklearn.impute import SimpleImputer"
      ],
      "execution_count": 64,
      "outputs": []
    },
    {
      "cell_type": "markdown",
      "metadata": {
        "id": "Jqi-nv-6iVNO"
      },
      "source": [
        "Import dataset"
      ]
    },
    {
      "cell_type": "code",
      "metadata": {
        "id": "x-EUeHNmWrDZ"
      },
      "source": [
        "data = pd.read_csv('https://raw.githubusercontent.com/jbrownlee/Datasets/master/horse-colic.data', delim_whitespace=True, header=None)"
      ],
      "execution_count": 65,
      "outputs": []
    },
    {
      "cell_type": "code",
      "metadata": {
        "colab": {
          "base_uri": "https://localhost:8080/",
          "height": 203
        },
        "id": "rjYqTW2FW0Kc",
        "outputId": "3b4e9627-d31c-4700-fdca-9f30faefc4bb"
      },
      "source": [
        "data.head()"
      ],
      "execution_count": 66,
      "outputs": [
        {
          "output_type": "execute_result",
          "data": {
            "text/html": [
              "<div>\n",
              "<style scoped>\n",
              "    .dataframe tbody tr th:only-of-type {\n",
              "        vertical-align: middle;\n",
              "    }\n",
              "\n",
              "    .dataframe tbody tr th {\n",
              "        vertical-align: top;\n",
              "    }\n",
              "\n",
              "    .dataframe thead th {\n",
              "        text-align: right;\n",
              "    }\n",
              "</style>\n",
              "<table border=\"1\" class=\"dataframe\">\n",
              "  <thead>\n",
              "    <tr style=\"text-align: right;\">\n",
              "      <th></th>\n",
              "      <th>0</th>\n",
              "      <th>1</th>\n",
              "      <th>2</th>\n",
              "      <th>3</th>\n",
              "      <th>4</th>\n",
              "      <th>5</th>\n",
              "      <th>6</th>\n",
              "      <th>7</th>\n",
              "      <th>8</th>\n",
              "      <th>9</th>\n",
              "      <th>10</th>\n",
              "      <th>11</th>\n",
              "      <th>12</th>\n",
              "      <th>13</th>\n",
              "      <th>14</th>\n",
              "      <th>15</th>\n",
              "      <th>16</th>\n",
              "      <th>17</th>\n",
              "      <th>18</th>\n",
              "      <th>19</th>\n",
              "      <th>20</th>\n",
              "      <th>21</th>\n",
              "      <th>22</th>\n",
              "      <th>23</th>\n",
              "      <th>24</th>\n",
              "      <th>25</th>\n",
              "      <th>26</th>\n",
              "      <th>27</th>\n",
              "    </tr>\n",
              "  </thead>\n",
              "  <tbody>\n",
              "    <tr>\n",
              "      <th>0</th>\n",
              "      <td>2</td>\n",
              "      <td>1</td>\n",
              "      <td>530101</td>\n",
              "      <td>38.50</td>\n",
              "      <td>66</td>\n",
              "      <td>28</td>\n",
              "      <td>3</td>\n",
              "      <td>3</td>\n",
              "      <td>?</td>\n",
              "      <td>2</td>\n",
              "      <td>5</td>\n",
              "      <td>4</td>\n",
              "      <td>4</td>\n",
              "      <td>?</td>\n",
              "      <td>?</td>\n",
              "      <td>?</td>\n",
              "      <td>3</td>\n",
              "      <td>5</td>\n",
              "      <td>45.00</td>\n",
              "      <td>8.40</td>\n",
              "      <td>?</td>\n",
              "      <td>?</td>\n",
              "      <td>2</td>\n",
              "      <td>2</td>\n",
              "      <td>11300</td>\n",
              "      <td>0</td>\n",
              "      <td>0</td>\n",
              "      <td>2</td>\n",
              "    </tr>\n",
              "    <tr>\n",
              "      <th>1</th>\n",
              "      <td>1</td>\n",
              "      <td>1</td>\n",
              "      <td>534817</td>\n",
              "      <td>39.2</td>\n",
              "      <td>88</td>\n",
              "      <td>20</td>\n",
              "      <td>?</td>\n",
              "      <td>?</td>\n",
              "      <td>4</td>\n",
              "      <td>1</td>\n",
              "      <td>3</td>\n",
              "      <td>4</td>\n",
              "      <td>2</td>\n",
              "      <td>?</td>\n",
              "      <td>?</td>\n",
              "      <td>?</td>\n",
              "      <td>4</td>\n",
              "      <td>2</td>\n",
              "      <td>50</td>\n",
              "      <td>85</td>\n",
              "      <td>2</td>\n",
              "      <td>2</td>\n",
              "      <td>3</td>\n",
              "      <td>2</td>\n",
              "      <td>2208</td>\n",
              "      <td>0</td>\n",
              "      <td>0</td>\n",
              "      <td>2</td>\n",
              "    </tr>\n",
              "    <tr>\n",
              "      <th>2</th>\n",
              "      <td>2</td>\n",
              "      <td>1</td>\n",
              "      <td>530334</td>\n",
              "      <td>38.30</td>\n",
              "      <td>40</td>\n",
              "      <td>24</td>\n",
              "      <td>1</td>\n",
              "      <td>1</td>\n",
              "      <td>3</td>\n",
              "      <td>1</td>\n",
              "      <td>3</td>\n",
              "      <td>3</td>\n",
              "      <td>1</td>\n",
              "      <td>?</td>\n",
              "      <td>?</td>\n",
              "      <td>?</td>\n",
              "      <td>1</td>\n",
              "      <td>1</td>\n",
              "      <td>33.00</td>\n",
              "      <td>6.70</td>\n",
              "      <td>?</td>\n",
              "      <td>?</td>\n",
              "      <td>1</td>\n",
              "      <td>2</td>\n",
              "      <td>0</td>\n",
              "      <td>0</td>\n",
              "      <td>0</td>\n",
              "      <td>1</td>\n",
              "    </tr>\n",
              "    <tr>\n",
              "      <th>3</th>\n",
              "      <td>1</td>\n",
              "      <td>9</td>\n",
              "      <td>5290409</td>\n",
              "      <td>39.10</td>\n",
              "      <td>164</td>\n",
              "      <td>84</td>\n",
              "      <td>4</td>\n",
              "      <td>1</td>\n",
              "      <td>6</td>\n",
              "      <td>2</td>\n",
              "      <td>2</td>\n",
              "      <td>4</td>\n",
              "      <td>4</td>\n",
              "      <td>1</td>\n",
              "      <td>2</td>\n",
              "      <td>5.00</td>\n",
              "      <td>3</td>\n",
              "      <td>?</td>\n",
              "      <td>48.00</td>\n",
              "      <td>7.20</td>\n",
              "      <td>3</td>\n",
              "      <td>5.30</td>\n",
              "      <td>2</td>\n",
              "      <td>1</td>\n",
              "      <td>2208</td>\n",
              "      <td>0</td>\n",
              "      <td>0</td>\n",
              "      <td>1</td>\n",
              "    </tr>\n",
              "    <tr>\n",
              "      <th>4</th>\n",
              "      <td>2</td>\n",
              "      <td>1</td>\n",
              "      <td>530255</td>\n",
              "      <td>37.30</td>\n",
              "      <td>104</td>\n",
              "      <td>35</td>\n",
              "      <td>?</td>\n",
              "      <td>?</td>\n",
              "      <td>6</td>\n",
              "      <td>2</td>\n",
              "      <td>?</td>\n",
              "      <td>?</td>\n",
              "      <td>?</td>\n",
              "      <td>?</td>\n",
              "      <td>?</td>\n",
              "      <td>?</td>\n",
              "      <td>?</td>\n",
              "      <td>?</td>\n",
              "      <td>74.00</td>\n",
              "      <td>7.40</td>\n",
              "      <td>?</td>\n",
              "      <td>?</td>\n",
              "      <td>2</td>\n",
              "      <td>2</td>\n",
              "      <td>4300</td>\n",
              "      <td>0</td>\n",
              "      <td>0</td>\n",
              "      <td>2</td>\n",
              "    </tr>\n",
              "  </tbody>\n",
              "</table>\n",
              "</div>"
            ],
            "text/plain": [
              "  0   1        2      3    4   5  6  7   ... 20    21 22 23     24 25 26 27\n",
              "0  2   1   530101  38.50   66  28  3  3  ...  ?     ?  2  2  11300  0  0  2\n",
              "1  1   1   534817   39.2   88  20  ?  ?  ...  2     2  3  2   2208  0  0  2\n",
              "2  2   1   530334  38.30   40  24  1  1  ...  ?     ?  1  2      0  0  0  1\n",
              "3  1   9  5290409  39.10  164  84  4  1  ...  3  5.30  2  1   2208  0  0  1\n",
              "4  2   1   530255  37.30  104  35  ?  ?  ...  ?     ?  2  2   4300  0  0  2\n",
              "\n",
              "[5 rows x 28 columns]"
            ]
          },
          "metadata": {
            "tags": []
          },
          "execution_count": 66
        }
      ]
    },
    {
      "cell_type": "markdown",
      "metadata": {
        "id": "z2p2rIVNmZ88"
      },
      "source": [
        "Change dataframe to numpy array"
      ]
    },
    {
      "cell_type": "code",
      "metadata": {
        "id": "snh1EZepW1ob"
      },
      "source": [
        "dataset = data.values"
      ],
      "execution_count": 67,
      "outputs": []
    },
    {
      "cell_type": "code",
      "metadata": {
        "id": "hMiLe1qjXTpA"
      },
      "source": [
        "# To define input and output variables\n",
        "X = dataset[:,:-1]\n",
        "y = dataset[:,-1]"
      ],
      "execution_count": 68,
      "outputs": []
    },
    {
      "cell_type": "markdown",
      "metadata": {
        "id": "Iu8wwFrkmeAx"
      },
      "source": [
        "To imput missing value \n",
        "1. To replace '?' with 'Nan'  \n",
        "2. To replace 'Nan' using Simple Imputer"
      ]
    },
    {
      "cell_type": "code",
      "metadata": {
        "id": "1YdGEL2wXZ3w"
      },
      "source": [
        "# To replace '?' with 'Nan'\n",
        "X[X == '?'] = numpy.nan"
      ],
      "execution_count": 69,
      "outputs": []
    },
    {
      "cell_type": "code",
      "metadata": {
        "id": "iSCEo7ToXasd"
      },
      "source": [
        "# To replace 'Nan' using Simple Imputer\n",
        "imputer = SimpleImputer()\n",
        "imputed_X = imputer.fit_transform(X)"
      ],
      "execution_count": 70,
      "outputs": []
    },
    {
      "cell_type": "code",
      "metadata": {
        "colab": {
          "base_uri": "https://localhost:8080/",
          "height": 437
        },
        "id": "a-Twaqs-aXzN",
        "outputId": "a589bc8d-43ec-406e-a2de-8d004dc85a05"
      },
      "source": [
        "pd.DataFrame(imputed_X)"
      ],
      "execution_count": 71,
      "outputs": [
        {
          "output_type": "execute_result",
          "data": {
            "text/html": [
              "<div>\n",
              "<style scoped>\n",
              "    .dataframe tbody tr th:only-of-type {\n",
              "        vertical-align: middle;\n",
              "    }\n",
              "\n",
              "    .dataframe tbody tr th {\n",
              "        vertical-align: top;\n",
              "    }\n",
              "\n",
              "    .dataframe thead th {\n",
              "        text-align: right;\n",
              "    }\n",
              "</style>\n",
              "<table border=\"1\" class=\"dataframe\">\n",
              "  <thead>\n",
              "    <tr style=\"text-align: right;\">\n",
              "      <th></th>\n",
              "      <th>0</th>\n",
              "      <th>1</th>\n",
              "      <th>2</th>\n",
              "      <th>3</th>\n",
              "      <th>4</th>\n",
              "      <th>5</th>\n",
              "      <th>6</th>\n",
              "      <th>7</th>\n",
              "      <th>8</th>\n",
              "      <th>9</th>\n",
              "      <th>10</th>\n",
              "      <th>11</th>\n",
              "      <th>12</th>\n",
              "      <th>13</th>\n",
              "      <th>14</th>\n",
              "      <th>15</th>\n",
              "      <th>16</th>\n",
              "      <th>17</th>\n",
              "      <th>18</th>\n",
              "      <th>19</th>\n",
              "      <th>20</th>\n",
              "      <th>21</th>\n",
              "      <th>22</th>\n",
              "      <th>23</th>\n",
              "      <th>24</th>\n",
              "      <th>25</th>\n",
              "      <th>26</th>\n",
              "    </tr>\n",
              "  </thead>\n",
              "  <tbody>\n",
              "    <tr>\n",
              "      <th>0</th>\n",
              "      <td>2.0</td>\n",
              "      <td>1.0</td>\n",
              "      <td>530101.0</td>\n",
              "      <td>38.500000</td>\n",
              "      <td>66.0</td>\n",
              "      <td>28.0</td>\n",
              "      <td>3.000000</td>\n",
              "      <td>3.000000</td>\n",
              "      <td>2.853755</td>\n",
              "      <td>2.00000</td>\n",
              "      <td>5.00000</td>\n",
              "      <td>4.000000</td>\n",
              "      <td>4.000000</td>\n",
              "      <td>1.755102</td>\n",
              "      <td>1.582474</td>\n",
              "      <td>4.707547</td>\n",
              "      <td>3.000000</td>\n",
              "      <td>5.000000</td>\n",
              "      <td>45.0</td>\n",
              "      <td>8.400000</td>\n",
              "      <td>2.037037</td>\n",
              "      <td>3.019608</td>\n",
              "      <td>2.0</td>\n",
              "      <td>2.0</td>\n",
              "      <td>11300.0</td>\n",
              "      <td>0.0</td>\n",
              "      <td>0.0</td>\n",
              "    </tr>\n",
              "    <tr>\n",
              "      <th>1</th>\n",
              "      <td>1.0</td>\n",
              "      <td>1.0</td>\n",
              "      <td>534817.0</td>\n",
              "      <td>39.200000</td>\n",
              "      <td>88.0</td>\n",
              "      <td>20.0</td>\n",
              "      <td>2.348361</td>\n",
              "      <td>2.017316</td>\n",
              "      <td>4.000000</td>\n",
              "      <td>1.00000</td>\n",
              "      <td>3.00000</td>\n",
              "      <td>4.000000</td>\n",
              "      <td>2.000000</td>\n",
              "      <td>1.755102</td>\n",
              "      <td>1.582474</td>\n",
              "      <td>4.707547</td>\n",
              "      <td>4.000000</td>\n",
              "      <td>2.000000</td>\n",
              "      <td>50.0</td>\n",
              "      <td>85.000000</td>\n",
              "      <td>2.000000</td>\n",
              "      <td>2.000000</td>\n",
              "      <td>3.0</td>\n",
              "      <td>2.0</td>\n",
              "      <td>2208.0</td>\n",
              "      <td>0.0</td>\n",
              "      <td>0.0</td>\n",
              "    </tr>\n",
              "    <tr>\n",
              "      <th>2</th>\n",
              "      <td>2.0</td>\n",
              "      <td>1.0</td>\n",
              "      <td>530334.0</td>\n",
              "      <td>38.300000</td>\n",
              "      <td>40.0</td>\n",
              "      <td>24.0</td>\n",
              "      <td>1.000000</td>\n",
              "      <td>1.000000</td>\n",
              "      <td>3.000000</td>\n",
              "      <td>1.00000</td>\n",
              "      <td>3.00000</td>\n",
              "      <td>3.000000</td>\n",
              "      <td>1.000000</td>\n",
              "      <td>1.755102</td>\n",
              "      <td>1.582474</td>\n",
              "      <td>4.707547</td>\n",
              "      <td>1.000000</td>\n",
              "      <td>1.000000</td>\n",
              "      <td>33.0</td>\n",
              "      <td>6.700000</td>\n",
              "      <td>2.037037</td>\n",
              "      <td>3.019608</td>\n",
              "      <td>1.0</td>\n",
              "      <td>2.0</td>\n",
              "      <td>0.0</td>\n",
              "      <td>0.0</td>\n",
              "      <td>0.0</td>\n",
              "    </tr>\n",
              "    <tr>\n",
              "      <th>3</th>\n",
              "      <td>1.0</td>\n",
              "      <td>9.0</td>\n",
              "      <td>5290409.0</td>\n",
              "      <td>39.100000</td>\n",
              "      <td>164.0</td>\n",
              "      <td>84.0</td>\n",
              "      <td>4.000000</td>\n",
              "      <td>1.000000</td>\n",
              "      <td>6.000000</td>\n",
              "      <td>2.00000</td>\n",
              "      <td>2.00000</td>\n",
              "      <td>4.000000</td>\n",
              "      <td>4.000000</td>\n",
              "      <td>1.000000</td>\n",
              "      <td>2.000000</td>\n",
              "      <td>5.000000</td>\n",
              "      <td>3.000000</td>\n",
              "      <td>3.692308</td>\n",
              "      <td>48.0</td>\n",
              "      <td>7.200000</td>\n",
              "      <td>3.000000</td>\n",
              "      <td>5.300000</td>\n",
              "      <td>2.0</td>\n",
              "      <td>1.0</td>\n",
              "      <td>2208.0</td>\n",
              "      <td>0.0</td>\n",
              "      <td>0.0</td>\n",
              "    </tr>\n",
              "    <tr>\n",
              "      <th>4</th>\n",
              "      <td>2.0</td>\n",
              "      <td>1.0</td>\n",
              "      <td>530255.0</td>\n",
              "      <td>37.300000</td>\n",
              "      <td>104.0</td>\n",
              "      <td>35.0</td>\n",
              "      <td>2.348361</td>\n",
              "      <td>2.017316</td>\n",
              "      <td>6.000000</td>\n",
              "      <td>2.00000</td>\n",
              "      <td>2.95102</td>\n",
              "      <td>2.917969</td>\n",
              "      <td>2.266393</td>\n",
              "      <td>1.755102</td>\n",
              "      <td>1.582474</td>\n",
              "      <td>4.707547</td>\n",
              "      <td>2.757576</td>\n",
              "      <td>3.692308</td>\n",
              "      <td>74.0</td>\n",
              "      <td>7.400000</td>\n",
              "      <td>2.037037</td>\n",
              "      <td>3.019608</td>\n",
              "      <td>2.0</td>\n",
              "      <td>2.0</td>\n",
              "      <td>4300.0</td>\n",
              "      <td>0.0</td>\n",
              "      <td>0.0</td>\n",
              "    </tr>\n",
              "    <tr>\n",
              "      <th>...</th>\n",
              "      <td>...</td>\n",
              "      <td>...</td>\n",
              "      <td>...</td>\n",
              "      <td>...</td>\n",
              "      <td>...</td>\n",
              "      <td>...</td>\n",
              "      <td>...</td>\n",
              "      <td>...</td>\n",
              "      <td>...</td>\n",
              "      <td>...</td>\n",
              "      <td>...</td>\n",
              "      <td>...</td>\n",
              "      <td>...</td>\n",
              "      <td>...</td>\n",
              "      <td>...</td>\n",
              "      <td>...</td>\n",
              "      <td>...</td>\n",
              "      <td>...</td>\n",
              "      <td>...</td>\n",
              "      <td>...</td>\n",
              "      <td>...</td>\n",
              "      <td>...</td>\n",
              "      <td>...</td>\n",
              "      <td>...</td>\n",
              "      <td>...</td>\n",
              "      <td>...</td>\n",
              "      <td>...</td>\n",
              "    </tr>\n",
              "    <tr>\n",
              "      <th>295</th>\n",
              "      <td>1.0</td>\n",
              "      <td>1.0</td>\n",
              "      <td>533886.0</td>\n",
              "      <td>38.167917</td>\n",
              "      <td>120.0</td>\n",
              "      <td>70.0</td>\n",
              "      <td>4.000000</td>\n",
              "      <td>2.017316</td>\n",
              "      <td>4.000000</td>\n",
              "      <td>2.00000</td>\n",
              "      <td>2.00000</td>\n",
              "      <td>4.000000</td>\n",
              "      <td>2.266393</td>\n",
              "      <td>1.755102</td>\n",
              "      <td>1.582474</td>\n",
              "      <td>4.707547</td>\n",
              "      <td>2.757576</td>\n",
              "      <td>5.000000</td>\n",
              "      <td>55.0</td>\n",
              "      <td>65.000000</td>\n",
              "      <td>2.037037</td>\n",
              "      <td>3.019608</td>\n",
              "      <td>3.0</td>\n",
              "      <td>2.0</td>\n",
              "      <td>3205.0</td>\n",
              "      <td>0.0</td>\n",
              "      <td>0.0</td>\n",
              "    </tr>\n",
              "    <tr>\n",
              "      <th>296</th>\n",
              "      <td>2.0</td>\n",
              "      <td>1.0</td>\n",
              "      <td>527702.0</td>\n",
              "      <td>37.200000</td>\n",
              "      <td>72.0</td>\n",
              "      <td>24.0</td>\n",
              "      <td>3.000000</td>\n",
              "      <td>2.000000</td>\n",
              "      <td>4.000000</td>\n",
              "      <td>2.00000</td>\n",
              "      <td>4.00000</td>\n",
              "      <td>3.000000</td>\n",
              "      <td>3.000000</td>\n",
              "      <td>3.000000</td>\n",
              "      <td>1.000000</td>\n",
              "      <td>4.707547</td>\n",
              "      <td>4.000000</td>\n",
              "      <td>4.000000</td>\n",
              "      <td>44.0</td>\n",
              "      <td>24.456929</td>\n",
              "      <td>3.000000</td>\n",
              "      <td>3.300000</td>\n",
              "      <td>3.0</td>\n",
              "      <td>1.0</td>\n",
              "      <td>2208.0</td>\n",
              "      <td>0.0</td>\n",
              "      <td>0.0</td>\n",
              "    </tr>\n",
              "    <tr>\n",
              "      <th>297</th>\n",
              "      <td>1.0</td>\n",
              "      <td>1.0</td>\n",
              "      <td>529386.0</td>\n",
              "      <td>37.500000</td>\n",
              "      <td>72.0</td>\n",
              "      <td>30.0</td>\n",
              "      <td>4.000000</td>\n",
              "      <td>3.000000</td>\n",
              "      <td>4.000000</td>\n",
              "      <td>1.00000</td>\n",
              "      <td>4.00000</td>\n",
              "      <td>4.000000</td>\n",
              "      <td>3.000000</td>\n",
              "      <td>2.000000</td>\n",
              "      <td>1.000000</td>\n",
              "      <td>4.707547</td>\n",
              "      <td>3.000000</td>\n",
              "      <td>5.000000</td>\n",
              "      <td>60.0</td>\n",
              "      <td>6.800000</td>\n",
              "      <td>2.037037</td>\n",
              "      <td>3.019608</td>\n",
              "      <td>2.0</td>\n",
              "      <td>1.0</td>\n",
              "      <td>3205.0</td>\n",
              "      <td>0.0</td>\n",
              "      <td>0.0</td>\n",
              "    </tr>\n",
              "    <tr>\n",
              "      <th>298</th>\n",
              "      <td>1.0</td>\n",
              "      <td>1.0</td>\n",
              "      <td>530612.0</td>\n",
              "      <td>36.500000</td>\n",
              "      <td>100.0</td>\n",
              "      <td>24.0</td>\n",
              "      <td>3.000000</td>\n",
              "      <td>3.000000</td>\n",
              "      <td>3.000000</td>\n",
              "      <td>1.00000</td>\n",
              "      <td>3.00000</td>\n",
              "      <td>3.000000</td>\n",
              "      <td>3.000000</td>\n",
              "      <td>3.000000</td>\n",
              "      <td>1.000000</td>\n",
              "      <td>4.707547</td>\n",
              "      <td>4.000000</td>\n",
              "      <td>4.000000</td>\n",
              "      <td>50.0</td>\n",
              "      <td>6.000000</td>\n",
              "      <td>3.000000</td>\n",
              "      <td>3.400000</td>\n",
              "      <td>1.0</td>\n",
              "      <td>1.0</td>\n",
              "      <td>2208.0</td>\n",
              "      <td>0.0</td>\n",
              "      <td>0.0</td>\n",
              "    </tr>\n",
              "    <tr>\n",
              "      <th>299</th>\n",
              "      <td>1.0</td>\n",
              "      <td>1.0</td>\n",
              "      <td>534618.0</td>\n",
              "      <td>37.200000</td>\n",
              "      <td>40.0</td>\n",
              "      <td>20.0</td>\n",
              "      <td>2.348361</td>\n",
              "      <td>2.017316</td>\n",
              "      <td>2.853755</td>\n",
              "      <td>1.30597</td>\n",
              "      <td>2.95102</td>\n",
              "      <td>2.917969</td>\n",
              "      <td>2.266393</td>\n",
              "      <td>1.755102</td>\n",
              "      <td>1.582474</td>\n",
              "      <td>4.707547</td>\n",
              "      <td>4.000000</td>\n",
              "      <td>1.000000</td>\n",
              "      <td>36.0</td>\n",
              "      <td>62.000000</td>\n",
              "      <td>1.000000</td>\n",
              "      <td>1.000000</td>\n",
              "      <td>3.0</td>\n",
              "      <td>2.0</td>\n",
              "      <td>6112.0</td>\n",
              "      <td>0.0</td>\n",
              "      <td>0.0</td>\n",
              "    </tr>\n",
              "  </tbody>\n",
              "</table>\n",
              "<p>300 rows × 27 columns</p>\n",
              "</div>"
            ],
            "text/plain": [
              "      0    1          2          3      4   ...   22   23       24   25   26\n",
              "0    2.0  1.0   530101.0  38.500000   66.0  ...  2.0  2.0  11300.0  0.0  0.0\n",
              "1    1.0  1.0   534817.0  39.200000   88.0  ...  3.0  2.0   2208.0  0.0  0.0\n",
              "2    2.0  1.0   530334.0  38.300000   40.0  ...  1.0  2.0      0.0  0.0  0.0\n",
              "3    1.0  9.0  5290409.0  39.100000  164.0  ...  2.0  1.0   2208.0  0.0  0.0\n",
              "4    2.0  1.0   530255.0  37.300000  104.0  ...  2.0  2.0   4300.0  0.0  0.0\n",
              "..   ...  ...        ...        ...    ...  ...  ...  ...      ...  ...  ...\n",
              "295  1.0  1.0   533886.0  38.167917  120.0  ...  3.0  2.0   3205.0  0.0  0.0\n",
              "296  2.0  1.0   527702.0  37.200000   72.0  ...  3.0  1.0   2208.0  0.0  0.0\n",
              "297  1.0  1.0   529386.0  37.500000   72.0  ...  2.0  1.0   3205.0  0.0  0.0\n",
              "298  1.0  1.0   530612.0  36.500000  100.0  ...  1.0  1.0   2208.0  0.0  0.0\n",
              "299  1.0  1.0   534618.0  37.200000   40.0  ...  3.0  2.0   6112.0  0.0  0.0\n",
              "\n",
              "[300 rows x 27 columns]"
            ]
          },
          "metadata": {
            "tags": []
          },
          "execution_count": 71
        }
      ]
    },
    {
      "cell_type": "code",
      "metadata": {
        "id": "pWSwVphaaY33"
      },
      "source": [
        "# # To re-check Null value for each column\n",
        "# pd.DataFrame(X).isnull().sum()"
      ],
      "execution_count": 79,
      "outputs": []
    },
    {
      "cell_type": "markdown",
      "metadata": {
        "id": "X_ZhFNEcnm68"
      },
      "source": [
        "To encode target variable"
      ]
    },
    {
      "cell_type": "code",
      "metadata": {
        "id": "4n_qXbfwafJj"
      },
      "source": [
        "label_encoder = LabelEncoder()\n",
        "label_encoded_y = label_encoder.fit_transform(y)"
      ],
      "execution_count": 73,
      "outputs": []
    },
    {
      "cell_type": "markdown",
      "metadata": {
        "id": "tmSnJCosn04-"
      },
      "source": [
        "Separate train & test dataset"
      ]
    },
    {
      "cell_type": "code",
      "metadata": {
        "id": "fAqyNOrtbrwO"
      },
      "source": [
        "X_train, X_test, y_train, y_test = train_test_split(imputed_X, label_encoded_y, test_size=0.33, random_state=3)"
      ],
      "execution_count": 75,
      "outputs": []
    },
    {
      "cell_type": "markdown",
      "metadata": {
        "id": "IwmVvsxKnifX"
      },
      "source": [
        "To define the model"
      ]
    },
    {
      "cell_type": "code",
      "metadata": {
        "colab": {
          "base_uri": "https://localhost:8080/"
        },
        "id": "SsFSRQCjcDsR",
        "outputId": "15ee989a-96d2-4b74-e550-c421fc7cdc1d"
      },
      "source": [
        "model = XGBClassifier()\n",
        "model.fit(X_train, y_train)"
      ],
      "execution_count": 76,
      "outputs": [
        {
          "output_type": "execute_result",
          "data": {
            "text/plain": [
              "XGBClassifier(base_score=0.5, booster='gbtree', colsample_bylevel=1,\n",
              "              colsample_bynode=1, colsample_bytree=1, gamma=0,\n",
              "              learning_rate=0.1, max_delta_step=0, max_depth=3,\n",
              "              min_child_weight=1, missing=None, n_estimators=100, n_jobs=1,\n",
              "              nthread=None, objective='binary:logistic', random_state=0,\n",
              "              reg_alpha=0, reg_lambda=1, scale_pos_weight=1, seed=None,\n",
              "              silent=None, subsample=1, verbosity=1)"
            ]
          },
          "metadata": {
            "tags": []
          },
          "execution_count": 76
        }
      ]
    },
    {
      "cell_type": "markdown",
      "metadata": {
        "id": "iZL51becn_qC"
      },
      "source": [
        "To predict results from test dataset"
      ]
    },
    {
      "cell_type": "code",
      "metadata": {
        "id": "tNeXqAtQcsMF"
      },
      "source": [
        "y_pred = model.predict(X_test)"
      ],
      "execution_count": 77,
      "outputs": []
    },
    {
      "cell_type": "markdown",
      "metadata": {
        "id": "jOObCHbDoC18"
      },
      "source": [
        "To print the accuracy"
      ]
    },
    {
      "cell_type": "code",
      "metadata": {
        "colab": {
          "base_uri": "https://localhost:8080/"
        },
        "id": "uernR2XedK_k",
        "outputId": "ae1273d4-9333-40b1-9076-6868e3f5a040"
      },
      "source": [
        "print ('Accuracy =', round(accuracy_score(y_test, y_pred)*100, 2), '%')"
      ],
      "execution_count": 78,
      "outputs": [
        {
          "output_type": "stream",
          "text": [
            "Accuracy = 86.87 %\n"
          ],
          "name": "stdout"
        }
      ]
    },
    {
      "cell_type": "code",
      "metadata": {
        "id": "s2VXkLOWdRUQ"
      },
      "source": [
        ""
      ],
      "execution_count": null,
      "outputs": []
    }
  ]
}