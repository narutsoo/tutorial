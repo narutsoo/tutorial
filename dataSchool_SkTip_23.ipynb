{
  "nbformat": 4,
  "nbformat_minor": 0,
  "metadata": {
    "colab": {
      "name": "dataSchool_SkTip_23.ipynb",
      "provenance": [],
      "authorship_tag": "ABX9TyPk1sjKCOPMlrSEbulnlZta",
      "include_colab_link": true
    },
    "kernelspec": {
      "name": "python3",
      "display_name": "Python 3"
    },
    "language_info": {
      "name": "python"
    }
  },
  "cells": [
    {
      "cell_type": "markdown",
      "metadata": {
        "id": "view-in-github",
        "colab_type": "text"
      },
      "source": [
        "<a href=\"https://colab.research.google.com/github/narutsoo/tutorial/blob/master/dataSchool_SkTip_23.ipynb\" target=\"_parent\"><img src=\"https://colab.research.google.com/assets/colab-badge.svg\" alt=\"Open In Colab\"/></a>"
      ]
    },
    {
      "cell_type": "code",
      "metadata": {
        "id": "nCkp7hLwcNB_"
      },
      "source": [
        "from sklearn.datasets import load_diabetes"
      ],
      "execution_count": 2,
      "outputs": []
    },
    {
      "cell_type": "code",
      "metadata": {
        "id": "b26MwDCLcZ5y"
      },
      "source": [
        "dataset = load_diabetes()"
      ],
      "execution_count": 3,
      "outputs": []
    },
    {
      "cell_type": "code",
      "metadata": {
        "id": "u3u4yn-gcg44"
      },
      "source": [
        "X, y = dataset.data, dataset.target"
      ],
      "execution_count": 4,
      "outputs": []
    },
    {
      "cell_type": "code",
      "metadata": {
        "id": "Y9M8huM1clUA"
      },
      "source": [
        "from sklearn.linear_model import LinearRegression"
      ],
      "execution_count": 5,
      "outputs": []
    },
    {
      "cell_type": "code",
      "metadata": {
        "id": "XIIboQy3coVv"
      },
      "source": [
        "LR = LinearRegression(normalize=True)"
      ],
      "execution_count": 7,
      "outputs": []
    },
    {
      "cell_type": "code",
      "metadata": {
        "colab": {
          "base_uri": "https://localhost:8080/"
        },
        "id": "utxQ1pELcqRv",
        "outputId": "f858912d-8831-43ad-ea02-97de5342886a"
      },
      "source": [
        "LR.fit(X, y)"
      ],
      "execution_count": 11,
      "outputs": [
        {
          "output_type": "execute_result",
          "data": {
            "text/plain": [
              "LinearRegression(copy_X=True, fit_intercept=True, n_jobs=None, normalize=True)"
            ]
          },
          "metadata": {
            "tags": []
          },
          "execution_count": 11
        }
      ]
    },
    {
      "cell_type": "code",
      "metadata": {
        "colab": {
          "base_uri": "https://localhost:8080/"
        },
        "id": "-h2J7wn4cssO",
        "outputId": "2b1e953f-f420-4146-8b39-e6f7c38aa415"
      },
      "source": [
        "LR.intercept_"
      ],
      "execution_count": 13,
      "outputs": [
        {
          "output_type": "execute_result",
          "data": {
            "text/plain": [
              "152.1334841628965"
            ]
          },
          "metadata": {
            "tags": []
          },
          "execution_count": 13
        }
      ]
    },
    {
      "cell_type": "code",
      "metadata": {
        "colab": {
          "base_uri": "https://localhost:8080/"
        },
        "id": "OfFUZ96Xc1kM",
        "outputId": "b62b5b45-9a3a-4fa7-fb12-89eca7485806"
      },
      "source": [
        "LR.coef_"
      ],
      "execution_count": 14,
      "outputs": [
        {
          "output_type": "execute_result",
          "data": {
            "text/plain": [
              "array([ -10.01219782, -239.81908937,  519.83978679,  324.39042769,\n",
              "       -792.18416163,  476.74583782,  101.04457032,  177.06417623,\n",
              "        751.27932109,   67.62538639])"
            ]
          },
          "metadata": {
            "tags": []
          },
          "execution_count": 14
        }
      ]
    },
    {
      "cell_type": "code",
      "metadata": {
        "colab": {
          "base_uri": "https://localhost:8080/"
        },
        "id": "dvI8gTmjdCaK",
        "outputId": "e42e419d-7518-4bbc-c979-bb1bfb30312c"
      },
      "source": [
        "list(zip(dataset.feature_names, LR.coef_))"
      ],
      "execution_count": 15,
      "outputs": [
        {
          "output_type": "execute_result",
          "data": {
            "text/plain": [
              "[('age', -10.01219781747062),\n",
              " ('sex', -239.81908936565512),\n",
              " ('bmi', 519.8397867901346),\n",
              " ('bp', 324.39042768937685),\n",
              " ('s1', -792.1841616283069),\n",
              " ('s2', 476.74583782366227),\n",
              " ('s3', 101.04457032134428),\n",
              " ('s4', 177.0641762322498),\n",
              " ('s5', 751.2793210873948),\n",
              " ('s6', 67.62538639104356)]"
            ]
          },
          "metadata": {
            "tags": []
          },
          "execution_count": 15
        }
      ]
    },
    {
      "cell_type": "code",
      "metadata": {
        "id": "HHflnTrRdLEi"
      },
      "source": [
        ""
      ],
      "execution_count": null,
      "outputs": []
    }
  ]
}