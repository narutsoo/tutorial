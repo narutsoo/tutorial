{
  "nbformat": 4,
  "nbformat_minor": 0,
  "metadata": {
    "colab": {
      "name": "Challenge_Regression_01.ipynb",
      "provenance": [],
      "collapsed_sections": [],
      "include_colab_link": true
    },
    "kernelspec": {
      "display_name": "Python 2",
      "language": "python",
      "name": "python2"
    },
    "language_info": {
      "codemirror_mode": {
        "name": "ipython",
        "version": 2
      },
      "file_extension": ".py",
      "mimetype": "text/x-python",
      "name": "python",
      "nbconvert_exporter": "python",
      "pygments_lexer": "ipython2",
      "version": "2.7.14"
    }
  },
  "cells": [
    {
      "cell_type": "markdown",
      "metadata": {
        "id": "view-in-github",
        "colab_type": "text"
      },
      "source": [
        "<a href=\"https://colab.research.google.com/github/narutsoo/tutorial/blob/master/Challenge_Regression_01.ipynb\" target=\"_parent\"><img src=\"https://colab.research.google.com/assets/colab-badge.svg\" alt=\"Open In Colab\"/></a>"
      ]
    },
    {
      "cell_type": "markdown",
      "metadata": {
        "id": "w18VoqIoBYRY"
      },
      "source": [
        "---\n",
        "\n",
        "# โจทย์ทดสอบ Linear Regression #1 (เฉลย)\n",
        "---"
      ]
    },
    {
      "cell_type": "markdown",
      "metadata": {
        "id": "m0--PXvg-oJb"
      },
      "source": [
        "สร้างข้อมูล / นำเข้าข้อมูล .. วันที่ x และ ราคาหุ้น y\n"
      ]
    },
    {
      "cell_type": "code",
      "metadata": {
        "id": "ClKwgF4Sw1nx"
      },
      "source": [
        "import numpy as np\n",
        "\n",
        "x = np.array ([1,2,3,4,5,8,9,10,11,12,16,17,18,19,22,23,24,25,26])\n",
        "y = np.array ([750.46,784.5,770.22,722.81,703.87,667.85,672.32,686.86,675,690.26,692.98,699,710,695.03,707.45,701.45,688.92,700.01, 708.58])"
      ],
      "execution_count": null,
      "outputs": []
    },
    {
      "cell_type": "code",
      "metadata": {
        "id": "P1TLX0wsigvD"
      },
      "source": [
        "x = x.reshape(-1, 1)"
      ],
      "execution_count": null,
      "outputs": []
    },
    {
      "cell_type": "markdown",
      "metadata": {
        "id": "tKZIktpDB5gU"
      },
      "source": [
        "เรียกใช้ Library Matplotlib .. เพื่อแสดงผลข้อมูล"
      ]
    },
    {
      "cell_type": "code",
      "metadata": {
        "id": "F_1TzwHCBvnN"
      },
      "source": [
        "import matplotlib.pyplot as plt"
      ],
      "execution_count": null,
      "outputs": []
    },
    {
      "cell_type": "code",
      "metadata": {
        "id": "12ICXnaFByO-",
        "outputId": "d25311d8-da7a-4eb1-ac0e-72ada063222d",
        "colab": {
          "base_uri": "https://localhost:8080/",
          "height": 269
        }
      },
      "source": [
        "plt.scatter(x, y, s = 80, marker='+')\n",
        "plt.show()"
      ],
      "execution_count": null,
      "outputs": [
        {
          "output_type": "display_data",
          "data": {
            "image/png": "[encoded data removed]",
            "text/plain": [
              "<Figure size 432x288 with 1 Axes>"
            ]
          },
          "metadata": {
            "tags": [],
            "needs_background": "light"
          }
        }
      ]
    },
    {
      "cell_type": "markdown",
      "metadata": {
        "id": "QHLg4_O9CMPr"
      },
      "source": [
        "จาก Library sklearn (หรือ scikit learn) เราจะเรียกใช้ Linear Regression"
      ]
    },
    {
      "cell_type": "code",
      "metadata": {
        "id": "3MUAMrrYB2VZ"
      },
      "source": [
        "from sklearn.linear_model import LinearRegression"
      ],
      "execution_count": null,
      "outputs": []
    },
    {
      "cell_type": "code",
      "metadata": {
        "id": "QWL9KFeHCDaM"
      },
      "source": [
        "LR = LinearRegression(normalize=True)"
      ],
      "execution_count": null,
      "outputs": []
    },
    {
      "cell_type": "markdown",
      "metadata": {
        "id": "eXX_jGCDqlSx"
      },
      "source": [
        "ทำการ Train model ด้วยข้อมูล x, y"
      ]
    },
    {
      "cell_type": "code",
      "metadata": {
        "id": "HOLr8KMlqkca",
        "outputId": "1b9c403f-008c-495e-f44d-4eccc62322a5",
        "colab": {
          "base_uri": "https://localhost:8080/"
        }
      },
      "source": [
        "LR.fit(x, y)"
      ],
      "execution_count": null,
      "outputs": [
        {
          "output_type": "execute_result",
          "data": {
            "text/plain": [
              "LinearRegression(copy_X=True, fit_intercept=True, n_jobs=None, normalize=True)"
            ]
          },
          "metadata": {
            "tags": []
          },
          "execution_count": 7
        }
      ]
    },
    {
      "cell_type": "markdown",
      "metadata": {
        "id": "N4ArTfGgDSok"
      },
      "source": [
        "ถึงตอนนี้ .. เราจะได้ Linear Regression Model แล้ว ..\n",
        "\n",
        "\n",
        "ดังนั้น จะทำการวัดประสิทธิภาพของ Model"
      ]
    },
    {
      "cell_type": "code",
      "metadata": {
        "id": "CSBNrwtPDMbf"
      },
      "source": [
        "y_pred = LR.predict(x)"
      ],
      "execution_count": null,
      "outputs": []
    },
    {
      "cell_type": "code",
      "metadata": {
        "id": "bEWZSXPDDX-2",
        "outputId": "986a6506-e05e-4b4a-9751-520fcb71dc20",
        "colab": {
          "base_uri": "https://localhost:8080/"
        }
      },
      "source": [
        "from sklearn.metrics import mean_squared_error, r2_score\n",
        "\n",
        "rmse = np.sqrt(mean_squared_error(y, y_pred))\n",
        "print ('RMSE (Root Mean Squared Error) = ', rmse)\n",
        "\n",
        "r2 = r2_score(y, y_pred)\n",
        "print ('R2 = ', r2)"
      ],
      "execution_count": null,
      "outputs": [
        {
          "output_type": "stream",
          "text": [
            "('RMSE (Root Mean Squared Error) = ', 27.103591303786885)\n",
            "('R2 = ', 0.19864465054518787)\n"
          ],
          "name": "stdout"
        }
      ]
    },
    {
      "cell_type": "markdown",
      "metadata": {
        "id": "UfYAi5SA8Mkv"
      },
      "source": [
        "************************************************************************\n",
        "จะเห็นว่า การใช้ Linear Regression ไม่สามารถ Fit กับข้อมูลราคาหุ้นชุดนี้ได้ดีมากนัก ค่า R2 = 0.19\n",
        "\n",
        "การใช้ Polynomial Regression อาจะเป็นทางเลือกที่ดีกว่า\n",
        "************************************************************************"
      ]
    },
    {
      "cell_type": "markdown",
      "metadata": {
        "id": "nMR1ib7K2ujd"
      },
      "source": [
        "กรณีต้องการแสดงผล Linear Regression Model (เส้นสีแดง) เปรียบเทียบกับข้อมูลจริง (สีน้ำเงิน)"
      ]
    },
    {
      "cell_type": "code",
      "metadata": {
        "id": "SP-INE_Hwa77",
        "outputId": "0382e98f-cf1d-473f-90f2-8a412ce2d1fc",
        "colab": {
          "base_uri": "https://localhost:8080/",
          "height": 269
        }
      },
      "source": [
        "# Plot ข้อมูล (x,y) \n",
        "plt.scatter(x, y, s = 80, marker = '+', label = 'Data')\n",
        "\n",
        "# Plot Linear Regression Model (x,y_pred)\n",
        "plt.plot(x, y_pred, linewidth = 4, color = 'r', label = 'Linear Regression Model')\n",
        "\n",
        "plt.legend(loc='upper right')\n",
        "plt.show()"
      ],
      "execution_count": null,
      "outputs": [
        {
          "output_type": "display_data",
          "data": {
            "image/png": "[encoded data removed]",
            "text/plain": [
              "<Figure size 432x288 with 1 Axes>"
            ]
          },
          "metadata": {
            "tags": [],
            "needs_background": "light"
          }
        }
      ]
    },
    {
      "cell_type": "code",
      "metadata": {
        "id": "yVopWR8T7RpH"
      },
      "source": [
        ""
      ],
      "execution_count": null,
      "outputs": []
    }
  ]
}