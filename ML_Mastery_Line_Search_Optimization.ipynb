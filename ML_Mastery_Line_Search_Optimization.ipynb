{
 "cells": [
  {
   "cell_type": "markdown",
   "id": "42b0e0e6",
   "metadata": {},
   "source": [
    "## Topic : Line Search Optimization With Python\n",
    "\n",
    "*Reference*\n",
    "\n",
    "* https://machinelearningmastery.com/line-search-optimization-with-python/"
   ]
  },
  {
   "cell_type": "markdown",
   "id": "00898074",
   "metadata": {},
   "source": [
    "---\n",
    "## Line Search in Python"
   ]
  },
  {
   "cell_type": "code",
   "execution_count": 1,
   "id": "c8a4fee4",
   "metadata": {},
   "outputs": [],
   "source": [
    "import numpy as np\n",
    "import matplotlib.pyplot as plt\n",
    "from scipy.optimize import line_search"
   ]
  },
  {
   "cell_type": "code",
   "execution_count": 2,
   "id": "d63d276b",
   "metadata": {},
   "outputs": [],
   "source": [
    "# objective function\n",
    "def objective(x):\n",
    "    return (-5.0 + x)**2.0\n",
    "\n",
    "# gradient for the objective function\n",
    "def gradient(x):\n",
    "    return (2.0*(-5.0 +x))"
   ]
  },
  {
   "cell_type": "code",
   "execution_count": 3,
   "id": "5b30b6a1",
   "metadata": {},
   "outputs": [],
   "source": [
    "rmin, rmax = -10.0, 20.0"
   ]
  },
  {
   "cell_type": "code",
   "execution_count": 4,
   "id": "a39cd7f3",
   "metadata": {},
   "outputs": [],
   "source": [
    "inputs = np.arange(rmin, rmax, 0.1)"
   ]
  },
  {
   "cell_type": "code",
   "execution_count": 5,
   "id": "0479ab42",
   "metadata": {},
   "outputs": [],
   "source": [
    "targets = [objective(x) for x in inputs]"
   ]
  },
  {
   "cell_type": "markdown",
   "id": "88a1f5ec",
   "metadata": {},
   "source": [
    "###  To visualization"
   ]
  },
  {
   "cell_type": "code",
   "execution_count": 6,
   "id": "2f6259ca",
   "metadata": {},
   "outputs": [
    {
     "data": {
      "image/png": "[encoded data removed]",
      "text/plain": [
       "<Figure size 432x288 with 1 Axes>"
      ]
     },
     "metadata": {
      "needs_background": "light"
     },
     "output_type": "display_data"
    }
   ],
   "source": [
    "plt.plot(inputs, targets, label = 'objective')\n",
    "plt.legend()\n",
    "plt.show()"
   ]
  },
  {
   "cell_type": "markdown",
   "id": "3b6d263c",
   "metadata": {},
   "source": [
    "### Perform the line search"
   ]
  },
  {
   "cell_type": "code",
   "execution_count": 7,
   "id": "e055d48b",
   "metadata": {},
   "outputs": [],
   "source": [
    "# Define the starting point\n",
    "point = -5.0\n",
    "# Define the direction to move\n",
    "direction = 100.0"
   ]
  },
  {
   "cell_type": "code",
   "execution_count": 8,
   "id": "f6ed16f8",
   "metadata": {},
   "outputs": [
    {
     "name": "stdout",
     "output_type": "stream",
     "text": [
      "Start = -5.0, Direction = 100.0\n"
     ]
    }
   ],
   "source": [
    "# Print the initial condition\n",
    "print (\"Start = %.1f, Direction = %.1f\" %(point, direction))\n",
    "# Perform the line search\n",
    "result = line_search(objective, gradient, point, direction)"
   ]
  },
  {
   "cell_type": "code",
   "execution_count": 9,
   "id": "88dd49d6",
   "metadata": {},
   "outputs": [
    {
     "name": "stdout",
     "output_type": "stream",
     "text": [
      "Alpha: 0.100\n",
      "Function evaluations: 3\n"
     ]
    }
   ],
   "source": [
    "# Summarize the result\n",
    "alpha = result[0]\n",
    "print('Alpha: %.3f' % alpha)\n",
    "print('Function evaluations: %d' % result[1])"
   ]
  },
  {
   "cell_type": "code",
   "execution_count": 10,
   "id": "068fdf56",
   "metadata": {},
   "outputs": [],
   "source": [
    "# Define objective function minima\n",
    "end = point + alpha * direction"
   ]
  },
  {
   "cell_type": "code",
   "execution_count": 11,
   "id": "f07927a3",
   "metadata": {},
   "outputs": [
    {
     "name": "stdout",
     "output_type": "stream",
     "text": [
      "f(end) = f(5.000) = 0.000\n"
     ]
    }
   ],
   "source": [
    "# Evaluate objection function minima\n",
    "print ('f(end) = f(%.3f) = %.3f' %(end, objective(end)))"
   ]
  },
  {
   "cell_type": "code",
   "execution_count": 12,
   "id": "c55db66b",
   "metadata": {},
   "outputs": [],
   "source": [
    "# Define range\n",
    "rmin, rmax = -10.0, 20.0\n",
    "# Prepare input\n",
    "inputs = np.arange(rmin, rmax, 0.1)"
   ]
  },
  {
   "cell_type": "code",
   "execution_count": 13,
   "id": "6f7320ee",
   "metadata": {},
   "outputs": [
    {
     "data": {
      "image/png": "[encoded data removed]",
      "text/plain": [
       "<Figure size 432x288 with 1 Axes>"
      ]
     },
     "metadata": {
      "needs_background": "light"
     },
     "output_type": "display_data"
    }
   ],
   "source": [
    "# Compute targets\n",
    "targets = [objective(x) for x in inputs]\n",
    "# Plot inputs vs objective\n",
    "plt.plot(inputs, targets, '--', label='objective')\n",
    "# Plot start and end of the search\n",
    "plt.plot([point], [objective(point)], 's', color='g')\n",
    "plt.plot([end], [objective(end)], 's', color='r')\n",
    "plt.legend()\n",
    "plt.show()"
   ]
  },
  {
   "cell_type": "markdown",
   "id": "0c272314",
   "metadata": {},
   "source": [
    "---\n",
    "## Handling Line Search Failure Cases"
   ]
  },
  {
   "cell_type": "code",
   "execution_count": 14,
   "id": "d0e9b432",
   "metadata": {},
   "outputs": [],
   "source": [
    "import numpy as np\n",
    "from scipy.optimize import line_search\n",
    "import matplotlib.pyplot as plt"
   ]
  },
  {
   "cell_type": "code",
   "execution_count": 15,
   "id": "a3d50ec1",
   "metadata": {},
   "outputs": [],
   "source": [
    "# objective function\n",
    "def objective(x):\n",
    "    return (-5.0 + x)**2\n",
    "    \n",
    "# gradient function\n",
    "def gradient(x):\n",
    "    return 2.0*(-5.0 + x)"
   ]
  },
  {
   "cell_type": "markdown",
   "id": "67ee5a16",
   "metadata": {},
   "source": [
    "### Perform the line search"
   ]
  },
  {
   "cell_type": "code",
   "execution_count": 16,
   "id": "ea794964",
   "metadata": {},
   "outputs": [],
   "source": [
    "# Define the starting point\n",
    "point = -5.0\n",
    "# Define the direction to move\n",
    "direction = 3.0"
   ]
  },
  {
   "cell_type": "code",
   "execution_count": 17,
   "id": "7f0614a2",
   "metadata": {},
   "outputs": [
    {
     "name": "stdout",
     "output_type": "stream",
     "text": [
      "Start = -5.0, Direction = 3.0\n"
     ]
    }
   ],
   "source": [
    "# Print the initial condition\n",
    "print (\"Start = %.1f, Direction = %.1f\" %(point, direction))\n",
    "# Perform the line search\n",
    "result = line_search(objective, gradient, point, direction)"
   ]
  },
  {
   "cell_type": "code",
   "execution_count": 18,
   "id": "6fa1a350",
   "metadata": {},
   "outputs": [
    {
     "name": "stdout",
     "output_type": "stream",
     "text": [
      "Alpha: 1.000\n",
      "Function evaluations: 2\n"
     ]
    }
   ],
   "source": [
    "# Summarize the result\n",
    "alpha = result[0]\n",
    "print('Alpha: %.3f' % alpha)\n",
    "print('Function evaluations: %d' % result[1])"
   ]
  },
  {
   "cell_type": "code",
   "execution_count": 19,
   "id": "0da63904",
   "metadata": {},
   "outputs": [],
   "source": [
    "# Define objective function minima\n",
    "end = point + alpha * direction"
   ]
  },
  {
   "cell_type": "code",
   "execution_count": 20,
   "id": "86d0ef4d",
   "metadata": {},
   "outputs": [
    {
     "name": "stdout",
     "output_type": "stream",
     "text": [
      "f(end) = f(-2.000) = 49.000\n"
     ]
    }
   ],
   "source": [
    "# Evaluate objective function minima\n",
    "print ('f(end) = f(%.3f) = %.3f' %(end, objective(end)))"
   ]
  },
  {
   "cell_type": "code",
   "execution_count": 21,
   "id": "999c6c71",
   "metadata": {},
   "outputs": [],
   "source": [
    "# Define range\n",
    "rmin, rmax = -10.0, 20.0\n",
    "# Prepare input\n",
    "inputs = np.arange(rmin, rmax, 0.1)"
   ]
  },
  {
   "cell_type": "code",
   "execution_count": 22,
   "id": "5ef7ef31",
   "metadata": {},
   "outputs": [
    {
     "data": {
      "image/png": "[encoded data removed]",
      "text/plain": [
       "<Figure size 432x288 with 1 Axes>"
      ]
     },
     "metadata": {
      "needs_background": "light"
     },
     "output_type": "display_data"
    }
   ],
   "source": [
    "# Compute targets\n",
    "targets = [objective(x) for x in inputs]\n",
    "# Compute targets\n",
    "targets = [objective(x) for x in inputs]\n",
    "# Plot inputs vs objective\n",
    "plt.plot(inputs, targets, '--', label='objective')\n",
    "# Plot start and end of the search\n",
    "plt.plot([point], [objective(point)], 's', color='g')\n",
    "plt.plot([end], [objective(end)], 's', color='r')\n",
    "plt.legend()\n",
    "plt.show()"
   ]
  },
  {
   "cell_type": "code",
   "execution_count": null,
   "id": "6987f5d3",
   "metadata": {},
   "outputs": [],
   "source": []
  }
 ],
 "metadata": {
  "kernelspec": {
   "display_name": "Python 3",
   "language": "python",
   "name": "python3"
  },
  "language_info": {
   "codemirror_mode": {
    "name": "ipython",
    "version": 3
   },
   "file_extension": ".py",
   "mimetype": "text/x-python",
   "name": "python",
   "nbconvert_exporter": "python",
   "pygments_lexer": "ipython3",
   "version": "3.7.10"
  }
 },
 "nbformat": 4,
 "nbformat_minor": 5
}
