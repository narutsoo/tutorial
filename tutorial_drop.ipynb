{
 "cells": [
  {
   "cell_type": "markdown",
   "metadata": {},
   "source": [
    "เรียกใช้งาน Pandas "
   ]
  },
  {
   "cell_type": "code",
   "execution_count": 1,
   "metadata": {},
   "outputs": [],
   "source": [
    "import pandas as pd"
   ]
  },
  {
   "cell_type": "markdown",
   "metadata": {},
   "source": [
    "สร้าง data frame ประกอบไปด้วย ชื่อ รายงาน ปี "
   ]
  },
  {
   "cell_type": "code",
   "execution_count": 7,
   "metadata": {},
   "outputs": [
    {
     "name": "stdout",
     "output_type": "stream",
     "text": [
      "   จำนวนที่ดิน           ชื่อ    ปี\n",
      "1            4         ฟอลคอน  2012\n",
      "2           24      ศรีปราชญ์  2012\n",
      "3           31  ท้าวทองกีบม้า  2013\n",
      "4            2       ขุนหมื่น  2014\n",
      "5            3     แม่การะเกด  2014\n"
     ]
    }
   ],
   "source": [
    "data = {'ชื่อ': ['ฟอลคอน', 'ศรีปราชญ์', 'ท้าวทองกีบม้า', 'ขุนหมื่น', 'แม่การะเกด'], \n",
    "        'ปี': [2012, 2012, 2013, 2014, 2014], \n",
    "        'จำนวนที่ดิน': [4, 24, 31, 2, 3]}\n",
    "df = pd.DataFrame(data, index = ['1', '2', '3', '4', '5'])\n",
    "print (df)"
   ]
  },
  {
   "cell_type": "code",
   "execution_count": null,
   "metadata": {},
   "outputs": [],
   "source": []
  }
 ],
 "metadata": {
  "kernelspec": {
   "display_name": "Python 2",
   "language": "python",
   "name": "python2"
  },
  "language_info": {
   "codemirror_mode": {
    "name": "ipython",
    "version": 2
   },
   "file_extension": ".py",
   "mimetype": "text/x-python",
   "name": "python",
   "nbconvert_exporter": "python",
   "pygments_lexer": "ipython2",
   "version": "2.7.12"
  }
 },
 "nbformat": 4,
 "nbformat_minor": 2
}
