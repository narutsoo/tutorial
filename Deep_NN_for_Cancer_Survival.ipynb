{
  "nbformat": 4,
  "nbformat_minor": 0,
  "metadata": {
    "colab": {
      "name": "Deep_NN_for_Cancer_Survival.ipynb",
      "provenance": [],
      "authorship_tag": "ABX9TyMqBrQxQZTMF37C65VDBvmc",
      "include_colab_link": true
    },
    "kernelspec": {
      "name": "python3",
      "display_name": "Python 3"
    },
    "language_info": {
      "name": "python"
    }
  },
  "cells": [
    {
      "cell_type": "markdown",
      "metadata": {
        "id": "view-in-github",
        "colab_type": "text"
      },
      "source": [
        "<a href=\"https://colab.research.google.com/github/narutsoo/tutorial/blob/master/Deep_NN_for_Cancer_Survival.ipynb\" target=\"_parent\"><img src=\"https://colab.research.google.com/assets/colab-badge.svg\" alt=\"Open In Colab\"/></a>"
      ]
    },
    {
      "cell_type": "markdown",
      "metadata": {
        "id": "mVinC-fs-IgD"
      },
      "source": [
        "# Topic : Develop a Neural Network for Cancer Survival Dataset\n",
        "\n",
        "Reference\n",
        "\n",
        "https://machinelearningmastery.com/neural-network-for-cancer-survival-dataset/"
      ]
    },
    {
      "cell_type": "markdown",
      "metadata": {
        "id": "JLoLJtzBJj_0"
      },
      "source": [
        "# 1) Neural Network Learning Dynamics"
      ]
    },
    {
      "cell_type": "markdown",
      "metadata": {
        "id": "Za9JYYJD-Ubn"
      },
      "source": [
        "Import related libraries"
      ]
    },
    {
      "cell_type": "code",
      "metadata": {
        "id": "tO7AVVlB9bhV"
      },
      "source": [
        "import pandas as pd\n",
        "import matplotlib.pyplot as plt\n",
        "from sklearn.preprocessing import LabelEncoder\n",
        "from sklearn.model_selection import train_test_split\n",
        "from keras.models import Sequential\n",
        "from keras.layers import Dense\n",
        "from sklearn.metrics import accuracy_score"
      ],
      "execution_count": 1,
      "outputs": []
    },
    {
      "cell_type": "markdown",
      "metadata": {
        "id": "gCTa-T_a-ZR0"
      },
      "source": [
        "Import dataset "
      ]
    },
    {
      "cell_type": "code",
      "metadata": {
        "id": "32pJZ-8a9lKv"
      },
      "source": [
        "data = pd.read_csv('https://raw.githubusercontent.com/jbrownlee/Datasets/master/haberman.csv', header=None)"
      ],
      "execution_count": 2,
      "outputs": []
    },
    {
      "cell_type": "code",
      "metadata": {
        "colab": {
          "base_uri": "https://localhost:8080/",
          "height": 203
        },
        "id": "NOtB0a4y9pIQ",
        "outputId": "62956505-5a2a-44eb-bcad-24bc66815e96"
      },
      "source": [
        "data.head()"
      ],
      "execution_count": 3,
      "outputs": [
        {
          "output_type": "execute_result",
          "data": {
            "text/html": [
              "<div>\n",
              "<style scoped>\n",
              "    .dataframe tbody tr th:only-of-type {\n",
              "        vertical-align: middle;\n",
              "    }\n",
              "\n",
              "    .dataframe tbody tr th {\n",
              "        vertical-align: top;\n",
              "    }\n",
              "\n",
              "    .dataframe thead th {\n",
              "        text-align: right;\n",
              "    }\n",
              "</style>\n",
              "<table border=\"1\" class=\"dataframe\">\n",
              "  <thead>\n",
              "    <tr style=\"text-align: right;\">\n",
              "      <th></th>\n",
              "      <th>0</th>\n",
              "      <th>1</th>\n",
              "      <th>2</th>\n",
              "      <th>3</th>\n",
              "    </tr>\n",
              "  </thead>\n",
              "  <tbody>\n",
              "    <tr>\n",
              "      <th>0</th>\n",
              "      <td>30</td>\n",
              "      <td>64</td>\n",
              "      <td>1</td>\n",
              "      <td>1</td>\n",
              "    </tr>\n",
              "    <tr>\n",
              "      <th>1</th>\n",
              "      <td>30</td>\n",
              "      <td>62</td>\n",
              "      <td>3</td>\n",
              "      <td>1</td>\n",
              "    </tr>\n",
              "    <tr>\n",
              "      <th>2</th>\n",
              "      <td>30</td>\n",
              "      <td>65</td>\n",
              "      <td>0</td>\n",
              "      <td>1</td>\n",
              "    </tr>\n",
              "    <tr>\n",
              "      <th>3</th>\n",
              "      <td>31</td>\n",
              "      <td>59</td>\n",
              "      <td>2</td>\n",
              "      <td>1</td>\n",
              "    </tr>\n",
              "    <tr>\n",
              "      <th>4</th>\n",
              "      <td>31</td>\n",
              "      <td>65</td>\n",
              "      <td>4</td>\n",
              "      <td>1</td>\n",
              "    </tr>\n",
              "  </tbody>\n",
              "</table>\n",
              "</div>"
            ],
            "text/plain": [
              "    0   1  2  3\n",
              "0  30  64  1  1\n",
              "1  30  62  3  1\n",
              "2  30  65  0  1\n",
              "3  31  59  2  1\n",
              "4  31  65  4  1"
            ]
          },
          "metadata": {
            "tags": []
          },
          "execution_count": 3
        }
      ]
    },
    {
      "cell_type": "markdown",
      "metadata": {
        "id": "H9EViIZk-mn2"
      },
      "source": [
        "Data Understanding : Describe, Histogram Plot"
      ]
    },
    {
      "cell_type": "code",
      "metadata": {
        "colab": {
          "base_uri": "https://localhost:8080/",
          "height": 295
        },
        "id": "wHRTFrCf-jMT",
        "outputId": "db5833ef-940a-4a0a-f4a4-5658e4fa0920"
      },
      "source": [
        "data.describe()"
      ],
      "execution_count": 4,
      "outputs": [
        {
          "output_type": "execute_result",
          "data": {
            "text/html": [
              "<div>\n",
              "<style scoped>\n",
              "    .dataframe tbody tr th:only-of-type {\n",
              "        vertical-align: middle;\n",
              "    }\n",
              "\n",
              "    .dataframe tbody tr th {\n",
              "        vertical-align: top;\n",
              "    }\n",
              "\n",
              "    .dataframe thead th {\n",
              "        text-align: right;\n",
              "    }\n",
              "</style>\n",
              "<table border=\"1\" class=\"dataframe\">\n",
              "  <thead>\n",
              "    <tr style=\"text-align: right;\">\n",
              "      <th></th>\n",
              "      <th>0</th>\n",
              "      <th>1</th>\n",
              "      <th>2</th>\n",
              "      <th>3</th>\n",
              "    </tr>\n",
              "  </thead>\n",
              "  <tbody>\n",
              "    <tr>\n",
              "      <th>count</th>\n",
              "      <td>306.000000</td>\n",
              "      <td>306.000000</td>\n",
              "      <td>306.000000</td>\n",
              "      <td>306.000000</td>\n",
              "    </tr>\n",
              "    <tr>\n",
              "      <th>mean</th>\n",
              "      <td>52.457516</td>\n",
              "      <td>62.852941</td>\n",
              "      <td>4.026144</td>\n",
              "      <td>1.264706</td>\n",
              "    </tr>\n",
              "    <tr>\n",
              "      <th>std</th>\n",
              "      <td>10.803452</td>\n",
              "      <td>3.249405</td>\n",
              "      <td>7.189654</td>\n",
              "      <td>0.441899</td>\n",
              "    </tr>\n",
              "    <tr>\n",
              "      <th>min</th>\n",
              "      <td>30.000000</td>\n",
              "      <td>58.000000</td>\n",
              "      <td>0.000000</td>\n",
              "      <td>1.000000</td>\n",
              "    </tr>\n",
              "    <tr>\n",
              "      <th>25%</th>\n",
              "      <td>44.000000</td>\n",
              "      <td>60.000000</td>\n",
              "      <td>0.000000</td>\n",
              "      <td>1.000000</td>\n",
              "    </tr>\n",
              "    <tr>\n",
              "      <th>50%</th>\n",
              "      <td>52.000000</td>\n",
              "      <td>63.000000</td>\n",
              "      <td>1.000000</td>\n",
              "      <td>1.000000</td>\n",
              "    </tr>\n",
              "    <tr>\n",
              "      <th>75%</th>\n",
              "      <td>60.750000</td>\n",
              "      <td>65.750000</td>\n",
              "      <td>4.000000</td>\n",
              "      <td>2.000000</td>\n",
              "    </tr>\n",
              "    <tr>\n",
              "      <th>max</th>\n",
              "      <td>83.000000</td>\n",
              "      <td>69.000000</td>\n",
              "      <td>52.000000</td>\n",
              "      <td>2.000000</td>\n",
              "    </tr>\n",
              "  </tbody>\n",
              "</table>\n",
              "</div>"
            ],
            "text/plain": [
              "                0           1           2           3\n",
              "count  306.000000  306.000000  306.000000  306.000000\n",
              "mean    52.457516   62.852941    4.026144    1.264706\n",
              "std     10.803452    3.249405    7.189654    0.441899\n",
              "min     30.000000   58.000000    0.000000    1.000000\n",
              "25%     44.000000   60.000000    0.000000    1.000000\n",
              "50%     52.000000   63.000000    1.000000    1.000000\n",
              "75%     60.750000   65.750000    4.000000    2.000000\n",
              "max     83.000000   69.000000   52.000000    2.000000"
            ]
          },
          "metadata": {
            "tags": []
          },
          "execution_count": 4
        }
      ]
    },
    {
      "cell_type": "code",
      "metadata": {
        "colab": {
          "base_uri": "https://localhost:8080/",
          "height": 281
        },
        "id": "cgX1Itzk90ef",
        "outputId": "e43d17d4-cb0f-4166-90c2-309897a78bbf"
      },
      "source": [
        "data.hist()\n",
        "plt.show()"
      ],
      "execution_count": 5,
      "outputs": [
        {
          "output_type": "display_data",
          "data": {
            "image/png": "[encoded data removed]",
            "text/plain": [
              "<Figure size 432x288 with 4 Axes>"
            ]
          },
          "metadata": {
            "tags": [],
            "needs_background": "light"
          }
        }
      ]
    },
    {
      "cell_type": "markdown",
      "metadata": {
        "id": "XivjmMlk_M7b"
      },
      "source": [
        "Change dataframe to numpy array"
      ]
    },
    {
      "cell_type": "code",
      "metadata": {
        "id": "D789o3h4-BHt"
      },
      "source": [
        "dataset = data.values"
      ],
      "execution_count": 6,
      "outputs": []
    },
    {
      "cell_type": "markdown",
      "metadata": {
        "id": "F2DEbFGs_Iti"
      },
      "source": [
        "Define input and output variables"
      ]
    },
    {
      "cell_type": "code",
      "metadata": {
        "id": "2yDyldWe_EZj"
      },
      "source": [
        "X = dataset[:,:-1]\n",
        "y = dataset[:,-1]"
      ],
      "execution_count": 7,
      "outputs": []
    },
    {
      "cell_type": "code",
      "metadata": {
        "id": "CJJH4MPD_QVz"
      },
      "source": [
        "X = X.astype(float)\n",
        "label_encoder = LabelEncoder()\n",
        "y_enc = label_encoder.fit_transform(y)"
      ],
      "execution_count": 8,
      "outputs": []
    },
    {
      "cell_type": "markdown",
      "metadata": {
        "id": "_X5OfxWnApin"
      },
      "source": [
        "Split train & test dataset"
      ]
    },
    {
      "cell_type": "code",
      "metadata": {
        "id": "bI7k_2ti_39B"
      },
      "source": [
        "X_train, X_test, y_train, y_test = train_test_split(X, y_enc, test_size=0.5, stratify=y_enc, random_state=1)"
      ],
      "execution_count": 9,
      "outputs": []
    },
    {
      "cell_type": "code",
      "metadata": {
        "id": "rzkXoNwgBDIN"
      },
      "source": [
        "n_features = X_train.shape[1]"
      ],
      "execution_count": 10,
      "outputs": []
    },
    {
      "cell_type": "markdown",
      "metadata": {
        "id": "4qf1u2xABS5Q"
      },
      "source": [
        "Define the model"
      ]
    },
    {
      "cell_type": "code",
      "metadata": {
        "id": "YIdaQG-1_QrN"
      },
      "source": [
        "model = Sequential()\n",
        "model.add(Dense(10, input_dim=n_features, kernel_initializer='he_normal', activation='relu'))\n",
        "model.add(Dense(1, activation='sigmoid'))"
      ],
      "execution_count": 11,
      "outputs": []
    },
    {
      "cell_type": "code",
      "metadata": {
        "id": "CvEy0KNn_o6H"
      },
      "source": [
        "model.compile(loss='binary_crossentropy', optimizer='adam')"
      ],
      "execution_count": 12,
      "outputs": []
    },
    {
      "cell_type": "markdown",
      "metadata": {
        "id": "H9IBRJYWCbcU"
      },
      "source": [
        "Train the model"
      ]
    },
    {
      "cell_type": "code",
      "metadata": {
        "colab": {
          "base_uri": "https://localhost:8080/"
        },
        "id": "Fcz0omdeBa-E",
        "outputId": "414fc088-d78a-4c8f-9845-a5f66d4a14fb"
      },
      "source": [
        "history = model.fit(X_train, y_train, epochs=200, batch_size=16, verbose=2, validation_data=(X_test, y_test))"
      ],
      "execution_count": 13,
      "outputs": [
        {
          "output_type": "stream",
          "text": [
            "Epoch 1/200\n",
            "10/10 - 14s - loss: 21.0699 - val_loss: 18.0042\n",
            "Epoch 2/200\n",
            "10/10 - 0s - loss: 17.2847 - val_loss: 14.3124\n",
            "Epoch 3/200\n",
            "10/10 - 0s - loss: 13.6416 - val_loss: 10.9202\n",
            "Epoch 4/200\n",
            "10/10 - 0s - loss: 10.1324 - val_loss: 7.8743\n",
            "Epoch 5/200\n",
            "10/10 - 0s - loss: 7.1762 - val_loss: 5.1389\n",
            "Epoch 6/200\n",
            "10/10 - 0s - loss: 4.5399 - val_loss: 3.0342\n",
            "Epoch 7/200\n",
            "10/10 - 0s - loss: 2.9670 - val_loss: 2.1693\n",
            "Epoch 8/200\n",
            "10/10 - 0s - loss: 2.5452 - val_loss: 2.2556\n",
            "Epoch 9/200\n",
            "10/10 - 0s - loss: 2.5830 - val_loss: 2.1869\n",
            "Epoch 10/200\n",
            "10/10 - 0s - loss: 2.4805 - val_loss: 2.0671\n",
            "Epoch 11/200\n",
            "10/10 - 0s - loss: 2.4132 - val_loss: 2.0280\n",
            "Epoch 12/200\n",
            "10/10 - 0s - loss: 2.3658 - val_loss: 1.9910\n",
            "Epoch 13/200\n",
            "10/10 - 0s - loss: 2.3193 - val_loss: 1.9596\n",
            "Epoch 14/200\n",
            "10/10 - 0s - loss: 2.2831 - val_loss: 1.9236\n",
            "Epoch 15/200\n",
            "10/10 - 0s - loss: 2.2428 - val_loss: 1.8931\n",
            "Epoch 16/200\n",
            "10/10 - 0s - loss: 2.2007 - val_loss: 1.8541\n",
            "Epoch 17/200\n",
            "10/10 - 0s - loss: 2.1703 - val_loss: 1.8160\n",
            "Epoch 18/200\n",
            "10/10 - 0s - loss: 2.1262 - val_loss: 1.7877\n",
            "Epoch 19/200\n",
            "10/10 - 0s - loss: 2.0961 - val_loss: 1.7473\n",
            "Epoch 20/200\n",
            "10/10 - 0s - loss: 2.0520 - val_loss: 1.7198\n",
            "Epoch 21/200\n",
            "10/10 - 0s - loss: 2.0134 - val_loss: 1.6833\n",
            "Epoch 22/200\n",
            "10/10 - 0s - loss: 1.9783 - val_loss: 1.6461\n",
            "Epoch 23/200\n",
            "10/10 - 0s - loss: 1.9366 - val_loss: 1.6175\n",
            "Epoch 24/200\n",
            "10/10 - 0s - loss: 1.9035 - val_loss: 1.5871\n",
            "Epoch 25/200\n",
            "10/10 - 0s - loss: 1.8715 - val_loss: 1.5525\n",
            "Epoch 26/200\n",
            "10/10 - 0s - loss: 1.8329 - val_loss: 1.5223\n",
            "Epoch 27/200\n",
            "10/10 - 0s - loss: 1.7997 - val_loss: 1.4899\n",
            "Epoch 28/200\n",
            "10/10 - 0s - loss: 1.7665 - val_loss: 1.4589\n",
            "Epoch 29/200\n",
            "10/10 - 0s - loss: 1.7295 - val_loss: 1.4312\n",
            "Epoch 30/200\n",
            "10/10 - 0s - loss: 1.7040 - val_loss: 1.3949\n",
            "Epoch 31/200\n",
            "10/10 - 0s - loss: 1.6762 - val_loss: 1.3735\n",
            "Epoch 32/200\n",
            "10/10 - 0s - loss: 1.6275 - val_loss: 1.3368\n",
            "Epoch 33/200\n",
            "10/10 - 0s - loss: 1.5916 - val_loss: 1.3029\n",
            "Epoch 34/200\n",
            "10/10 - 0s - loss: 1.5622 - val_loss: 1.2711\n",
            "Epoch 35/200\n",
            "10/10 - 0s - loss: 1.5367 - val_loss: 1.2458\n",
            "Epoch 36/200\n",
            "10/10 - 0s - loss: 1.4923 - val_loss: 1.2067\n",
            "Epoch 37/200\n",
            "10/10 - 0s - loss: 1.4642 - val_loss: 1.1757\n",
            "Epoch 38/200\n",
            "10/10 - 0s - loss: 1.4278 - val_loss: 1.1417\n",
            "Epoch 39/200\n",
            "10/10 - 0s - loss: 1.3953 - val_loss: 1.1136\n",
            "Epoch 40/200\n",
            "10/10 - 0s - loss: 1.3540 - val_loss: 1.0756\n",
            "Epoch 41/200\n",
            "10/10 - 0s - loss: 1.3240 - val_loss: 1.0400\n",
            "Epoch 42/200\n",
            "10/10 - 0s - loss: 1.2879 - val_loss: 1.0071\n",
            "Epoch 43/200\n",
            "10/10 - 0s - loss: 1.2467 - val_loss: 0.9703\n",
            "Epoch 44/200\n",
            "10/10 - 0s - loss: 1.2053 - val_loss: 0.9407\n",
            "Epoch 45/200\n",
            "10/10 - 0s - loss: 1.1724 - val_loss: 0.9143\n",
            "Epoch 46/200\n",
            "10/10 - 0s - loss: 1.1295 - val_loss: 0.8916\n",
            "Epoch 47/200\n",
            "10/10 - 0s - loss: 1.0975 - val_loss: 0.8652\n",
            "Epoch 48/200\n",
            "10/10 - 0s - loss: 1.0566 - val_loss: 0.8454\n",
            "Epoch 49/200\n",
            "10/10 - 0s - loss: 1.0133 - val_loss: 0.8264\n",
            "Epoch 50/200\n",
            "10/10 - 0s - loss: 0.9867 - val_loss: 0.8115\n",
            "Epoch 51/200\n",
            "10/10 - 0s - loss: 0.9547 - val_loss: 0.7955\n",
            "Epoch 52/200\n",
            "10/10 - 0s - loss: 0.9201 - val_loss: 0.7833\n",
            "Epoch 53/200\n",
            "10/10 - 0s - loss: 0.8925 - val_loss: 0.7728\n",
            "Epoch 54/200\n",
            "10/10 - 0s - loss: 0.8931 - val_loss: 0.7724\n",
            "Epoch 55/200\n",
            "10/10 - 0s - loss: 0.8551 - val_loss: 0.7656\n",
            "Epoch 56/200\n",
            "10/10 - 0s - loss: 0.8239 - val_loss: 0.7542\n",
            "Epoch 57/200\n",
            "10/10 - 0s - loss: 0.8064 - val_loss: 0.7497\n",
            "Epoch 58/200\n",
            "10/10 - 0s - loss: 0.7826 - val_loss: 0.7452\n",
            "Epoch 59/200\n",
            "10/10 - 0s - loss: 0.7798 - val_loss: 0.7430\n",
            "Epoch 60/200\n",
            "10/10 - 0s - loss: 0.7536 - val_loss: 0.7384\n",
            "Epoch 61/200\n",
            "10/10 - 0s - loss: 0.7399 - val_loss: 0.7344\n",
            "Epoch 62/200\n",
            "10/10 - 0s - loss: 0.7269 - val_loss: 0.7337\n",
            "Epoch 63/200\n",
            "10/10 - 0s - loss: 0.7074 - val_loss: 0.7301\n",
            "Epoch 64/200\n",
            "10/10 - 0s - loss: 0.7021 - val_loss: 0.7278\n",
            "Epoch 65/200\n",
            "10/10 - 0s - loss: 0.6848 - val_loss: 0.7274\n",
            "Epoch 66/200\n",
            "10/10 - 0s - loss: 0.6836 - val_loss: 0.7282\n",
            "Epoch 67/200\n",
            "10/10 - 0s - loss: 0.6601 - val_loss: 0.7295\n",
            "Epoch 68/200\n",
            "10/10 - 0s - loss: 0.6622 - val_loss: 0.7257\n",
            "Epoch 69/200\n",
            "10/10 - 0s - loss: 0.6377 - val_loss: 0.7367\n",
            "Epoch 70/200\n",
            "10/10 - 0s - loss: 0.6357 - val_loss: 0.7268\n",
            "Epoch 71/200\n",
            "10/10 - 0s - loss: 0.6263 - val_loss: 0.7288\n",
            "Epoch 72/200\n",
            "10/10 - 0s - loss: 0.6163 - val_loss: 0.7337\n",
            "Epoch 73/200\n",
            "10/10 - 0s - loss: 0.6087 - val_loss: 0.7346\n",
            "Epoch 74/200\n",
            "10/10 - 0s - loss: 0.6133 - val_loss: 0.7361\n",
            "Epoch 75/200\n",
            "10/10 - 0s - loss: 0.6016 - val_loss: 0.7370\n",
            "Epoch 76/200\n",
            "10/10 - 0s - loss: 0.5935 - val_loss: 0.7376\n",
            "Epoch 77/200\n",
            "10/10 - 0s - loss: 0.5979 - val_loss: 0.7411\n",
            "Epoch 78/200\n",
            "10/10 - 0s - loss: 0.5930 - val_loss: 0.7459\n",
            "Epoch 79/200\n",
            "10/10 - 0s - loss: 0.5867 - val_loss: 0.7445\n",
            "Epoch 80/200\n",
            "10/10 - 0s - loss: 0.5771 - val_loss: 0.7536\n",
            "Epoch 81/200\n",
            "10/10 - 0s - loss: 0.5721 - val_loss: 0.7444\n",
            "Epoch 82/200\n",
            "10/10 - 0s - loss: 0.5717 - val_loss: 0.7433\n",
            "Epoch 83/200\n",
            "10/10 - 0s - loss: 0.5578 - val_loss: 0.7511\n",
            "Epoch 84/200\n",
            "10/10 - 0s - loss: 0.5577 - val_loss: 0.7450\n",
            "Epoch 85/200\n",
            "10/10 - 0s - loss: 0.5540 - val_loss: 0.7459\n",
            "Epoch 86/200\n",
            "10/10 - 0s - loss: 0.5513 - val_loss: 0.7492\n",
            "Epoch 87/200\n",
            "10/10 - 0s - loss: 0.5507 - val_loss: 0.7481\n",
            "Epoch 88/200\n",
            "10/10 - 0s - loss: 0.5492 - val_loss: 0.7470\n",
            "Epoch 89/200\n",
            "10/10 - 0s - loss: 0.5416 - val_loss: 0.7486\n",
            "Epoch 90/200\n",
            "10/10 - 0s - loss: 0.5420 - val_loss: 0.7522\n",
            "Epoch 91/200\n",
            "10/10 - 0s - loss: 0.5448 - val_loss: 0.7544\n",
            "Epoch 92/200\n",
            "10/10 - 0s - loss: 0.5367 - val_loss: 0.7569\n",
            "Epoch 93/200\n",
            "10/10 - 0s - loss: 0.5448 - val_loss: 0.7556\n",
            "Epoch 94/200\n",
            "10/10 - 0s - loss: 0.5479 - val_loss: 0.7578\n",
            "Epoch 95/200\n",
            "10/10 - 0s - loss: 0.5297 - val_loss: 0.7577\n",
            "Epoch 96/200\n",
            "10/10 - 0s - loss: 0.5351 - val_loss: 0.7565\n",
            "Epoch 97/200\n",
            "10/10 - 0s - loss: 0.5331 - val_loss: 0.7598\n",
            "Epoch 98/200\n",
            "10/10 - 0s - loss: 0.5267 - val_loss: 0.7590\n",
            "Epoch 99/200\n",
            "10/10 - 0s - loss: 0.5442 - val_loss: 0.7572\n",
            "Epoch 100/200\n",
            "10/10 - 0s - loss: 0.5422 - val_loss: 0.7632\n",
            "Epoch 101/200\n",
            "10/10 - 0s - loss: 0.5358 - val_loss: 0.7627\n",
            "Epoch 102/200\n",
            "10/10 - 0s - loss: 0.5221 - val_loss: 0.7624\n",
            "Epoch 103/200\n",
            "10/10 - 0s - loss: 0.5240 - val_loss: 0.7625\n",
            "Epoch 104/200\n",
            "10/10 - 0s - loss: 0.5218 - val_loss: 0.7626\n",
            "Epoch 105/200\n",
            "10/10 - 0s - loss: 0.5275 - val_loss: 0.7642\n",
            "Epoch 106/200\n",
            "10/10 - 0s - loss: 0.5283 - val_loss: 0.7655\n",
            "Epoch 107/200\n",
            "10/10 - 0s - loss: 0.5206 - val_loss: 0.7608\n",
            "Epoch 108/200\n",
            "10/10 - 0s - loss: 0.5183 - val_loss: 0.7634\n",
            "Epoch 109/200\n",
            "10/10 - 0s - loss: 0.5210 - val_loss: 0.7624\n",
            "Epoch 110/200\n",
            "10/10 - 0s - loss: 0.5166 - val_loss: 0.7628\n",
            "Epoch 111/200\n",
            "10/10 - 0s - loss: 0.5305 - val_loss: 0.7613\n",
            "Epoch 112/200\n",
            "10/10 - 0s - loss: 0.5203 - val_loss: 0.7619\n",
            "Epoch 113/200\n",
            "10/10 - 0s - loss: 0.5184 - val_loss: 0.7578\n",
            "Epoch 114/200\n",
            "10/10 - 0s - loss: 0.5177 - val_loss: 0.7613\n",
            "Epoch 115/200\n",
            "10/10 - 0s - loss: 0.5205 - val_loss: 0.7618\n",
            "Epoch 116/200\n",
            "10/10 - 0s - loss: 0.5211 - val_loss: 0.7605\n",
            "Epoch 117/200\n",
            "10/10 - 0s - loss: 0.5174 - val_loss: 0.7577\n",
            "Epoch 118/200\n",
            "10/10 - 0s - loss: 0.5270 - val_loss: 0.7620\n",
            "Epoch 119/200\n",
            "10/10 - 0s - loss: 0.5108 - val_loss: 0.7632\n",
            "Epoch 120/200\n",
            "10/10 - 0s - loss: 0.5175 - val_loss: 0.7551\n",
            "Epoch 121/200\n",
            "10/10 - 0s - loss: 0.5228 - val_loss: 0.7544\n",
            "Epoch 122/200\n",
            "10/10 - 0s - loss: 0.5193 - val_loss: 0.7579\n",
            "Epoch 123/200\n",
            "10/10 - 0s - loss: 0.5056 - val_loss: 0.7591\n",
            "Epoch 124/200\n",
            "10/10 - 0s - loss: 0.5102 - val_loss: 0.7546\n",
            "Epoch 125/200\n",
            "10/10 - 0s - loss: 0.5162 - val_loss: 0.7567\n",
            "Epoch 126/200\n",
            "10/10 - 0s - loss: 0.5088 - val_loss: 0.7548\n",
            "Epoch 127/200\n",
            "10/10 - 0s - loss: 0.5088 - val_loss: 0.7506\n",
            "Epoch 128/200\n",
            "10/10 - 0s - loss: 0.5133 - val_loss: 0.7523\n",
            "Epoch 129/200\n",
            "10/10 - 0s - loss: 0.5067 - val_loss: 0.7473\n",
            "Epoch 130/200\n",
            "10/10 - 0s - loss: 0.5078 - val_loss: 0.7466\n",
            "Epoch 131/200\n",
            "10/10 - 0s - loss: 0.5097 - val_loss: 0.7484\n",
            "Epoch 132/200\n",
            "10/10 - 0s - loss: 0.5085 - val_loss: 0.7476\n",
            "Epoch 133/200\n",
            "10/10 - 0s - loss: 0.5042 - val_loss: 0.7475\n",
            "Epoch 134/200\n",
            "10/10 - 0s - loss: 0.5121 - val_loss: 0.7494\n",
            "Epoch 135/200\n",
            "10/10 - 0s - loss: 0.5046 - val_loss: 0.7474\n",
            "Epoch 136/200\n",
            "10/10 - 0s - loss: 0.5082 - val_loss: 0.7475\n",
            "Epoch 137/200\n",
            "10/10 - 0s - loss: 0.5047 - val_loss: 0.7438\n",
            "Epoch 138/200\n",
            "10/10 - 0s - loss: 0.5126 - val_loss: 0.7435\n",
            "Epoch 139/200\n",
            "10/10 - 0s - loss: 0.5133 - val_loss: 0.7453\n",
            "Epoch 140/200\n",
            "10/10 - 0s - loss: 0.4973 - val_loss: 0.7446\n",
            "Epoch 141/200\n",
            "10/10 - 0s - loss: 0.5099 - val_loss: 0.7430\n",
            "Epoch 142/200\n",
            "10/10 - 0s - loss: 0.5118 - val_loss: 0.7398\n",
            "Epoch 143/200\n",
            "10/10 - 0s - loss: 0.5016 - val_loss: 0.7433\n",
            "Epoch 144/200\n",
            "10/10 - 0s - loss: 0.5024 - val_loss: 0.7383\n",
            "Epoch 145/200\n",
            "10/10 - 0s - loss: 0.5008 - val_loss: 0.7371\n",
            "Epoch 146/200\n",
            "10/10 - 0s - loss: 0.5024 - val_loss: 0.7373\n",
            "Epoch 147/200\n",
            "10/10 - 0s - loss: 0.5048 - val_loss: 0.7349\n",
            "Epoch 148/200\n",
            "10/10 - 0s - loss: 0.5023 - val_loss: 0.7386\n",
            "Epoch 149/200\n",
            "10/10 - 0s - loss: 0.5017 - val_loss: 0.7383\n",
            "Epoch 150/200\n",
            "10/10 - 0s - loss: 0.4999 - val_loss: 0.7332\n",
            "Epoch 151/200\n",
            "10/10 - 0s - loss: 0.4998 - val_loss: 0.7345\n",
            "Epoch 152/200\n",
            "10/10 - 0s - loss: 0.4966 - val_loss: 0.7356\n",
            "Epoch 153/200\n",
            "10/10 - 0s - loss: 0.5003 - val_loss: 0.7364\n",
            "Epoch 154/200\n",
            "10/10 - 0s - loss: 0.5010 - val_loss: 0.7338\n",
            "Epoch 155/200\n",
            "10/10 - 0s - loss: 0.5073 - val_loss: 0.7364\n",
            "Epoch 156/200\n",
            "10/10 - 0s - loss: 0.5131 - val_loss: 0.7457\n",
            "Epoch 157/200\n",
            "10/10 - 0s - loss: 0.5112 - val_loss: 0.7458\n",
            "Epoch 158/200\n",
            "10/10 - 0s - loss: 0.5059 - val_loss: 0.7331\n",
            "Epoch 159/200\n",
            "10/10 - 0s - loss: 0.4993 - val_loss: 0.7341\n",
            "Epoch 160/200\n",
            "10/10 - 0s - loss: 0.4955 - val_loss: 0.7328\n",
            "Epoch 161/200\n",
            "10/10 - 0s - loss: 0.5036 - val_loss: 0.7305\n",
            "Epoch 162/200\n",
            "10/10 - 0s - loss: 0.4979 - val_loss: 0.7285\n",
            "Epoch 163/200\n",
            "10/10 - 0s - loss: 0.4952 - val_loss: 0.7282\n",
            "Epoch 164/200\n",
            "10/10 - 0s - loss: 0.5189 - val_loss: 0.7304\n",
            "Epoch 165/200\n",
            "10/10 - 0s - loss: 0.5143 - val_loss: 0.7412\n",
            "Epoch 166/200\n",
            "10/10 - 0s - loss: 0.4988 - val_loss: 0.7342\n",
            "Epoch 167/200\n",
            "10/10 - 0s - loss: 0.4998 - val_loss: 0.7291\n",
            "Epoch 168/200\n",
            "10/10 - 0s - loss: 0.4990 - val_loss: 0.7244\n",
            "Epoch 169/200\n",
            "10/10 - 0s - loss: 0.4954 - val_loss: 0.7239\n",
            "Epoch 170/200\n",
            "10/10 - 0s - loss: 0.4966 - val_loss: 0.7246\n",
            "Epoch 171/200\n",
            "10/10 - 0s - loss: 0.5019 - val_loss: 0.7253\n",
            "Epoch 172/200\n",
            "10/10 - 0s - loss: 0.4961 - val_loss: 0.7250\n",
            "Epoch 173/200\n",
            "10/10 - 0s - loss: 0.5136 - val_loss: 0.7247\n",
            "Epoch 174/200\n",
            "10/10 - 0s - loss: 0.4890 - val_loss: 0.7286\n",
            "Epoch 175/200\n",
            "10/10 - 0s - loss: 0.4992 - val_loss: 0.7270\n",
            "Epoch 176/200\n",
            "10/10 - 0s - loss: 0.5078 - val_loss: 0.7249\n",
            "Epoch 177/200\n",
            "10/10 - 0s - loss: 0.5029 - val_loss: 0.7244\n",
            "Epoch 178/200\n",
            "10/10 - 0s - loss: 0.4917 - val_loss: 0.7243\n",
            "Epoch 179/200\n",
            "10/10 - 0s - loss: 0.4941 - val_loss: 0.7204\n",
            "Epoch 180/200\n",
            "10/10 - 0s - loss: 0.4932 - val_loss: 0.7199\n",
            "Epoch 181/200\n",
            "10/10 - 0s - loss: 0.4950 - val_loss: 0.7217\n",
            "Epoch 182/200\n",
            "10/10 - 0s - loss: 0.4961 - val_loss: 0.7224\n",
            "Epoch 183/200\n",
            "10/10 - 0s - loss: 0.4993 - val_loss: 0.7262\n",
            "Epoch 184/200\n",
            "10/10 - 0s - loss: 0.4971 - val_loss: 0.7263\n",
            "Epoch 185/200\n",
            "10/10 - 0s - loss: 0.4947 - val_loss: 0.7162\n",
            "Epoch 186/200\n",
            "10/10 - 0s - loss: 0.4988 - val_loss: 0.7172\n",
            "Epoch 187/200\n",
            "10/10 - 0s - loss: 0.4932 - val_loss: 0.7167\n",
            "Epoch 188/200\n",
            "10/10 - 0s - loss: 0.4960 - val_loss: 0.7139\n",
            "Epoch 189/200\n",
            "10/10 - 0s - loss: 0.5079 - val_loss: 0.7138\n",
            "Epoch 190/200\n",
            "10/10 - 0s - loss: 0.4906 - val_loss: 0.7180\n",
            "Epoch 191/200\n",
            "10/10 - 0s - loss: 0.4935 - val_loss: 0.7150\n",
            "Epoch 192/200\n",
            "10/10 - 0s - loss: 0.5075 - val_loss: 0.7145\n",
            "Epoch 193/200\n",
            "10/10 - 0s - loss: 0.5149 - val_loss: 0.7165\n",
            "Epoch 194/200\n",
            "10/10 - 0s - loss: 0.5372 - val_loss: 0.7242\n",
            "Epoch 195/200\n",
            "10/10 - 0s - loss: 0.5072 - val_loss: 0.7467\n",
            "Epoch 196/200\n",
            "10/10 - 0s - loss: 0.4926 - val_loss: 0.7298\n",
            "Epoch 197/200\n",
            "10/10 - 0s - loss: 0.5024 - val_loss: 0.7162\n",
            "Epoch 198/200\n",
            "10/10 - 0s - loss: 0.4967 - val_loss: 0.7158\n",
            "Epoch 199/200\n",
            "10/10 - 0s - loss: 0.4973 - val_loss: 0.7174\n",
            "Epoch 200/200\n",
            "10/10 - 0s - loss: 0.4999 - val_loss: 0.7153\n"
          ],
          "name": "stdout"
        }
      ]
    },
    {
      "cell_type": "markdown",
      "metadata": {
        "id": "71FS-DOVCDQJ"
      },
      "source": [
        "To predict results from test set"
      ]
    },
    {
      "cell_type": "code",
      "metadata": {
        "colab": {
          "base_uri": "https://localhost:8080/"
        },
        "id": "kRyLXBFtBs90",
        "outputId": "5e17fc85-9cac-46f7-dd27-403bd0d2c60b"
      },
      "source": [
        "y_pred = model.predict_classes(X_test)"
      ],
      "execution_count": 14,
      "outputs": [
        {
          "output_type": "stream",
          "text": [
            "/usr/local/lib/python3.7/dist-packages/keras/engine/sequential.py:450: UserWarning: `model.predict_classes()` is deprecated and will be removed after 2021-01-01. Please use instead:* `np.argmax(model.predict(x), axis=-1)`,   if your model does multi-class classification   (e.g. if it uses a `softmax` last-layer activation).* `(model.predict(x) > 0.5).astype(\"int32\")`,   if your model does binary classification   (e.g. if it uses a `sigmoid` last-layer activation).\n",
            "  warnings.warn('`model.predict_classes()` is deprecated and '\n"
          ],
          "name": "stderr"
        }
      ]
    },
    {
      "cell_type": "markdown",
      "metadata": {
        "id": "1w2hUoaCCAHG"
      },
      "source": [
        "Measure Accuracy"
      ]
    },
    {
      "cell_type": "code",
      "metadata": {
        "colab": {
          "base_uri": "https://localhost:8080/"
        },
        "id": "Y7UYg2W9B2jF",
        "outputId": "2de557fe-60c9-4457-f274-fa9c307c1305"
      },
      "source": [
        "score = accuracy_score(y_test, y_pred)\n",
        "print ('Accuracy =', round(100*score,3))"
      ],
      "execution_count": 15,
      "outputs": [
        {
          "output_type": "stream",
          "text": [
            "Accuracy = 71.895\n"
          ],
          "name": "stdout"
        }
      ]
    },
    {
      "cell_type": "code",
      "metadata": {
        "colab": {
          "base_uri": "https://localhost:8080/",
          "height": 265
        },
        "id": "5CmaFg6vCHHg",
        "outputId": "6dbca545-5596-45f5-8b37-d0545796469f"
      },
      "source": [
        "plt.plot(history.history['loss'], label='train')\n",
        "plt.plot(history.history['val_loss'], label='test')\n",
        "plt.legend()\n",
        "plt.show()"
      ],
      "execution_count": 16,
      "outputs": [
        {
          "output_type": "display_data",
          "data": {
            "image/png": "[encoded data removed]",
            "text/plain": [
              "<Figure size 432x288 with 1 Axes>"
            ]
          },
          "metadata": {
            "tags": [],
            "needs_background": "light"
          }
        }
      ]
    },
    {
      "cell_type": "markdown",
      "metadata": {
        "id": "z5hom3GJAIoc"
      },
      "source": [
        "# 2) Robust Model Evaluation"
      ]
    },
    {
      "cell_type": "markdown",
      "metadata": {
        "id": "gYxrEfICAwyX"
      },
      "source": [
        "Import related libraries"
      ]
    },
    {
      "cell_type": "code",
      "metadata": {
        "id": "2w25DA2I_kJs"
      },
      "source": [
        "from numpy import mean\n",
        "from numpy import std\n",
        "import pandas as pd\n",
        "from keras.models import Sequential\n",
        "from keras.layers import Dense\n",
        "from sklearn.preprocessing import LabelEncoder\n",
        "from sklearn.model_selection import StratifiedKFold\n",
        "from sklearn.metrics import accuracy_score\n",
        "import matplotlib.pyplot as plt"
      ],
      "execution_count": 17,
      "outputs": []
    },
    {
      "cell_type": "markdown",
      "metadata": {
        "id": "YSac6h4DAzfO"
      },
      "source": [
        "Import dataset"
      ]
    },
    {
      "cell_type": "code",
      "metadata": {
        "id": "0EDY23eYCy2A"
      },
      "source": [
        "data = pd.read_csv('https://raw.githubusercontent.com/jbrownlee/Datasets/master/haberman.csv', header=None)"
      ],
      "execution_count": 18,
      "outputs": []
    },
    {
      "cell_type": "code",
      "metadata": {
        "colab": {
          "base_uri": "https://localhost:8080/",
          "height": 203
        },
        "id": "1mM8Y9thAuZv",
        "outputId": "fb0c75f0-8b1a-465b-b946-8f24c9b00025"
      },
      "source": [
        "data.head()"
      ],
      "execution_count": 19,
      "outputs": [
        {
          "output_type": "execute_result",
          "data": {
            "text/html": [
              "<div>\n",
              "<style scoped>\n",
              "    .dataframe tbody tr th:only-of-type {\n",
              "        vertical-align: middle;\n",
              "    }\n",
              "\n",
              "    .dataframe tbody tr th {\n",
              "        vertical-align: top;\n",
              "    }\n",
              "\n",
              "    .dataframe thead th {\n",
              "        text-align: right;\n",
              "    }\n",
              "</style>\n",
              "<table border=\"1\" class=\"dataframe\">\n",
              "  <thead>\n",
              "    <tr style=\"text-align: right;\">\n",
              "      <th></th>\n",
              "      <th>0</th>\n",
              "      <th>1</th>\n",
              "      <th>2</th>\n",
              "      <th>3</th>\n",
              "    </tr>\n",
              "  </thead>\n",
              "  <tbody>\n",
              "    <tr>\n",
              "      <th>0</th>\n",
              "      <td>30</td>\n",
              "      <td>64</td>\n",
              "      <td>1</td>\n",
              "      <td>1</td>\n",
              "    </tr>\n",
              "    <tr>\n",
              "      <th>1</th>\n",
              "      <td>30</td>\n",
              "      <td>62</td>\n",
              "      <td>3</td>\n",
              "      <td>1</td>\n",
              "    </tr>\n",
              "    <tr>\n",
              "      <th>2</th>\n",
              "      <td>30</td>\n",
              "      <td>65</td>\n",
              "      <td>0</td>\n",
              "      <td>1</td>\n",
              "    </tr>\n",
              "    <tr>\n",
              "      <th>3</th>\n",
              "      <td>31</td>\n",
              "      <td>59</td>\n",
              "      <td>2</td>\n",
              "      <td>1</td>\n",
              "    </tr>\n",
              "    <tr>\n",
              "      <th>4</th>\n",
              "      <td>31</td>\n",
              "      <td>65</td>\n",
              "      <td>4</td>\n",
              "      <td>1</td>\n",
              "    </tr>\n",
              "  </tbody>\n",
              "</table>\n",
              "</div>"
            ],
            "text/plain": [
              "    0   1  2  3\n",
              "0  30  64  1  1\n",
              "1  30  62  3  1\n",
              "2  30  65  0  1\n",
              "3  31  59  2  1\n",
              "4  31  65  4  1"
            ]
          },
          "metadata": {
            "tags": []
          },
          "execution_count": 19
        }
      ]
    },
    {
      "cell_type": "markdown",
      "metadata": {
        "id": "EIruuhAABKF-"
      },
      "source": [
        "Change dataframe to numpy array"
      ]
    },
    {
      "cell_type": "code",
      "metadata": {
        "id": "i8sYJwjgAvvz"
      },
      "source": [
        "dataset = data.values"
      ],
      "execution_count": 20,
      "outputs": []
    },
    {
      "cell_type": "markdown",
      "metadata": {
        "id": "3snea7BeA-Jf"
      },
      "source": [
        "Define input and output variables"
      ]
    },
    {
      "cell_type": "code",
      "metadata": {
        "id": "56QEFtN6A3Le"
      },
      "source": [
        "X = dataset[:,:-1]\n",
        "y = dataset[:,-1]"
      ],
      "execution_count": 21,
      "outputs": []
    },
    {
      "cell_type": "code",
      "metadata": {
        "id": "M5NUBtBbBMeg"
      },
      "source": [
        "X = X.astype(float)\n",
        "label_enc = LabelEncoder()\n",
        "y_enc = label_enc.fit_transform(y) "
      ],
      "execution_count": 22,
      "outputs": []
    },
    {
      "cell_type": "code",
      "metadata": {
        "colab": {
          "base_uri": "https://localhost:8080/"
        },
        "id": "Oy1Q5ZYkCPh8",
        "outputId": "1ee4cbc2-fea1-4403-aa83-24fd9a03e291"
      },
      "source": [
        "kfold = StratifiedKFold(10, random_state=1)"
      ],
      "execution_count": 23,
      "outputs": [
        {
          "output_type": "stream",
          "text": [
            "/usr/local/lib/python3.7/dist-packages/sklearn/model_selection/_split.py:296: FutureWarning: Setting a random_state has no effect since shuffle is False. This will raise an error in 0.24. You should leave random_state to its default (None), or set shuffle=True.\n",
            "  FutureWarning\n"
          ],
          "name": "stderr"
        }
      ]
    },
    {
      "cell_type": "code",
      "metadata": {
        "colab": {
          "base_uri": "https://localhost:8080/"
        },
        "id": "4MN7z4_tBbPQ",
        "outputId": "8b8115c8-b189-4d43-f2d1-28582e128135"
      },
      "source": [
        "score = list()\n",
        "for train_ix, test_ix in kfold.split(X,y_enc):\n",
        "  # Split train & test data\n",
        "  X_train, X_test, y_train, y_test = X[train_ix], X[test_ix], y[train_ix], y[test_ix]\n",
        "  # Get number of input features\n",
        "  n_features = X.shape[1]\n",
        "  # Define the model\n",
        "  model = Sequential()\n",
        "  model.add(Dense(16, input_dim=n_features, kernel_initializer='he_normal', activation='relu'))\n",
        "  model.add(Dense(1, activation='sigmoid'))\n",
        "  # Compile the model\n",
        "  model.compile(loss='binary_crossentropy', optimizer='adam')\n",
        "  # Fit the model\n",
        "  model.fit(X_train, y_train, epochs=200, batch_size=16, verbose=0)\n",
        "  # Predict test set\n",
        "  y_pred =model.predict_classes(X_test)\n",
        "  # Accuracy Score\n",
        "  acc_score = accuracy_score(y_test, y_pred)\n",
        "  print ('Accuracy =', round(acc_score*100, 2))\n",
        "  # append accuracy score\n",
        "  score.append(acc_score)"
      ],
      "execution_count": 24,
      "outputs": [
        {
          "output_type": "stream",
          "text": [
            "/usr/local/lib/python3.7/dist-packages/keras/engine/sequential.py:450: UserWarning: `model.predict_classes()` is deprecated and will be removed after 2021-01-01. Please use instead:* `np.argmax(model.predict(x), axis=-1)`,   if your model does multi-class classification   (e.g. if it uses a `softmax` last-layer activation).* `(model.predict(x) > 0.5).astype(\"int32\")`,   if your model does binary classification   (e.g. if it uses a `sigmoid` last-layer activation).\n",
            "  warnings.warn('`model.predict_classes()` is deprecated and '\n"
          ],
          "name": "stderr"
        },
        {
          "output_type": "stream",
          "text": [
            "Accuracy = 74.19\n",
            "Accuracy = 74.19\n",
            "Accuracy = 74.19\n",
            "WARNING:tensorflow:5 out of the last 9 calls to <function Model.make_predict_function.<locals>.predict_function at 0x7f84cf47c0e0> triggered tf.function retracing. Tracing is expensive and the excessive number of tracings could be due to (1) creating @tf.function repeatedly in a loop, (2) passing tensors with different shapes, (3) passing Python objects instead of tensors. For (1), please define your @tf.function outside of the loop. For (2), @tf.function has experimental_relax_shapes=True option that relaxes argument shapes that can avoid unnecessary retracing. For (3), please refer to https://www.tensorflow.org/guide/function#controlling_retracing and https://www.tensorflow.org/api_docs/python/tf/function for  more details.\n",
            "Accuracy = 74.19\n",
            "WARNING:tensorflow:6 out of the last 10 calls to <function Model.make_predict_function.<locals>.predict_function at 0x7f84c8900f80> triggered tf.function retracing. Tracing is expensive and the excessive number of tracings could be due to (1) creating @tf.function repeatedly in a loop, (2) passing tensors with different shapes, (3) passing Python objects instead of tensors. For (1), please define your @tf.function outside of the loop. For (2), @tf.function has experimental_relax_shapes=True option that relaxes argument shapes that can avoid unnecessary retracing. For (3), please refer to https://www.tensorflow.org/guide/function#controlling_retracing and https://www.tensorflow.org/api_docs/python/tf/function for  more details.\n",
            "Accuracy = 74.19\n",
            "Accuracy = 70.97\n",
            "Accuracy = 73.33\n",
            "Accuracy = 73.33\n",
            "Accuracy = 73.33\n",
            "Accuracy = 73.33\n"
          ],
          "name": "stdout"
        }
      ]
    },
    {
      "cell_type": "code",
      "metadata": {
        "colab": {
          "base_uri": "https://localhost:8080/"
        },
        "id": "a579uKpbGpxZ",
        "outputId": "e5bfc7cc-04ef-4f8f-d46b-3325e1cab7fd"
      },
      "source": [
        "# To print Mean and standard deviation of accuracy score\n",
        "print ('Accuracy Avg = %.3f (std = %.3f)'% (round(100*mean(score),2), round(100*std(score),2)))"
      ],
      "execution_count": 25,
      "outputs": [
        {
          "output_type": "stream",
          "text": [
            "Accuracy Avg = 73.530 (std = 0.940)\n"
          ],
          "name": "stdout"
        }
      ]
    },
    {
      "cell_type": "markdown",
      "metadata": {
        "id": "GFY1fq_rJPOZ"
      },
      "source": [
        "# 3) Final Model and make predictions"
      ]
    },
    {
      "cell_type": "code",
      "metadata": {
        "id": "Md-9z3RfIHkN"
      },
      "source": [
        "import pandas as pd\n",
        "from keras.models import Sequential\n",
        "from keras.layers import Dense\n",
        "from sklearn.preprocessing import LabelEncoder\n",
        "from sklearn.metrics import accuracy_score\n",
        "from sklearn.model_selection import train_test_split\n",
        "import matplotlib.pyplot as plt"
      ],
      "execution_count": 26,
      "outputs": []
    },
    {
      "cell_type": "code",
      "metadata": {
        "id": "wznZt5T9KBTQ"
      },
      "source": [
        "data = pd.read_csv('https://raw.githubusercontent.com/jbrownlee/Datasets/master/haberman.csv', header=None)"
      ],
      "execution_count": 27,
      "outputs": []
    },
    {
      "cell_type": "markdown",
      "metadata": {
        "id": "4JHprgWVKM4K"
      },
      "source": [
        "Change dataframe to numpy array"
      ]
    },
    {
      "cell_type": "code",
      "metadata": {
        "id": "f4pY6PTRKKSL"
      },
      "source": [
        "dataset = data.values"
      ],
      "execution_count": 28,
      "outputs": []
    },
    {
      "cell_type": "markdown",
      "metadata": {
        "id": "a2YLh0R8KVIw"
      },
      "source": [
        "Define input and output variables"
      ]
    },
    {
      "cell_type": "code",
      "metadata": {
        "id": "LGRpIZajKMUH"
      },
      "source": [
        "X = dataset[:,:-1]\n",
        "y = dataset[:,-1]"
      ],
      "execution_count": 29,
      "outputs": []
    },
    {
      "cell_type": "code",
      "metadata": {
        "id": "7KcOaPfKKYs9"
      },
      "source": [
        "X = X.astype(float)\n",
        "le = LabelEncoder()\n",
        "y_enc = le.fit_transform(y)"
      ],
      "execution_count": 30,
      "outputs": []
    },
    {
      "cell_type": "markdown",
      "metadata": {
        "id": "9WTuBifiKn5K"
      },
      "source": [
        "Separate train & test dataset"
      ]
    },
    {
      "cell_type": "code",
      "metadata": {
        "id": "CGRvJ7OpKhQn"
      },
      "source": [
        "X_train, X_test, y_train, y_test = train_test_split(X, y_enc, test_size=0.5, stratify=y, random_state=3)"
      ],
      "execution_count": 31,
      "outputs": []
    },
    {
      "cell_type": "markdown",
      "metadata": {
        "id": "nA02u_x6LJEV"
      },
      "source": [
        "Get number of input features"
      ]
    },
    {
      "cell_type": "code",
      "metadata": {
        "id": "SYwjSQC1LOeE"
      },
      "source": [
        "n_features = X.shape[1]"
      ],
      "execution_count": 32,
      "outputs": []
    },
    {
      "cell_type": "code",
      "metadata": {
        "id": "3cMPOU7GK5TY"
      },
      "source": [
        "model = Sequential()\n",
        "model.add(Dense(10, kernel_initializer='he_normal', input_dim=n_features, activation='relu'))\n",
        "model.add(Dense(1, activation='sigmoid'))"
      ],
      "execution_count": 33,
      "outputs": []
    },
    {
      "cell_type": "markdown",
      "metadata": {
        "id": "8Rh4ATzQLiKY"
      },
      "source": [
        "Compile the model"
      ]
    },
    {
      "cell_type": "code",
      "metadata": {
        "id": "an3Yh4ZhLUUY"
      },
      "source": [
        "model.compile(loss='binary_crossentropy', optimizer='adam')"
      ],
      "execution_count": 34,
      "outputs": []
    },
    {
      "cell_type": "markdown",
      "metadata": {
        "id": "K2ErdVc-MEIn"
      },
      "source": [
        "Fit the model"
      ]
    },
    {
      "cell_type": "code",
      "metadata": {
        "id": "bwj1Dha8LjSw"
      },
      "source": [
        "history = model.fit(X_train, y_train, epochs=200, batch_size=16, validation_data=(X_test, y_test), verbose=0)"
      ],
      "execution_count": 35,
      "outputs": []
    },
    {
      "cell_type": "markdown",
      "metadata": {
        "id": "Vvs3odPCM0LB"
      },
      "source": [
        "Predict and measure the accuracy"
      ]
    },
    {
      "cell_type": "code",
      "metadata": {
        "colab": {
          "base_uri": "https://localhost:8080/"
        },
        "id": "00x5IeI-M9AS",
        "outputId": "6d7f329b-de09-40e8-8eac-d874559a9909"
      },
      "source": [
        "y_pred = model.predict_classes(X_test)\n",
        "print ('Accuracy =', round(100*accuracy_score(y_test, y_pred),2))"
      ],
      "execution_count": 36,
      "outputs": [
        {
          "output_type": "stream",
          "text": [
            "Accuracy = 75.16\n"
          ],
          "name": "stdout"
        },
        {
          "output_type": "stream",
          "text": [
            "/usr/local/lib/python3.7/dist-packages/keras/engine/sequential.py:450: UserWarning: `model.predict_classes()` is deprecated and will be removed after 2021-01-01. Please use instead:* `np.argmax(model.predict(x), axis=-1)`,   if your model does multi-class classification   (e.g. if it uses a `softmax` last-layer activation).* `(model.predict(x) > 0.5).astype(\"int32\")`,   if your model does binary classification   (e.g. if it uses a `sigmoid` last-layer activation).\n",
            "  warnings.warn('`model.predict_classes()` is deprecated and '\n"
          ],
          "name": "stderr"
        }
      ]
    },
    {
      "cell_type": "code",
      "metadata": {
        "colab": {
          "base_uri": "https://localhost:8080/",
          "height": 265
        },
        "id": "cjo4tevDMNQh",
        "outputId": "bdda2de9-fa62-4cb7-e6a6-371bd8ceb445"
      },
      "source": [
        "plt.plot(history.history['loss'], label='training loss')\n",
        "plt.plot(history.history['val_loss'], label='validation loss')\n",
        "plt.legend()\n",
        "plt.show()"
      ],
      "execution_count": 37,
      "outputs": [
        {
          "output_type": "display_data",
          "data": {
            "image/png": "[encoded data removed]",
            "text/plain": [
              "<Figure size 432x288 with 1 Axes>"
            ]
          },
          "metadata": {
            "tags": [],
            "needs_background": "light"
          }
        }
      ]
    },
    {
      "cell_type": "code",
      "metadata": {
        "id": "CJSciP93MU1b"
      },
      "source": [
        ""
      ],
      "execution_count": 37,
      "outputs": []
    }
  ]
}