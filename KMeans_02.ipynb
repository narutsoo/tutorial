{
  "nbformat": 4,
  "nbformat_minor": 0,
  "metadata": {
    "colab": {
      "name": "KMeans_02.ipynb",
      "provenance": [],
      "include_colab_link": true
    },
    "kernelspec": {
      "name": "python2",
      "display_name": "Python 2"
    }
  },
  "cells": [
    {
      "cell_type": "markdown",
      "metadata": {
        "id": "view-in-github",
        "colab_type": "text"
      },
      "source": [
        "<a href=\"https://colab.research.google.com/github/narutsoo/tutorial/blob/master/KMeans_02.ipynb\" target=\"_parent\"><img src=\"https://colab.research.google.com/assets/colab-badge.svg\" alt=\"Open In Colab\"/></a>"
      ]
    },
    {
      "cell_type": "markdown",
      "metadata": {
        "id": "0u8ec2urdxQE"
      },
      "source": [
        "---\n",
        "\n",
        "# ทดลองทำ Clustering : K-Means #2\n",
        "\n",
        "---"
      ]
    },
    {
      "cell_type": "markdown",
      "metadata": {
        "id": "UIPu3Uh6efPQ"
      },
      "source": [
        "สร้างข้อมูล (โดยใช้ sklearn datasets .. make blobs)\n",
        "*   กำหนด n_samples (จำนวน Samples) = 2000 จุด\n",
        "*   กำหนด random_state เพื่อให้การสุ่มครั้งต่อไปเหมือนเดิม"
      ]
    },
    {
      "cell_type": "code",
      "metadata": {
        "id": "ceY1vIp4fgpa"
      },
      "source": [
        "from sklearn.datasets import make_blobs"
      ],
      "execution_count": 1,
      "outputs": []
    },
    {
      "cell_type": "code",
      "metadata": {
        "id": "ilJfS2I5fh4c"
      },
      "source": [
        "n_samples = 2000\n",
        "random_state = 170\n",
        "X, y = make_blobs(n_samples=n_samples, random_state=random_state)"
      ],
      "execution_count": 2,
      "outputs": []
    },
    {
      "cell_type": "markdown",
      "metadata": {
        "id": "wPV-SODsuBwg"
      },
      "source": [
        "นำเข้า Libraries ที่เกี่ยวข้อง"
      ]
    },
    {
      "cell_type": "code",
      "metadata": {
        "id": "hSM73UUFqSo-"
      },
      "source": [
        "from sklearn.cluster import KMeans\n",
        "from scipy.spatial.distance import cdist\n",
        "import matplotlib.pyplot as plt\n",
        "import numpy as np"
      ],
      "execution_count": 3,
      "outputs": []
    },
    {
      "cell_type": "markdown",
      "metadata": {
        "id": "Z2-VaSnEuNsj"
      },
      "source": [
        "ทำการ Cluster ตั้งแต่ค่า K = 1 ถึง ค่า K = 10 .. และทำการ Plot ผลรวมของระยะทาง"
      ]
    },
    {
      "cell_type": "code",
      "metadata": {
        "id": "5v3drrmxeRM-",
        "colab": {
          "base_uri": "https://localhost:8080/",
          "height": 295
        },
        "outputId": "09cd29ff-1c24-4723-c27e-c197c3c9df6e"
      },
      "source": [
        "# k means determine k\n",
        "sse = []\n",
        "K = range(1,10)\n",
        "for k in K:\n",
        "    kmeanModel = KMeans(n_clusters=k)\n",
        "    kmeanModel.fit(X)\n",
        "    sse.append(sum(np.min(cdist(X, kmeanModel.cluster_centers_, 'euclidean'), axis=1)) / X.shape[0])\n",
        "\n",
        "# Plot \"Elbow curve\"\n",
        "plt.plot(K, sse,'bx-',linewidth=2,markersize=8)\n",
        "plt.xlabel('K')\n",
        "plt.ylabel('Sum of Squared Disctance')\n",
        "plt.title('The Elbow Method presents the optimal K')\n",
        "plt.show()"
      ],
      "execution_count": 4,
      "outputs": [
        {
          "output_type": "display_data",
          "data": {
            "image/png": "[encoded data removed]",
            "text/plain": [
              "<Figure size 432x288 with 1 Axes>"
            ]
          },
          "metadata": {
            "tags": [],
            "needs_background": "light"
          }
        }
      ]
    },
    {
      "cell_type": "code",
      "metadata": {
        "id": "la48H4l2qvm3"
      },
      "source": [
        ""
      ],
      "execution_count": 4,
      "outputs": []
    }
  ]
}