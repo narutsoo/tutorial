{
  "nbformat": 4,
  "nbformat_minor": 0,
  "metadata": {
    "colab": {
      "name": "Auto_Outlier_Detection.ipynb",
      "provenance": [],
      "authorship_tag": "ABX9TyOLh5duJpXRn4SVsmtOPPRm",
      "include_colab_link": true
    },
    "kernelspec": {
      "name": "python3",
      "display_name": "Python 3"
    },
    "language_info": {
      "name": "python"
    }
  },
  "cells": [
    {
      "cell_type": "markdown",
      "metadata": {
        "id": "view-in-github",
        "colab_type": "text"
      },
      "source": [
        "<a href=\"https://colab.research.google.com/github/narutsoo/tutorial/blob/master/Auto_Outlier_Detection.ipynb\" target=\"_parent\"><img src=\"https://colab.research.google.com/assets/colab-badge.svg\" alt=\"Open In Colab\"/></a>"
      ]
    },
    {
      "cell_type": "markdown",
      "metadata": {
        "id": "GetMoY5aoqgc"
      },
      "source": [
        "# Topic : 4 Automatic Outlier Detection Algorithms in Python\n",
        "\n",
        "*Reference*\n",
        "\n",
        "* https://machinelearningmastery.com/model-based-outlier-detection-and-removal-in-python/\n"
      ]
    },
    {
      "cell_type": "code",
      "metadata": {
        "id": "FuzcMdLkopzG"
      },
      "source": [
        "import pandas as pd\n",
        "import numpy as np\n",
        "from sklearn.model_selection import train_test_split"
      ],
      "execution_count": 1,
      "outputs": []
    },
    {
      "cell_type": "code",
      "metadata": {
        "id": "Hiyd9DmIo_k3"
      },
      "source": [
        "df = pd.read_csv('https://raw.githubusercontent.com/jbrownlee/Datasets/master/housing.csv', header=None)"
      ],
      "execution_count": 2,
      "outputs": []
    },
    {
      "cell_type": "code",
      "metadata": {
        "id": "kBmmgus9pM_p"
      },
      "source": [
        "data = df.values"
      ],
      "execution_count": 3,
      "outputs": []
    },
    {
      "cell_type": "markdown",
      "metadata": {
        "id": "C3Vx6ByCpugk"
      },
      "source": [
        "To define input and output variables (and print the shape)"
      ]
    },
    {
      "cell_type": "code",
      "metadata": {
        "colab": {
          "base_uri": "https://localhost:8080/"
        },
        "id": "_3lqwrDKpRPz",
        "outputId": "7efff6dd-3b69-48e4-d0bb-756046243363"
      },
      "source": [
        "X = data[:,:-1]\n",
        "y = data[:,-1]\n",
        "\n",
        "print (X.shape, y.shape)"
      ],
      "execution_count": 4,
      "outputs": [
        {
          "output_type": "stream",
          "text": [
            "(506, 13) (506,)\n"
          ],
          "name": "stdout"
        }
      ]
    },
    {
      "cell_type": "markdown",
      "metadata": {
        "id": "KXWjioFTppJO"
      },
      "source": [
        "To separate train & test datasets (and print the shape)"
      ]
    },
    {
      "cell_type": "code",
      "metadata": {
        "colab": {
          "base_uri": "https://localhost:8080/"
        },
        "id": "Ji8wpQpFpcqS",
        "outputId": "a9c0bc93-ce1f-48aa-c7dd-8999b29252df"
      },
      "source": [
        "X_train, X_test, y_train, y_test = train_test_split(X, y, test_size=0.33, random_state=1)\n",
        "\n",
        "print (X_train.shape, X_test.shape, y_train.shape, y_test.shape)"
      ],
      "execution_count": 5,
      "outputs": [
        {
          "output_type": "stream",
          "text": [
            "(339, 13) (167, 13) (339,) (167,)\n"
          ],
          "name": "stdout"
        }
      ]
    },
    {
      "cell_type": "markdown",
      "metadata": {
        "id": "Zqgrwe9xqOd1"
      },
      "source": [
        "---\n",
        "## Baseline Model Performance\n",
        "---"
      ]
    },
    {
      "cell_type": "code",
      "metadata": {
        "id": "THeB863cpkd-"
      },
      "source": [
        "import pandas as pd\n",
        "import numpy as np\n",
        "from sklearn.linear_model import LinearRegression\n",
        "from sklearn.model_selection import train_test_split\n",
        "from sklearn.metrics import mean_absolute_error"
      ],
      "execution_count": 6,
      "outputs": []
    },
    {
      "cell_type": "code",
      "metadata": {
        "id": "qgc1il5Eqdn4"
      },
      "source": [
        "df = pd.read_csv('https://raw.githubusercontent.com/jbrownlee/Datasets/master/housing.csv', header=None)"
      ],
      "execution_count": 7,
      "outputs": []
    },
    {
      "cell_type": "code",
      "metadata": {
        "id": "QWUWFMzzqfa-"
      },
      "source": [
        "data = df.values"
      ],
      "execution_count": 8,
      "outputs": []
    },
    {
      "cell_type": "code",
      "metadata": {
        "id": "B7U3FmjMqg8w"
      },
      "source": [
        "# To define input and output variables\n",
        "X = data[:,:-1]\n",
        "y = data[:,-1]"
      ],
      "execution_count": 9,
      "outputs": []
    },
    {
      "cell_type": "code",
      "metadata": {
        "colab": {
          "base_uri": "https://localhost:8080/"
        },
        "id": "I1QnM7YBqkVs",
        "outputId": "fbd347ad-2eb8-43fa-b0c3-6a5efff75487"
      },
      "source": [
        "# To separate train & test datasets\n",
        "X_train, X_test, y_train, y_test = train_test_split(X, y, test_size=0.33, random_state=1)\n",
        "# To define the model\n",
        "model = LinearRegression()\n",
        "# To fit the model\n",
        "model.fit(X_train, y_train)\n",
        "# To obtain prediction values\n",
        "y_pred = model.predict(X_test)\n",
        "# To evaluate the model\n",
        "mae = mean_absolute_error(y_test, y_pred)\n",
        "print (\"MAE = %.3f\" %(mae))"
      ],
      "execution_count": 10,
      "outputs": [
        {
          "output_type": "stream",
          "text": [
            "MAE = 3.417\n"
          ],
          "name": "stdout"
        }
      ]
    },
    {
      "cell_type": "markdown",
      "metadata": {
        "id": "n4y1mTvpshq-"
      },
      "source": [
        "---\n",
        "# Automatic Outlier Detection\n",
        "---"
      ]
    },
    {
      "cell_type": "markdown",
      "metadata": {
        "id": "i15sqo2cslu8"
      },
      "source": [
        "## 1) Isolation Forest\n",
        "---"
      ]
    },
    {
      "cell_type": "code",
      "metadata": {
        "id": "JtUr1TVKqtvU"
      },
      "source": [
        "import pandas as pd\n",
        "from sklearn.model_selection import train_test_split\n",
        "from sklearn.linear_model import LinearRegression\n",
        "from sklearn.ensemble import IsolationForest\n",
        "from sklearn.metrics import mean_absolute_error"
      ],
      "execution_count": 11,
      "outputs": []
    },
    {
      "cell_type": "code",
      "metadata": {
        "id": "WMxKpAjgtMb5"
      },
      "source": [
        "# Load data\n",
        "df = pd.read_csv('https://raw.githubusercontent.com/jbrownlee/Datasets/master/housing.csv', header=None)"
      ],
      "execution_count": 12,
      "outputs": []
    },
    {
      "cell_type": "code",
      "metadata": {
        "id": "H_yUJhQCtQpF"
      },
      "source": [
        "# Change dataframe to numpy array\n",
        "data = df.values"
      ],
      "execution_count": 13,
      "outputs": []
    },
    {
      "cell_type": "code",
      "metadata": {
        "id": "rfdxTqp-tR_D"
      },
      "source": [
        "# To define input and output variables\n",
        "X = data[:, :-1]\n",
        "y = data[:, -1]"
      ],
      "execution_count": 14,
      "outputs": []
    },
    {
      "cell_type": "code",
      "metadata": {
        "colab": {
          "base_uri": "https://localhost:8080/"
        },
        "id": "oT4UOJQntWZp",
        "outputId": "6752d999-949d-43a4-a619-b6d6fb3a6485"
      },
      "source": [
        "# To separate train & test datasets (and print the shape)\n",
        "X_train, X_test, y_train, y_test = train_test_split(X, y, test_size=0.33, random_state=1)\n",
        "print (X_train.shape, X_test.shape, y_train.shape, y_test.shape)\n",
        "# Identify outlier in the training set\n",
        "iso = IsolationForest(contamination=0.1)\n",
        "yhat = iso.fit_predict(X_train)\n",
        "# To select all rows that are not outliers\n",
        "mask = yhat != -1\n",
        "X_train, y_train = X_train[mask, :], y_train[mask]\n",
        "print (X_train.shape, y_train.shape)\n",
        "# To define the model\n",
        "model = LinearRegression()\n",
        "# To fit the model\n",
        "model.fit(X_train, y_train)\n",
        "# To obtain prediction values\n",
        "y_pred = model.predict(X_test)\n",
        "# To evaluate the model\n",
        "mae = mean_absolute_error(y_test, y_pred)\n",
        "# print the mae\n",
        "print (\"MAE = %.3f\" %mae)"
      ],
      "execution_count": 15,
      "outputs": [
        {
          "output_type": "stream",
          "text": [
            "(339, 13) (167, 13) (339,) (167,)\n",
            "(305, 13) (305,)\n",
            "MAE = 3.263\n"
          ],
          "name": "stdout"
        }
      ]
    },
    {
      "cell_type": "markdown",
      "metadata": {
        "id": "BRW5zQLTwQeo"
      },
      "source": [
        "## 2) Minimum Covariance Determinant\n",
        "---"
      ]
    },
    {
      "cell_type": "code",
      "metadata": {
        "id": "0samk6nWvxT8"
      },
      "source": [
        "import pandas as pd\n",
        "from sklearn.model_selection import train_test_split\n",
        "from sklearn.linear_model import LinearRegression\n",
        "from sklearn.covariance import EllipticEnvelope #**********\n",
        "from sklearn.metrics import mean_absolute_error"
      ],
      "execution_count": 16,
      "outputs": []
    },
    {
      "cell_type": "code",
      "metadata": {
        "id": "C0rLhNp2wvA_"
      },
      "source": [
        "# Load data\n",
        "df = pd.read_csv('https://raw.githubusercontent.com/jbrownlee/Datasets/master/housing.csv', header=None)"
      ],
      "execution_count": 17,
      "outputs": []
    },
    {
      "cell_type": "code",
      "metadata": {
        "id": "ZJa2_YO7w4Y5"
      },
      "source": [
        "# Change dataframe to numpy array\n",
        "data = df.values"
      ],
      "execution_count": 18,
      "outputs": []
    },
    {
      "cell_type": "code",
      "metadata": {
        "id": "4cIMIEY1w--I"
      },
      "source": [
        "# To define input and output variables\n",
        "X = data[:,:-1]\n",
        "y = data[:,-1]"
      ],
      "execution_count": 19,
      "outputs": []
    },
    {
      "cell_type": "code",
      "metadata": {
        "colab": {
          "base_uri": "https://localhost:8080/"
        },
        "id": "UPV_ftqcxIUr",
        "outputId": "2c1f2788-a319-4ed4-bbc5-c433ee5c2c12"
      },
      "source": [
        "# To separate train & test datasets (and print the shape)\n",
        "X_train, X_test, y_train, y_test = train_test_split(X, y, test_size=0.33, random_state=1)\n",
        "print (X_train.shape, X_test.shape, y_train.shape, y_test.shape)\n",
        "# Identify outlier in the training set #**********\n",
        "ee = EllipticEnvelope(contamination=0.01)\n",
        "yhat = ee.fit_predict(X_train)\n",
        "# To select all rows that are not outliers\n",
        "mask = yhat != -1\n",
        "X_train, y_train = X_train[mask, :], y_train[mask]\n",
        "print (X_train.shape, y_train.shape)\n",
        "# To define the model\n",
        "model = LinearRegression()\n",
        "# To fit the model\n",
        "model.fit(X_train, y_train)\n",
        "# To obtain prediction values \n",
        "y_pred = model.predict(X_test)\n",
        "# To evaluate the model\n",
        "mae = mean_absolute_error(y_test, y_pred)\n",
        "# print the mae\n",
        "print (\"MAE = %.3f\" %mae)"
      ],
      "execution_count": 20,
      "outputs": [
        {
          "output_type": "stream",
          "text": [
            "(339, 13) (167, 13) (339,) (167,)\n",
            "(335, 13) (335,)\n",
            "MAE = 3.388\n"
          ],
          "name": "stdout"
        }
      ]
    },
    {
      "cell_type": "markdown",
      "metadata": {
        "id": "DT42EpFwyOOx"
      },
      "source": [
        "## 3) Local Outlier Factor\n",
        "---"
      ]
    },
    {
      "cell_type": "code",
      "metadata": {
        "id": "YYB-p2Q_x-I4"
      },
      "source": [
        "import pandas as pd\n",
        "from sklearn.model_selection import train_test_split\n",
        "from sklearn.linear_model import LinearRegression\n",
        "from sklearn.neighbors import LocalOutlierFactor #**********\n",
        "from sklearn.metrics import mean_absolute_error"
      ],
      "execution_count": 21,
      "outputs": []
    },
    {
      "cell_type": "code",
      "metadata": {
        "id": "pG4vhxL_yeOg"
      },
      "source": [
        "# Load data\n",
        "df = pd.read_csv('https://raw.githubusercontent.com/jbrownlee/Datasets/master/housing.csv', header=None)"
      ],
      "execution_count": 22,
      "outputs": []
    },
    {
      "cell_type": "code",
      "metadata": {
        "id": "wRZh046Aygg8"
      },
      "source": [
        "# Change dataframe to numpy array\n",
        "data = df.values"
      ],
      "execution_count": 23,
      "outputs": []
    },
    {
      "cell_type": "code",
      "metadata": {
        "id": "6A-1nVkRyiGM"
      },
      "source": [
        "# To define input and output variables\n",
        "X = data[:,:-1]\n",
        "y = data[:,-1]"
      ],
      "execution_count": 24,
      "outputs": []
    },
    {
      "cell_type": "code",
      "metadata": {
        "colab": {
          "base_uri": "https://localhost:8080/"
        },
        "id": "FTOjh7Pfyjv0",
        "outputId": "00b0948d-6d07-487a-8596-e0e2e5a56a22"
      },
      "source": [
        "# To separate train & test datasets (and print the shape)\n",
        "X_train, X_test, y_train, y_test = train_test_split(X, y, test_size=0.33, random_state=1)\n",
        "print (X_train.shape, X_test.shape, y_train.shape, y_test.shape)\n",
        "# Identify outlier in the training set #**********\n",
        "lof = LocalOutlierFactor()\n",
        "yhat = lof.fit_predict(X_train)\n",
        "# To select all rows that are not outliers\n",
        "mask = yhat != -1\n",
        "X_train, y_train = X_train[mask, :], y_train[mask]\n",
        "print (X_train.shape, y_train.shape)\n",
        "# To define the model\n",
        "model = LinearRegression()\n",
        "# To fit the model\n",
        "model.fit(X_train, y_train)\n",
        "# To obtain prediction values \n",
        "y_pred = model.predict(X_test)\n",
        "# To evaluate the model\n",
        "mae = mean_absolute_error(y_test, y_pred)\n",
        "# print the mae\n",
        "print (\"MAE = %.3f\" %mae)"
      ],
      "execution_count": 25,
      "outputs": [
        {
          "output_type": "stream",
          "text": [
            "(339, 13) (167, 13) (339,) (167,)\n",
            "(305, 13) (305,)\n",
            "MAE = 3.356\n"
          ],
          "name": "stdout"
        }
      ]
    },
    {
      "cell_type": "markdown",
      "metadata": {
        "id": "46Z3-b0dyyXB"
      },
      "source": [
        "## 4) One-Class SVM\n",
        "---"
      ]
    },
    {
      "cell_type": "code",
      "metadata": {
        "id": "OQQUEXI-yvuP"
      },
      "source": [
        "import pandas as pd\n",
        "from sklearn.model_selection import train_test_split\n",
        "from sklearn.linear_model import LinearRegression\n",
        "from sklearn.svm import OneClassSVM #**********\n",
        "from sklearn.metrics import mean_absolute_error"
      ],
      "execution_count": 26,
      "outputs": []
    },
    {
      "cell_type": "code",
      "metadata": {
        "id": "_0qJ6CSey5ek"
      },
      "source": [
        "# Load data\n",
        "df = pd.read_csv('https://raw.githubusercontent.com/jbrownlee/Datasets/master/housing.csv', header=None)"
      ],
      "execution_count": 27,
      "outputs": []
    },
    {
      "cell_type": "code",
      "metadata": {
        "id": "U3lbrvE8y7TO"
      },
      "source": [
        "# Change dataframe to numpy array\n",
        "data = df.values"
      ],
      "execution_count": 28,
      "outputs": []
    },
    {
      "cell_type": "code",
      "metadata": {
        "id": "ruYeQnx0y9AH"
      },
      "source": [
        "# To define input and output variables\n",
        "X = data[:,:-1]\n",
        "y = data[:,-1]"
      ],
      "execution_count": 29,
      "outputs": []
    },
    {
      "cell_type": "code",
      "metadata": {
        "colab": {
          "base_uri": "https://localhost:8080/"
        },
        "id": "wA2cIw3Qy_B-",
        "outputId": "72e48e17-d7c4-409d-d54c-d2074223dac0"
      },
      "source": [
        "# To separate train & test datasets (and print the shape)\n",
        "X_train, X_test, y_train, y_test = train_test_split(X, y, test_size=0.33, random_state=1)\n",
        "print (X_train.shape, X_test.shape, y_train.shape, y_test.shape)\n",
        "# Identify outlier in the training set #**********\n",
        "ocs = OneClassSVM(nu=0.01)\n",
        "yhat = ocs.fit_predict(X_train)\n",
        "# To select all rows that are not outliers\n",
        "mask = yhat != -1\n",
        "X_train, y_train = X_train[mask, :], y_train[mask]\n",
        "print (X_train.shape, y_train.shape)\n",
        "# To define the model\n",
        "model = LinearRegression()\n",
        "# To fit the model\n",
        "model.fit(X_train, y_train)\n",
        "# To obtain prediction values \n",
        "y_pred = model.predict(X_test)\n",
        "# To evaluate the model\n",
        "mae = mean_absolute_error(y_test, y_pred)\n",
        "# print the mae\n",
        "print (\"MAE = %.3f\" %mae)"
      ],
      "execution_count": 30,
      "outputs": [
        {
          "output_type": "stream",
          "text": [
            "(339, 13) (167, 13) (339,) (167,)\n",
            "(336, 13) (336,)\n",
            "MAE = 3.431\n"
          ],
          "name": "stdout"
        }
      ]
    }
  ]
}