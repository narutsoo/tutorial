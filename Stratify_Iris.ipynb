{
  "nbformat": 4,
  "nbformat_minor": 0,
  "metadata": {
    "colab": {
      "name": "Stratify_Iris.ipynb",
      "provenance": [],
      "authorship_tag": "ABX9TyM+TBojBmnDToJbEa2KZ2ww",
      "include_colab_link": true
    },
    "kernelspec": {
      "name": "python3",
      "display_name": "Python 3"
    },
    "language_info": {
      "name": "python"
    }
  },
  "cells": [
    {
      "cell_type": "markdown",
      "metadata": {
        "id": "view-in-github",
        "colab_type": "text"
      },
      "source": [
        "<a href=\"https://colab.research.google.com/github/narutsoo/tutorial/blob/master/Stratify_Iris.ipynb\" target=\"_parent\"><img src=\"https://colab.research.google.com/assets/colab-badge.svg\" alt=\"Open In Colab\"/></a>"
      ]
    },
    {
      "cell_type": "markdown",
      "metadata": {
        "id": "yYWQtW9tw7Yp"
      },
      "source": [
        "## Import related libraries <font color='green'>(Sklearn, Numpy)</font> \n",
        "* Load Iris dataset"
      ]
    },
    {
      "cell_type": "code",
      "metadata": {
        "id": "7zp4mbFXwWkc"
      },
      "source": [
        "# Import related libraries and load dataset\n",
        "import numpy as np\n",
        "from sklearn import datasets"
      ],
      "execution_count": 31,
      "outputs": []
    },
    {
      "cell_type": "code",
      "metadata": {
        "id": "1gXQF2SDwYHK"
      },
      "source": [
        "iris = datasets.load_iris()"
      ],
      "execution_count": 32,
      "outputs": []
    },
    {
      "cell_type": "code",
      "metadata": {
        "id": "MtzlNAmAw2sD"
      },
      "source": [
        "X = iris.data\n",
        "y = iris.target"
      ],
      "execution_count": 40,
      "outputs": []
    },
    {
      "cell_type": "markdown",
      "metadata": {
        "id": "UEZdB6Ec9WWB"
      },
      "source": [
        "## What about target labels ? <font color='green'> (3 classes : Setosa, Versicolor, Virginica) </font>"
      ]
    },
    {
      "cell_type": "code",
      "metadata": {
        "colab": {
          "base_uri": "https://localhost:8080/"
        },
        "id": "GE-Tg99z7cuR",
        "outputId": "ec415dcd-3357-4842-9204-162e57aa4350"
      },
      "source": [
        "print ('Target Label :', np.unique(y))"
      ],
      "execution_count": 34,
      "outputs": [
        {
          "output_type": "stream",
          "text": [
            "Target Label : [0 1 2]\n"
          ],
          "name": "stdout"
        }
      ]
    },
    {
      "cell_type": "markdown",
      "metadata": {
        "id": "mPhoQBZe97pt"
      },
      "source": [
        "## Before training a model \n",
        "* The dataset should be separated to Train & Test sets"
      ]
    },
    {
      "cell_type": "code",
      "metadata": {
        "id": "LfqWLfJg7mH_"
      },
      "source": [
        "from sklearn.model_selection import train_test_split"
      ],
      "execution_count": 35,
      "outputs": []
    },
    {
      "cell_type": "code",
      "metadata": {
        "id": "E2QOf4ey7svO"
      },
      "source": [
        "# The stratify is not defined\n",
        "X_train, X_test, y_train, y_test = train_test_split(X, y, test_size=0.3, random_state=1)"
      ],
      "execution_count": 36,
      "outputs": []
    },
    {
      "cell_type": "code",
      "metadata": {
        "colab": {
          "base_uri": "https://localhost:8080/"
        },
        "id": "MKjsrFi3766V",
        "outputId": "49f58def-6daf-431e-958d-3f688e8737db"
      },
      "source": [
        "print ('Dataset : ', np.bincount(y))\n",
        "print ('Training set : ', np.bincount(y_train))\n",
        "print ('Test set :', np.bincount(y_test))"
      ],
      "execution_count": 37,
      "outputs": [
        {
          "output_type": "stream",
          "text": [
            "Dataset :  [50 50 50]\n",
            "Training set :  [36 32 37]\n",
            "Test set : [14 18 13]\n"
          ],
          "name": "stdout"
        }
      ]
    },
    {
      "cell_type": "code",
      "metadata": {
        "id": "udA6Vzp_810c"
      },
      "source": [
        "# The stratify is defined as 'y'\n",
        "X_train, X_test, y_train, y_test = train_test_split(X, y, test_size=0.3, random_state=1, stratify=y)"
      ],
      "execution_count": 41,
      "outputs": []
    },
    {
      "cell_type": "code",
      "metadata": {
        "colab": {
          "base_uri": "https://localhost:8080/"
        },
        "id": "m8ZakQFN83xt",
        "outputId": "34beb187-4f13-40ae-a489-45c6c2f5cf44"
      },
      "source": [
        "print ('Dataset : ', np.bincount(y))\n",
        "print ('Training set : ', np.bincount(y_train))\n",
        "print ('Test set :', np.bincount(y_test))"
      ],
      "execution_count": 39,
      "outputs": [
        {
          "output_type": "stream",
          "text": [
            "Dataset :  [50 50 50]\n",
            "Training set :  [35 35 35]\n",
            "Test set : [15 15 15]\n"
          ],
          "name": "stdout"
        }
      ]
    },
    {
      "cell_type": "code",
      "metadata": {
        "id": "M1HjlT3X9H4_"
      },
      "source": [
        "# The stratify is defined as 'y'\n",
        "X_train, X_test, y_train, y_test = train_test_split(X, y, test_size=0.3, random_state=1, stratify=None)"
      ],
      "execution_count": 43,
      "outputs": []
    },
    {
      "cell_type": "code",
      "metadata": {
        "colab": {
          "base_uri": "https://localhost:8080/"
        },
        "id": "1tVWu4U7FEOj",
        "outputId": "e2cec207-52ec-45a4-fa6e-f4c79249fe88"
      },
      "source": [
        "print ('Dataset : ', np.bincount(y))\n",
        "print ('Training set : ', np.bincount(y_train))\n",
        "print ('Test set :', np.bincount(y_test))"
      ],
      "execution_count": 44,
      "outputs": [
        {
          "output_type": "stream",
          "text": [
            "Dataset :  [50 50 50]\n",
            "Training set :  [36 32 37]\n",
            "Test set : [14 18 13]\n"
          ],
          "name": "stdout"
        }
      ]
    }
  ]
}