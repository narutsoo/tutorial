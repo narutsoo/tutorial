{
  "nbformat": 4,
  "nbformat_minor": 0,
  "metadata": {
    "colab": {
      "name": "MC_DT_Classification.ipynb",
      "provenance": [],
      "include_colab_link": true
    },
    "kernelspec": {
      "name": "python2",
      "display_name": "Python 2"
    }
  },
  "cells": [
    {
      "cell_type": "markdown",
      "metadata": {
        "id": "view-in-github",
        "colab_type": "text"
      },
      "source": [
        "<a href=\"https://colab.research.google.com/github/narutsoo/tutorial/blob/master/MC_DT_Classification.ipynb\" target=\"_parent\"><img src=\"https://colab.research.google.com/assets/colab-badge.svg\" alt=\"Open In Colab\"/></a>"
      ]
    },
    {
      "cell_type": "markdown",
      "metadata": {
        "id": "0u8ec2urdxQE"
      },
      "source": [
        "---\n",
        "\n",
        "# 01 : Classification : Decision Tree\n",
        "\n",
        "---"
      ]
    },
    {
      "cell_type": "markdown",
      "metadata": {
        "id": "UIPu3Uh6efPQ"
      },
      "source": [
        " \n",
        "\n",
        "*   Load Iris dataset (from scikit-learn)\n",
        "*   Use Decision Tree Classifier"
      ]
    },
    {
      "cell_type": "code",
      "metadata": {
        "id": "ceY1vIp4fgpa"
      },
      "source": [
        "from sklearn.datasets import load_iris\n",
        "from sklearn.tree import DecisionTreeClassifier\n"
      ],
      "execution_count": null,
      "outputs": []
    },
    {
      "cell_type": "code",
      "metadata": {
        "id": "ilJfS2I5fh4c"
      },
      "source": [
        "iris = load_iris()\n",
        "\n",
        "# Use petal length and width\n",
        "X = iris.data[:, 2:] # petal length and width\n",
        "y = iris.target"
      ],
      "execution_count": null,
      "outputs": []
    },
    {
      "cell_type": "markdown",
      "metadata": {
        "id": "wPV-SODsuBwg"
      },
      "source": [
        "* To define the model\n",
        "* To fit with the data"
      ]
    },
    {
      "cell_type": "code",
      "metadata": {
        "id": "hSM73UUFqSo-",
        "colab": {
          "base_uri": "https://localhost:8080/"
        },
        "outputId": "b6105a95-6b4e-4c42-ed32-8cd47f04f004"
      },
      "source": [
        "tree_clf = DecisionTreeClassifier(max_depth=2, random_state=42)\n",
        "tree_clf.fit(X, y)"
      ],
      "execution_count": null,
      "outputs": [
        {
          "output_type": "execute_result",
          "data": {
            "text/plain": [
              "DecisionTreeClassifier(class_weight=None, criterion='gini', max_depth=2,\n",
              "            max_features=None, max_leaf_nodes=None,\n",
              "            min_impurity_decrease=0.0, min_impurity_split=None,\n",
              "            min_samples_leaf=1, min_samples_split=2,\n",
              "            min_weight_fraction_leaf=0.0, presort=False, random_state=42,\n",
              "            splitter='best')"
            ]
          },
          "metadata": {
            "tags": []
          },
          "execution_count": 3
        }
      ]
    },
    {
      "cell_type": "markdown",
      "metadata": {
        "id": "3F17uOGbHyLJ"
      },
      "source": [
        "---\n",
        "## To visualize Decision Tree"
      ]
    },
    {
      "cell_type": "code",
      "metadata": {
        "id": "la48H4l2qvm3"
      },
      "source": [
        "from sklearn.tree import export_graphviz\n",
        "export_graphviz(tree_clf, out_file=\"tree.dot\", class_names=iris.target_names,feature_names=iris.feature_names[2:], filled=True)\n",
        "\n",
        "import graphviz\n",
        "with open(\"tree.dot\") as f:\n",
        "    dot_graph = f.read()"
      ],
      "execution_count": null,
      "outputs": []
    },
    {
      "cell_type": "code",
      "metadata": {
        "colab": {
          "base_uri": "https://localhost:8080/",
          "height": 35
        },
        "id": "_jODVuXEHRkv",
        "outputId": "8e38f206-7646-4c22-9763-57f78512a366"
      },
      "source": [
        "g = graphviz.Source(dot_graph)\n",
        "g.format = \"png\"\n",
        "g.render(\"file_name\")"
      ],
      "execution_count": null,
      "outputs": [
        {
          "output_type": "execute_result",
          "data": {
            "application/vnd.google.colaboratory.intrinsic+json": {
              "type": "string"
            },
            "text/plain": [
              "'file_name.png'"
            ]
          },
          "metadata": {
            "tags": []
          },
          "execution_count": 11
        }
      ]
    },
    {
      "cell_type": "code",
      "metadata": {
        "id": "WpnSL8AZHYLc"
      },
      "source": [
        ""
      ],
      "execution_count": null,
      "outputs": []
    }
  ]
}