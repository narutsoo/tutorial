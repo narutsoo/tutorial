{
  "nbformat": 4,
  "nbformat_minor": 0,
  "metadata": {
    "colab": {
      "name": "Multi_Class_Classification_Keras.ipynb",
      "provenance": [],
      "collapsed_sections": [],
      "authorship_tag": "ABX9TyOlLZhudxSBYPgs9oNGPBi0",
      "include_colab_link": true
    },
    "kernelspec": {
      "name": "python3",
      "display_name": "Python 3"
    },
    "language_info": {
      "name": "python"
    }
  },
  "cells": [
    {
      "cell_type": "markdown",
      "metadata": {
        "id": "view-in-github",
        "colab_type": "text"
      },
      "source": [
        "<a href=\"https://colab.research.google.com/github/narutsoo/tutorial/blob/master/Multi_Class_Classification_Keras.ipynb\" target=\"_parent\"><img src=\"https://colab.research.google.com/assets/colab-badge.svg\" alt=\"Open In Colab\"/></a>"
      ]
    },
    {
      "cell_type": "markdown",
      "metadata": {
        "id": "sjW1ndtqyDJb"
      },
      "source": [
        "Topic : Multi-Class Classification Tutorial with the Keras Deep Learning Library\n",
        "\n",
        "*Reference*\n",
        "* https://machinelearningmastery.com/multi-class-classification-tutorial-keras-deep-learning-library/"
      ]
    },
    {
      "cell_type": "markdown",
      "metadata": {
        "id": "4Hx6UbIMbUtD"
      },
      "source": [
        "Import related libraries"
      ]
    },
    {
      "cell_type": "code",
      "metadata": {
        "id": "rKRSJTwDyCfE"
      },
      "source": [
        "import pandas as pd\n",
        "from sklearn.preprocessing import LabelEncoder\n",
        "from keras.utils import np_utils\n",
        "from keras.models import Sequential\n",
        "from keras.layers import Dense\n",
        "from keras.wrappers.scikit_learn import KerasClassifier\n",
        "from sklearn.model_selection import cross_val_score\n",
        "from sklearn.model_selection import KFold\n",
        "from sklearn.metrics import accuracy_score"
      ],
      "execution_count": 30,
      "outputs": []
    },
    {
      "cell_type": "markdown",
      "metadata": {
        "id": "gah8BuPUbnNa"
      },
      "source": [
        "Import Data From URL (iris dataset: 4 input features, 3 classes)"
      ]
    },
    {
      "cell_type": "code",
      "metadata": {
        "id": "6TccBXEFy150"
      },
      "source": [
        "data = pd.read_csv('https://raw.githubusercontent.com/jbrownlee/Datasets/master/iris.csv', header=None)"
      ],
      "execution_count": 31,
      "outputs": []
    },
    {
      "cell_type": "code",
      "metadata": {
        "colab": {
          "base_uri": "https://localhost:8080/",
          "height": 220
        },
        "id": "oTLRczQFzDKd",
        "outputId": "05fae7b5-b507-41bd-f7a4-3a14acfa5550"
      },
      "source": [
        "print (data.shape)\n",
        "\n",
        "data.head()"
      ],
      "execution_count": 32,
      "outputs": [
        {
          "output_type": "stream",
          "text": [
            "(150, 5)\n"
          ],
          "name": "stdout"
        },
        {
          "output_type": "execute_result",
          "data": {
            "text/html": [
              "<div>\n",
              "<style scoped>\n",
              "    .dataframe tbody tr th:only-of-type {\n",
              "        vertical-align: middle;\n",
              "    }\n",
              "\n",
              "    .dataframe tbody tr th {\n",
              "        vertical-align: top;\n",
              "    }\n",
              "\n",
              "    .dataframe thead th {\n",
              "        text-align: right;\n",
              "    }\n",
              "</style>\n",
              "<table border=\"1\" class=\"dataframe\">\n",
              "  <thead>\n",
              "    <tr style=\"text-align: right;\">\n",
              "      <th></th>\n",
              "      <th>0</th>\n",
              "      <th>1</th>\n",
              "      <th>2</th>\n",
              "      <th>3</th>\n",
              "      <th>4</th>\n",
              "    </tr>\n",
              "  </thead>\n",
              "  <tbody>\n",
              "    <tr>\n",
              "      <th>0</th>\n",
              "      <td>5.1</td>\n",
              "      <td>3.5</td>\n",
              "      <td>1.4</td>\n",
              "      <td>0.2</td>\n",
              "      <td>Iris-setosa</td>\n",
              "    </tr>\n",
              "    <tr>\n",
              "      <th>1</th>\n",
              "      <td>4.9</td>\n",
              "      <td>3.0</td>\n",
              "      <td>1.4</td>\n",
              "      <td>0.2</td>\n",
              "      <td>Iris-setosa</td>\n",
              "    </tr>\n",
              "    <tr>\n",
              "      <th>2</th>\n",
              "      <td>4.7</td>\n",
              "      <td>3.2</td>\n",
              "      <td>1.3</td>\n",
              "      <td>0.2</td>\n",
              "      <td>Iris-setosa</td>\n",
              "    </tr>\n",
              "    <tr>\n",
              "      <th>3</th>\n",
              "      <td>4.6</td>\n",
              "      <td>3.1</td>\n",
              "      <td>1.5</td>\n",
              "      <td>0.2</td>\n",
              "      <td>Iris-setosa</td>\n",
              "    </tr>\n",
              "    <tr>\n",
              "      <th>4</th>\n",
              "      <td>5.0</td>\n",
              "      <td>3.6</td>\n",
              "      <td>1.4</td>\n",
              "      <td>0.2</td>\n",
              "      <td>Iris-setosa</td>\n",
              "    </tr>\n",
              "  </tbody>\n",
              "</table>\n",
              "</div>"
            ],
            "text/plain": [
              "     0    1    2    3            4\n",
              "0  5.1  3.5  1.4  0.2  Iris-setosa\n",
              "1  4.9  3.0  1.4  0.2  Iris-setosa\n",
              "2  4.7  3.2  1.3  0.2  Iris-setosa\n",
              "3  4.6  3.1  1.5  0.2  Iris-setosa\n",
              "4  5.0  3.6  1.4  0.2  Iris-setosa"
            ]
          },
          "metadata": {
            "tags": []
          },
          "execution_count": 32
        }
      ]
    },
    {
      "cell_type": "markdown",
      "metadata": {
        "id": "pn3IbCjJbxUo"
      },
      "source": [
        "Change from dataframe to numpy array (and separated input and target variables"
      ]
    },
    {
      "cell_type": "code",
      "metadata": {
        "id": "E9UbughGzD4_"
      },
      "source": [
        "dataset = data.values"
      ],
      "execution_count": 33,
      "outputs": []
    },
    {
      "cell_type": "code",
      "metadata": {
        "id": "T1nLTyAVzFX7"
      },
      "source": [
        "X = dataset[:,0:4]\n",
        "y = dataset[:,4]"
      ],
      "execution_count": 34,
      "outputs": []
    },
    {
      "cell_type": "code",
      "metadata": {
        "id": "MDD9vNjy1ajr"
      },
      "source": [
        "X = X.astype(float)"
      ],
      "execution_count": 35,
      "outputs": []
    },
    {
      "cell_type": "markdown",
      "metadata": {
        "id": "V4nWa522b_og"
      },
      "source": [
        "To do encoder and one hot encoding"
      ]
    },
    {
      "cell_type": "code",
      "metadata": {
        "id": "4kJxVP0YzMXz"
      },
      "source": [
        "label_enc = LabelEncoder()\n",
        "y_enc = label_enc.fit_transform(y)"
      ],
      "execution_count": 36,
      "outputs": []
    },
    {
      "cell_type": "code",
      "metadata": {
        "colab": {
          "base_uri": "https://localhost:8080/"
        },
        "id": "trBCV3jYzUlb",
        "outputId": "f9f832b7-bcac-481a-823f-640a1135168c"
      },
      "source": [
        "y_enc"
      ],
      "execution_count": 37,
      "outputs": [
        {
          "output_type": "execute_result",
          "data": {
            "text/plain": [
              "array([0, 0, 0, 0, 0, 0, 0, 0, 0, 0, 0, 0, 0, 0, 0, 0, 0, 0, 0, 0, 0, 0,\n",
              "       0, 0, 0, 0, 0, 0, 0, 0, 0, 0, 0, 0, 0, 0, 0, 0, 0, 0, 0, 0, 0, 0,\n",
              "       0, 0, 0, 0, 0, 0, 1, 1, 1, 1, 1, 1, 1, 1, 1, 1, 1, 1, 1, 1, 1, 1,\n",
              "       1, 1, 1, 1, 1, 1, 1, 1, 1, 1, 1, 1, 1, 1, 1, 1, 1, 1, 1, 1, 1, 1,\n",
              "       1, 1, 1, 1, 1, 1, 1, 1, 1, 1, 1, 1, 2, 2, 2, 2, 2, 2, 2, 2, 2, 2,\n",
              "       2, 2, 2, 2, 2, 2, 2, 2, 2, 2, 2, 2, 2, 2, 2, 2, 2, 2, 2, 2, 2, 2,\n",
              "       2, 2, 2, 2, 2, 2, 2, 2, 2, 2, 2, 2, 2, 2, 2, 2, 2, 2])"
            ]
          },
          "metadata": {
            "tags": []
          },
          "execution_count": 37
        }
      ]
    },
    {
      "cell_type": "code",
      "metadata": {
        "id": "RapNPUZ4zXQu"
      },
      "source": [
        "# label_encoder = LabelEncoder()\n",
        "# y_encoder = label_encoder.fit(y)\n",
        "# y_encoder = label_encoder.transform(y)"
      ],
      "execution_count": 9,
      "outputs": []
    },
    {
      "cell_type": "code",
      "metadata": {
        "id": "BUYYReYQ10U4"
      },
      "source": [
        "y_dummy = np_utils.to_categorical(y_enc)"
      ],
      "execution_count": 10,
      "outputs": []
    },
    {
      "cell_type": "code",
      "metadata": {
        "id": "SpolAWT_zVgq"
      },
      "source": [
        "# X_train, X_test, y_train, y_test = train_test_split(X, y_enc, test_size=0.33, random_state =1)"
      ],
      "execution_count": 11,
      "outputs": []
    },
    {
      "cell_type": "markdown",
      "metadata": {
        "id": "7R553hO5cCAl"
      },
      "source": [
        "To create a baseline model"
      ]
    },
    {
      "cell_type": "code",
      "metadata": {
        "id": "D8pEnqEnz0X_"
      },
      "source": [
        "def baseline_model():\n",
        "  # Create the model\n",
        "  model = Sequential()\n",
        "  model.add(Dense(8, input_dim=4, activation='relu'))\n",
        "  model.add(Dense(3, activation='softmax'))\n",
        "  # Compile the model\n",
        "  model.compile(loss='categorical_crossentropy',metrics=['acc'] ,optimizer='adam')\n",
        "  return model"
      ],
      "execution_count": 38,
      "outputs": []
    },
    {
      "cell_type": "code",
      "metadata": {
        "id": "tTXgVDjG0mu3"
      },
      "source": [
        "estimator = KerasClassifier(build_fn=baseline_model, epochs=200, batch_size=5, verbose=0)"
      ],
      "execution_count": 39,
      "outputs": []
    },
    {
      "cell_type": "code",
      "metadata": {
        "id": "Fp7NJNuq3JfI"
      },
      "source": [
        "kfold = KFold(n_splits=10, shuffle=True)"
      ],
      "execution_count": 40,
      "outputs": []
    },
    {
      "cell_type": "markdown",
      "metadata": {
        "id": "6AmFNYuVcF-o"
      },
      "source": [
        "To perform cross validation"
      ]
    },
    {
      "cell_type": "code",
      "metadata": {
        "id": "ozYVssQ008Zh"
      },
      "source": [
        "results = cross_val_score(estimator, X, y_dummy, cv = kfold)"
      ],
      "execution_count": 41,
      "outputs": []
    },
    {
      "cell_type": "code",
      "metadata": {
        "colab": {
          "base_uri": "https://localhost:8080/"
        },
        "id": "sPGAj6en3chW",
        "outputId": "d8d8c2aa-a7ab-425a-a393-a3f0b2853b5e"
      },
      "source": [
        "print ('Accuracy (mean) =' ,(round(results.mean()*100, 2)))\n",
        "print ('Accuracy (std) =', (round(results.std()*100, 2)))"
      ],
      "execution_count": 42,
      "outputs": [
        {
          "output_type": "stream",
          "text": [
            "Accuracy (mean) = 98.67\n",
            "Accuracy (std) = 4.0\n"
          ],
          "name": "stdout"
        }
      ]
    }
  ]
}