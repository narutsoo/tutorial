{
  "nbformat": 4,
  "nbformat_minor": 0,
  "metadata": {
    "colab": {
      "name": "model_train_colab_deploy.ipynb",
      "provenance": [],
      "authorship_tag": "ABX9TyO6hZMx7X37osSJ6sB3Pt5D",
      "include_colab_link": true
    },
    "kernelspec": {
      "name": "python3",
      "display_name": "Python 3"
    },
    "language_info": {
      "name": "python"
    }
  },
  "cells": [
    {
      "cell_type": "markdown",
      "metadata": {
        "id": "view-in-github",
        "colab_type": "text"
      },
      "source": [
        "<a href=\"https://colab.research.google.com/github/narutsoo/tutorial/blob/master/model_train_colab_deploy.ipynb\" target=\"_parent\"><img src=\"https://colab.research.google.com/assets/colab-badge.svg\" alt=\"Open In Colab\"/></a>"
      ]
    },
    {
      "cell_type": "markdown",
      "metadata": {
        "id": "pU8dMtgXKeVu"
      },
      "source": [
        "ColabCode: Deploying Machine Learning Models From Google Colab\n",
        "\n",
        "* https://www.kdnuggets.com/2021/07/colabcode-deploying-machine-learning-models-google-colab.html"
      ]
    },
    {
      "cell_type": "code",
      "metadata": {
        "id": "4ydhxFrVKqiz"
      },
      "source": [
        "from sklearn.tree import DecisionTreeClassifier\n",
        "from sklearn.model_selection import train_test_split\n",
        "import pandas as pd\n",
        "import pickle\n",
        "\n",
        "df = pd.read_csv(\"https://raw.githubusercontent.com/kaustubhgupta/Technocolab-Final-Project/master/Data/cleaned.csv\",  index_col=None)\n",
        "X = df.drop(['track_id', 'genre_top'], axis=1)\n",
        "y = df.genre_top\n",
        "\n",
        "X_train, X_test, y_train, y_test = train_test_split(X,y,stratify=y)\n",
        "\n",
        "tree = DecisionTreeClassifier(random_state=42)\n",
        "\n",
        "tree.fit(X_train, y_train)\n",
        "\n",
        "Pkl_Filename = \"model_tree.pkl\"  \n",
        "\n",
        "with open(Pkl_Filename, 'wb') as file:  \n",
        "    pickle.dump(tree, file)\n"
      ],
      "execution_count": 2,
      "outputs": []
    },
    {
      "cell_type": "code",
      "metadata": {
        "colab": {
          "base_uri": "https://localhost:8080/"
        },
        "id": "a5T2hU9VKa2P",
        "outputId": "8b2b1bb3-799d-4e67-823d-0788fb67cef7"
      },
      "source": [
        "print (\"Target \\n\", y_train.value_counts())"
      ],
      "execution_count": 10,
      "outputs": [
        {
          "output_type": "stream",
          "text": [
            "Target \n",
            " Rock       2919\n",
            "Hip-Hop     682\n",
            "Name: genre_top, dtype: int64\n"
          ],
          "name": "stdout"
        }
      ]
    },
    {
      "cell_type": "code",
      "metadata": {
        "colab": {
          "base_uri": "https://localhost:8080/"
        },
        "id": "l_YK4bMGGxy8",
        "outputId": "4e29353a-0313-44de-ba63-903c88f60340"
      },
      "source": [
        "print (X.shape)"
      ],
      "execution_count": 11,
      "outputs": [
        {
          "output_type": "stream",
          "text": [
            "(4802, 8)\n"
          ],
          "name": "stdout"
        }
      ]
    },
    {
      "cell_type": "code",
      "metadata": {
        "id": "iAy5RUJJLWWa"
      },
      "source": [
        ""
      ],
      "execution_count": null,
      "outputs": []
    }
  ]
}