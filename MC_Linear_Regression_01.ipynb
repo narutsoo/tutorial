{
  "nbformat": 4,
  "nbformat_minor": 0,
  "metadata": {
    "colab": {
      "name": "MC_Linear_Regression_01.ipynb",
      "provenance": [],
      "authorship_tag": "ABX9TyMl8VMp7JsNcYDMQVV467CA",
      "include_colab_link": true
    },
    "kernelspec": {
      "name": "python3",
      "display_name": "Python 3"
    }
  },
  "cells": [
    {
      "cell_type": "markdown",
      "metadata": {
        "id": "view-in-github",
        "colab_type": "text"
      },
      "source": [
        "<a href=\"https://colab.research.google.com/github/narutsoo/tutorial/blob/master/MC_Linear_Regression_01.ipynb\" target=\"_parent\"><img src=\"https://colab.research.google.com/assets/colab-badge.svg\" alt=\"Open In Colab\"/></a>"
      ]
    },
    {
      "cell_type": "markdown",
      "metadata": {
        "id": "w18VoqIoBYRY"
      },
      "source": [
        "---\n",
        "\n",
        "# 01 : Linear Regression\n",
        "\n",
        "---"
      ]
    },
    {
      "cell_type": "markdown",
      "metadata": {
        "id": "m0--PXvg-oJb"
      },
      "source": [
        "* To import data .. Area (Sq.wa.) and Price x 1,000 (Baht) "
      ]
    },
    {
      "cell_type": "code",
      "metadata": {
        "id": "ClKwgF4Sw1nx"
      },
      "source": [
        "# import Numpy library\n",
        "import numpy as np"
      ],
      "execution_count": 47,
      "outputs": []
    },
    {
      "cell_type": "code",
      "metadata": {
        "id": "JFfd2pNZzqKG"
      },
      "source": [
        "X = np.array ([80, 104,  94,  72,  78, 130,  94, 114, 114, 104, \n",
        "               110, 86,  98, 110, 104, 106,  86, 116, 106, 128])\n",
        "\n",
        "y = np.array ([7300, 9900, 9800, 4600, 7500, 10400, 9700, 9700, 10000, 10100, \n",
        "               9800, 8900, 9700, 9500, 9800, 9800, 8900, 9900, 9800, 10300])"
      ],
      "execution_count": 29,
      "outputs": []
    },
    {
      "cell_type": "code",
      "metadata": {
        "id": "P1TLX0wsigvD"
      },
      "source": [
        "X = X.reshape(-1, 1)"
      ],
      "execution_count": 30,
      "outputs": []
    },
    {
      "cell_type": "code",
      "metadata": {
        "colab": {
          "base_uri": "https://localhost:8080/"
        },
        "id": "7NzWt_XxPp6R",
        "outputId": "b8b19604-1d4a-465e-be12-565c8ca67c6a"
      },
      "source": [
        "X"
      ],
      "execution_count": 31,
      "outputs": [
        {
          "output_type": "execute_result",
          "data": {
            "text/plain": [
              "array([[ 80],\n",
              "       [104],\n",
              "       [ 94],\n",
              "       [ 72],\n",
              "       [ 78],\n",
              "       [130],\n",
              "       [ 94],\n",
              "       [114],\n",
              "       [114],\n",
              "       [104],\n",
              "       [110],\n",
              "       [ 86],\n",
              "       [ 98],\n",
              "       [110],\n",
              "       [104],\n",
              "       [106],\n",
              "       [ 86],\n",
              "       [116],\n",
              "       [106],\n",
              "       [128]])"
            ]
          },
          "metadata": {
            "tags": []
          },
          "execution_count": 31
        }
      ]
    },
    {
      "cell_type": "markdown",
      "metadata": {
        "id": "tKZIktpDB5gU"
      },
      "source": [
        "* To import related libraries .. Matplotlib (For visualization)"
      ]
    },
    {
      "cell_type": "code",
      "metadata": {
        "id": "F_1TzwHCBvnN"
      },
      "source": [
        "import matplotlib.pyplot as plt"
      ],
      "execution_count": 32,
      "outputs": []
    },
    {
      "cell_type": "code",
      "metadata": {
        "id": "12ICXnaFByO-",
        "colab": {
          "base_uri": "https://localhost:8080/",
          "height": 295
        },
        "outputId": "2f647a9c-83cf-438c-a132-7f5f00f2f545"
      },
      "source": [
        "plt.scatter(X, y, s = 40, color='green', marker='D', alpha=.3, label = 'Data')\n",
        "\n",
        "plt.xlabel('Area (Sq.wa.)')\n",
        "plt.ylabel('Price x 1,000')\n",
        "plt.title('Area (Sq.wa) and Price x 1,000 Baht')\n",
        "plt.show()"
      ],
      "execution_count": 80,
      "outputs": [
        {
          "output_type": "display_data",
          "data": {
            "image/png": "[encoded data removed]",
            "text/plain": [
              "<Figure size 432x288 with 1 Axes>"
            ]
          },
          "metadata": {
            "tags": [],
            "needs_background": "light"
          }
        }
      ]
    },
    {
      "cell_type": "markdown",
      "metadata": {
        "id": "QHLg4_O9CMPr"
      },
      "source": [
        "* To import Scikit-learn\n",
        "* To use a linear model from Scikit-learn"
      ]
    },
    {
      "cell_type": "code",
      "metadata": {
        "id": "3MUAMrrYB2VZ"
      },
      "source": [
        "from sklearn.linear_model import LinearRegression"
      ],
      "execution_count": 55,
      "outputs": []
    },
    {
      "cell_type": "code",
      "metadata": {
        "id": "QWL9KFeHCDaM"
      },
      "source": [
        "LR = LinearRegression(normalize=True)"
      ],
      "execution_count": 56,
      "outputs": []
    },
    {
      "cell_type": "markdown",
      "metadata": {
        "id": "eXX_jGCDqlSx"
      },
      "source": [
        "* To fit (train) the model"
      ]
    },
    {
      "cell_type": "code",
      "metadata": {
        "id": "HOLr8KMlqkca",
        "colab": {
          "base_uri": "https://localhost:8080/"
        },
        "outputId": "054972d2-1080-4636-f02b-0baf6944bcf4"
      },
      "source": [
        "LR.fit(X, y)"
      ],
      "execution_count": 62,
      "outputs": [
        {
          "output_type": "execute_result",
          "data": {
            "text/plain": [
              "LinearRegression(copy_X=True, fit_intercept=True, n_jobs=None, normalize=True)"
            ]
          },
          "metadata": {
            "tags": []
          },
          "execution_count": 62
        }
      ]
    },
    {
      "cell_type": "markdown",
      "metadata": {
        "id": "86f0C5TbDH5O"
      },
      "source": [
        "* At this step, the Linear Model is obtained (presented by the red line)"
      ]
    },
    {
      "cell_type": "markdown",
      "metadata": {
        "id": "wP-aR99K9SgA"
      },
      "source": [
        "![image.png](data:image/png;base64,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)"
      ]
    },
    {
      "cell_type": "markdown",
      "metadata": {
        "id": "N4ArTfGgDSok"
      },
      "source": [
        "* To evaluate the model"
      ]
    },
    {
      "cell_type": "code",
      "metadata": {
        "id": "CSBNrwtPDMbf"
      },
      "source": [
        "y_pred = LR.predict(X)"
      ],
      "execution_count": 63,
      "outputs": []
    },
    {
      "cell_type": "code",
      "metadata": {
        "id": "vtqyWfA2Pfe0",
        "colab": {
          "base_uri": "https://localhost:8080/"
        },
        "outputId": "54488dc5-531b-4413-e3aa-41429d7104d3"
      },
      "source": [
        "print (y_pred)"
      ],
      "execution_count": 64,
      "outputs": [
        {
          "output_type": "stream",
          "text": [
            "[ 7784.46154497  9427.45338463  8742.87345144  7236.79759841\n",
            "  7647.54555833 11207.36121094  8742.87345144 10112.03331783\n",
            " 10112.03331783  9427.45338463  9838.20134455  8195.20950488\n",
            "  9016.70542472  9838.20134455  9427.45338463  9564.36937127\n",
            "  8195.20950488 10248.94930447  9564.36937127 11070.4452243 ]\n"
          ],
          "name": "stdout"
        }
      ]
    },
    {
      "cell_type": "code",
      "metadata": {
        "id": "bEWZSXPDDX-2",
        "colab": {
          "base_uri": "https://localhost:8080/"
        },
        "outputId": "da163921-d0e6-4a49-b05e-2f918df8f365"
      },
      "source": [
        "# Evaluate using Root Mean Squared Error and R2 Score\n",
        "from sklearn.metrics import mean_squared_error, r2_score\n",
        "\n",
        "rmse = np.sqrt(mean_squared_error(y, y_pred))\n",
        "print ('RMSE (Root Mean Squared Error) = ', rmse)\n",
        "\n",
        "r2 = r2_score(y, y_pred)\n",
        "print ('R2 = ', r2)"
      ],
      "execution_count": 82,
      "outputs": [
        {
          "output_type": "stream",
          "text": [
            "RMSE (Root Mean Squared Error) =  815.2892923150832\n",
            "R2 =  0.6251217471300945\n"
          ],
          "name": "stdout"
        }
      ]
    },
    {
      "cell_type": "code",
      "metadata": {
        "id": "9B94IiEtZovr",
        "colab": {
          "base_uri": "https://localhost:8080/"
        },
        "outputId": "2f54a3e2-2a9b-41db-be60-930c5e053038"
      },
      "source": [
        "print ('RMSE (Root Mean Squared Error) = ', round(rmse,4))\n",
        "print ('R2 =', round(r2,4))"
      ],
      "execution_count": 83,
      "outputs": [
        {
          "output_type": "stream",
          "text": [
            "RMSE (Root Mean Squared Error) =  815.2893\n",
            "R2 = 0.6251\n"
          ],
          "name": "stdout"
        }
      ]
    },
    {
      "cell_type": "markdown",
      "metadata": {
        "id": "nMR1ib7K2ujd"
      },
      "source": [
        "* To visualize the Linear Regression Model (red line) comparing with data (green)"
      ]
    },
    {
      "cell_type": "code",
      "metadata": {
        "id": "SP-INE_Hwa77",
        "colab": {
          "base_uri": "https://localhost:8080/",
          "height": 279
        },
        "outputId": "eb35f32b-4f80-4f96-d5ec-a274f98f2c71"
      },
      "source": [
        "# Plot data (X, y) \n",
        "plt.scatter(X, y, s = 40, color='green', marker='D', alpha=.3, label = 'Data')\n",
        "\n",
        "# Plot Linear Regression Model (X, y_pred)\n",
        "plt.plot(X, y_pred, linewidth = 4, color = 'r', label = 'Linear Regression Model')\n",
        "\n",
        "plt.legend(loc='lower right')\n",
        "plt.xlabel('Area (Sq.wa.)')\n",
        "plt.ylabel('Price x 1,000')\n",
        "plt.show()"
      ],
      "execution_count": 84,
      "outputs": [
        {
          "output_type": "display_data",
          "data": {
            "image/png": "[encoded data removed]",
            "text/plain": [
              "<Figure size 432x288 with 1 Axes>"
            ]
          },
          "metadata": {
            "tags": [],
            "needs_background": "light"
          }
        }
      ]
    },
    {
      "cell_type": "markdown",
      "metadata": {
        "id": "UfYAi5SA8Mkv"
      },
      "source": [
        "* To make prediction .. if House's Area = 120 Sq.wa."
      ]
    },
    {
      "cell_type": "code",
      "metadata": {
        "id": "JiO5yP0Q4END",
        "colab": {
          "base_uri": "https://localhost:8080/"
        },
        "outputId": "52a1be09-cfe1-4acf-88e4-2a0b46da8cfe"
      },
      "source": [
        "LR.predict([[120]])"
      ],
      "execution_count": 85,
      "outputs": [
        {
          "output_type": "execute_result",
          "data": {
            "text/plain": [
              "array([10522.78127775])"
            ]
          },
          "metadata": {
            "tags": []
          },
          "execution_count": 85
        }
      ]
    },
    {
      "cell_type": "code",
      "metadata": {
        "id": "blHGzn0QaYmz"
      },
      "source": [
        ""
      ],
      "execution_count": null,
      "outputs": []
    }
  ]
}