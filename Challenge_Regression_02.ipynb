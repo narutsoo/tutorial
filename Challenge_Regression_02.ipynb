{
  "nbformat": 4,
  "nbformat_minor": 0,
  "metadata": {
    "colab": {
      "name": "Challenge_Regression_02.ipynb",
      "provenance": [],
      "collapsed_sections": [],
      "include_colab_link": true
    },
    "kernelspec": {
      "display_name": "Python 2",
      "language": "python",
      "name": "python2"
    },
    "language_info": {
      "codemirror_mode": {
        "name": "ipython",
        "version": 2
      },
      "file_extension": ".py",
      "mimetype": "text/x-python",
      "name": "python",
      "nbconvert_exporter": "python",
      "pygments_lexer": "ipython2",
      "version": "2.7.14"
    }
  },
  "cells": [
    {
      "cell_type": "markdown",
      "metadata": {
        "id": "view-in-github",
        "colab_type": "text"
      },
      "source": [
        "<a href=\"https://colab.research.google.com/github/narutsoo/tutorial/blob/master/Challenge_Regression_02.ipynb\" target=\"_parent\"><img src=\"https://colab.research.google.com/assets/colab-badge.svg\" alt=\"Open In Colab\"/></a>"
      ]
    },
    {
      "cell_type": "markdown",
      "metadata": {
        "id": "w18VoqIoBYRY"
      },
      "source": [
        "---\n",
        "\n",
        "# โจทย์ทดสอบ Linear Regression #2 (เฉลย)\n",
        "---"
      ]
    },
    {
      "cell_type": "markdown",
      "metadata": {
        "id": "m0--PXvg-oJb"
      },
      "source": [
        "*   จาก Library sklearn (หรือ scikit learn) เราจะเรียกใช้ datasets และสร้าง Dataset สำหรับทำ Regression ขึ้นมา\n",
        "*   เก็บข้อมูล (Input) Features ต่าง ๆ ไว้ที่ตัวแปร X และเก็บข้อมูล Target ไว้ที่ตัวแปร y พร้อมทั้งตรวจสอบขนาดของข้อมูล \n",
        "\n",
        "\n"
      ]
    },
    {
      "cell_type": "code",
      "metadata": {
        "id": "6guEpPnyQOS-",
        "outputId": "3cdcfd46-48f4-419d-a38a-b35f8b025f52",
        "colab": {
          "base_uri": "https://localhost:8080/"
        }
      },
      "source": [
        "from sklearn.datasets import make_regression\n",
        "X, y = make_regression(n_samples=1000, n_features=20, noise=50, random_state=1)\n",
        "\n",
        "print (X.shape)\n",
        "print (y.shape)"
      ],
      "execution_count": 1,
      "outputs": [
        {
          "output_type": "stream",
          "text": [
            "(1000, 20)\n",
            "(1000,)\n"
          ],
          "name": "stdout"
        }
      ]
    },
    {
      "cell_type": "markdown",
      "metadata": {
        "id": "QYlSPPlDTKto"
      },
      "source": [
        "---\n",
        "เริ่มขั้นตอนการสร้าง (Train) / ทดสอบ (Test) Model\n",
        "\n",
        "\n",
        "---\n"
      ]
    },
    {
      "cell_type": "markdown",
      "metadata": {
        "id": "CbDC9K06HOtd"
      },
      "source": [
        "\n",
        "จาก Library sklearn\n",
        "*   เรียกใช้งาน Linear Regression ซึ่งอยู่ใน linear model\n",
        "*   เรียกใช้งาน train / test split (การแบ่งข้อมูล train / test) ซึ่งอยู่ใน model selection\n"
      ]
    },
    {
      "cell_type": "code",
      "metadata": {
        "id": "ZbrwOhGETNTP"
      },
      "source": [
        "from sklearn.linear_model import LinearRegression\n",
        "from sklearn.model_selection import train_test_split"
      ],
      "execution_count": 2,
      "outputs": []
    },
    {
      "cell_type": "markdown",
      "metadata": {
        "id": "nvGkv1KgTb6i"
      },
      "source": [
        "*   ทำการแบ่งข้อมูล train (ใช้สร้าง Model) / test (ใช้ทดสอบ Model)\n",
        "*   สามารถกำหนด test size ได้ (ค่า test_size = 0.2 หมายถึง 20% เป็นข้อมูล test)\n",
        "\n"
      ]
    },
    {
      "cell_type": "code",
      "metadata": {
        "id": "xS0z8LHrTlHQ"
      },
      "source": [
        "X_train, X_test, y_train, y_test = train_test_split(X, y, test_size = 0.2)"
      ],
      "execution_count": 3,
      "outputs": []
    },
    {
      "cell_type": "markdown",
      "metadata": {
        "id": "sXDRgU9HTZdy"
      },
      "source": [
        "*   เพื่อดูขนาดของข้อมูล train และ ข้อมูล test"
      ]
    },
    {
      "cell_type": "code",
      "metadata": {
        "id": "DNdba0ZiUZjo",
        "outputId": "97f5e8c2-0b7b-4b19-d940-364172e77a71",
        "colab": {
          "base_uri": "https://localhost:8080/"
        }
      },
      "source": [
        "print (X_train.shape)\n",
        "print (X_test.shape)"
      ],
      "execution_count": 4,
      "outputs": [
        {
          "output_type": "stream",
          "text": [
            "(800, 20)\n",
            "(200, 20)\n"
          ],
          "name": "stdout"
        }
      ]
    },
    {
      "cell_type": "markdown",
      "metadata": {
        "id": "MRVh5uYpTy7q"
      },
      "source": [
        "กำหนด Linear Regression Model ในชื่อตัวแปร **\"LR\"** (กำหนดค่า Normalize = True)"
      ]
    },
    {
      "cell_type": "code",
      "metadata": {
        "id": "RQmXlO79T3uY"
      },
      "source": [
        "LR = LinearRegression(normalize=True)"
      ],
      "execution_count": 5,
      "outputs": []
    },
    {
      "cell_type": "markdown",
      "metadata": {
        "id": "1uXfIZj7UQC1"
      },
      "source": [
        "ทำการ Train model ด้วยข้อมูล X_train, y_train"
      ]
    },
    {
      "cell_type": "code",
      "metadata": {
        "id": "qRxyANrbUON2",
        "outputId": "9e17f4cb-4cf3-44ad-d8d1-5c91b111d67b",
        "colab": {
          "base_uri": "https://localhost:8080/"
        }
      },
      "source": [
        "LR.fit(X_train, y_train)"
      ],
      "execution_count": 6,
      "outputs": [
        {
          "output_type": "execute_result",
          "data": {
            "text/plain": [
              "LinearRegression(copy_X=True, fit_intercept=True, n_jobs=None, normalize=True)"
            ]
          },
          "metadata": {
            "tags": []
          },
          "execution_count": 6
        }
      ]
    },
    {
      "cell_type": "markdown",
      "metadata": {
        "id": "3okaaG5LT70P"
      },
      "source": [
        "วัดประสิทธิภาพของ Model โดยใช้ข้อมูล X_test, y_test .."
      ]
    },
    {
      "cell_type": "code",
      "metadata": {
        "id": "5x9X633cT_z8"
      },
      "source": [
        "y_pred = LR.predict(X_test) "
      ],
      "execution_count": 7,
      "outputs": []
    },
    {
      "cell_type": "code",
      "metadata": {
        "id": "Wo6KD17mUitv",
        "outputId": "14c53ce7-9817-47b3-c24f-bc49a2ea2e0a",
        "colab": {
          "base_uri": "https://localhost:8080/"
        }
      },
      "source": [
        "from sklearn.metrics import mean_squared_error, r2_score\n",
        "import numpy as np\n",
        "\n",
        "rmse = np.sqrt(mean_squared_error(y_test, y_pred))\n",
        "print ('RMSE (Root Mean Squared Error) = ', rmse)\n",
        "\n",
        "r2 = r2_score(y_test, y_pred)\n",
        "print ('R2 = ', r2)"
      ],
      "execution_count": 8,
      "outputs": [
        {
          "output_type": "stream",
          "text": [
            "('RMSE (Root Mean Squared Error) = ', 53.94556537028411)\n",
            "('R2 = ', 0.8982079048634982)\n"
          ],
          "name": "stdout"
        }
      ]
    },
    {
      "cell_type": "markdown",
      "metadata": {
        "id": "UfYAi5SA8Mkv"
      },
      "source": [
        "************************************************************************\n",
        "ค่า RMSE = 53.9456\n",
        "\n",
        "ค่า R2 = 0.8982 (ถือว่าดี)\n",
        "************************************************************************"
      ]
    },
    {
      "cell_type": "code",
      "metadata": {
        "id": "GS36bdFOVSce"
      },
      "source": [
        ""
      ],
      "execution_count": null,
      "outputs": []
    }
  ]
}