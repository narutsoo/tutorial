{
 "cells": [
  {
   "cell_type": "markdown",
   "id": "b5d78eaa",
   "metadata": {},
   "source": [
    "# Topic : Machine Learning Algorithm Recipes in scikit-learn\n",
    "\n",
    "*Reference*\n",
    "\n",
    "* https://machinelearningmastery.com/get-your-hands-dirty-with-scikit-learn-now/"
   ]
  },
  {
   "cell_type": "markdown",
   "id": "a5d17842",
   "metadata": {},
   "source": [
    "---\n",
    "## Logistic Regression\n",
    "---"
   ]
  },
  {
   "cell_type": "code",
   "execution_count": 1,
   "id": "fcf0efe0",
   "metadata": {},
   "outputs": [],
   "source": [
    "from sklearn.datasets import load_iris\n",
    "from sklearn.linear_model import LogisticRegression\n",
    "from sklearn.metrics import accuracy_score\n",
    "from sklearn.metrics import confusion_matrix\n",
    "from sklearn.metrics import classification_report"
   ]
  },
  {
   "cell_type": "markdown",
   "id": "5f409bbf",
   "metadata": {},
   "source": [
    "---\n",
    "### To load dataset"
   ]
  },
  {
   "cell_type": "code",
   "execution_count": 2,
   "id": "6ee13094",
   "metadata": {},
   "outputs": [],
   "source": [
    "dataset = load_iris()"
   ]
  },
  {
   "cell_type": "markdown",
   "id": "335b230b",
   "metadata": {},
   "source": [
    "---\n",
    "### Train the model"
   ]
  },
  {
   "cell_type": "code",
   "execution_count": 3,
   "id": "d9ad7aee",
   "metadata": {},
   "outputs": [
    {
     "name": "stderr",
     "output_type": "stream",
     "text": [
      "/home/narut/anaconda3/envs/sparkenv/lib/python3.7/site-packages/sklearn/linear_model/_logistic.py:765: ConvergenceWarning: lbfgs failed to converge (status=1):\n",
      "STOP: TOTAL NO. of ITERATIONS REACHED LIMIT.\n",
      "\n",
      "Increase the number of iterations (max_iter) or scale the data as shown in:\n",
      "    https://scikit-learn.org/stable/modules/preprocessing.html\n",
      "Please also refer to the documentation for alternative solver options:\n",
      "    https://scikit-learn.org/stable/modules/linear_model.html#logistic-regression\n",
      "  extra_warning_msg=_LOGISTIC_SOLVER_CONVERGENCE_MSG)\n"
     ]
    },
    {
     "data": {
      "text/plain": [
       "LogisticRegression()"
      ]
     },
     "execution_count": 3,
     "metadata": {},
     "output_type": "execute_result"
    }
   ],
   "source": [
    "model_1 = LogisticRegression()\n",
    "model_1.fit(dataset.data, dataset.target)"
   ]
  },
  {
   "cell_type": "markdown",
   "id": "8cd0a9d5",
   "metadata": {},
   "source": [
    "---\n",
    "### To  make predictions"
   ]
  },
  {
   "cell_type": "code",
   "execution_count": 4,
   "id": "ae5be66c",
   "metadata": {},
   "outputs": [],
   "source": [
    "expected = dataset.target\n",
    "predicted = model_1.predict(dataset.data)"
   ]
  },
  {
   "cell_type": "markdown",
   "id": "6773c074",
   "metadata": {},
   "source": [
    "---\n",
    "## To summarize the classification report"
   ]
  },
  {
   "cell_type": "code",
   "execution_count": 5,
   "id": "d366ddfe",
   "metadata": {},
   "outputs": [
    {
     "name": "stdout",
     "output_type": "stream",
     "text": [
      "97.3333\n"
     ]
    }
   ],
   "source": [
    "print (round(100*accuracy_score(expected, predicted),4))"
   ]
  },
  {
   "cell_type": "code",
   "execution_count": 6,
   "id": "3fa8925b",
   "metadata": {},
   "outputs": [
    {
     "name": "stdout",
     "output_type": "stream",
     "text": [
      "              precision    recall  f1-score   support\n",
      "\n",
      "           0       1.00      1.00      1.00        50\n",
      "           1       0.98      0.94      0.96        50\n",
      "           2       0.94      0.98      0.96        50\n",
      "\n",
      "    accuracy                           0.97       150\n",
      "   macro avg       0.97      0.97      0.97       150\n",
      "weighted avg       0.97      0.97      0.97       150\n",
      "\n"
     ]
    }
   ],
   "source": [
    "print (classification_report(expected, predicted))"
   ]
  },
  {
   "cell_type": "code",
   "execution_count": 7,
   "id": "04c81b8d",
   "metadata": {},
   "outputs": [
    {
     "name": "stdout",
     "output_type": "stream",
     "text": [
      "[[50  0  0]\n",
      " [ 0 47  3]\n",
      " [ 0  1 49]]\n"
     ]
    }
   ],
   "source": [
    "print (confusion_matrix(expected, predicted))"
   ]
  },
  {
   "cell_type": "markdown",
   "id": "0b03696d",
   "metadata": {},
   "source": [
    "---\n",
    "# Naive Bayes\n",
    "---"
   ]
  },
  {
   "cell_type": "code",
   "execution_count": 8,
   "id": "b556eaa3",
   "metadata": {},
   "outputs": [],
   "source": [
    "from sklearn.datasets import load_iris\n",
    "from sklearn.naive_bayes import GaussianNB\n",
    "from sklearn.metrics import accuracy_score\n",
    "from sklearn.metrics import confusion_matrix\n",
    "from sklearn.metrics import classification_report"
   ]
  },
  {
   "cell_type": "markdown",
   "id": "4d7cbfdd",
   "metadata": {},
   "source": [
    "---\n",
    "### To load dataset"
   ]
  },
  {
   "cell_type": "code",
   "execution_count": 9,
   "id": "27415e4c",
   "metadata": {},
   "outputs": [],
   "source": [
    "dataset = load_iris()"
   ]
  },
  {
   "cell_type": "markdown",
   "id": "2b534c8d",
   "metadata": {},
   "source": [
    "---\n",
    "### To train the model"
   ]
  },
  {
   "cell_type": "code",
   "execution_count": 10,
   "id": "330b198f",
   "metadata": {},
   "outputs": [],
   "source": [
    "model_2 = GaussianNB()"
   ]
  },
  {
   "cell_type": "code",
   "execution_count": 11,
   "id": "57608627",
   "metadata": {},
   "outputs": [
    {
     "data": {
      "text/plain": [
       "GaussianNB()"
      ]
     },
     "execution_count": 11,
     "metadata": {},
     "output_type": "execute_result"
    }
   ],
   "source": [
    "model_2.fit(dataset.data, dataset.target)"
   ]
  },
  {
   "cell_type": "markdown",
   "id": "01f6995b",
   "metadata": {},
   "source": [
    "---\n",
    "### To make predictions"
   ]
  },
  {
   "cell_type": "code",
   "execution_count": 12,
   "id": "cf97a002",
   "metadata": {},
   "outputs": [],
   "source": [
    "expected = dataset.target\n",
    "predicted = model_2.predict(dataset.data)"
   ]
  },
  {
   "cell_type": "markdown",
   "id": "45e9db64",
   "metadata": {},
   "source": [
    "---\n",
    "### To summarize the classification report"
   ]
  },
  {
   "cell_type": "code",
   "execution_count": 13,
   "id": "0b3c5c05",
   "metadata": {},
   "outputs": [
    {
     "name": "stdout",
     "output_type": "stream",
     "text": [
      "96.0\n"
     ]
    }
   ],
   "source": [
    "print (round(100*accuracy_score(expected, predicted),4))"
   ]
  },
  {
   "cell_type": "code",
   "execution_count": 14,
   "id": "abdf4cea",
   "metadata": {},
   "outputs": [
    {
     "name": "stdout",
     "output_type": "stream",
     "text": [
      "              precision    recall  f1-score   support\n",
      "\n",
      "           0       1.00      1.00      1.00        50\n",
      "           1       0.94      0.94      0.94        50\n",
      "           2       0.94      0.94      0.94        50\n",
      "\n",
      "    accuracy                           0.96       150\n",
      "   macro avg       0.96      0.96      0.96       150\n",
      "weighted avg       0.96      0.96      0.96       150\n",
      "\n"
     ]
    }
   ],
   "source": [
    "print (classification_report(expected, predicted))"
   ]
  },
  {
   "cell_type": "code",
   "execution_count": 15,
   "id": "97295252",
   "metadata": {},
   "outputs": [
    {
     "name": "stdout",
     "output_type": "stream",
     "text": [
      "[[50  0  0]\n",
      " [ 0 47  3]\n",
      " [ 0  3 47]]\n"
     ]
    }
   ],
   "source": [
    "print (confusion_matrix(expected, predicted))"
   ]
  },
  {
   "cell_type": "markdown",
   "id": "886c8050",
   "metadata": {},
   "source": [
    "---\n",
    "## k-Nearest Neighbors\n",
    "---"
   ]
  },
  {
   "cell_type": "code",
   "execution_count": 16,
   "id": "93cd0720",
   "metadata": {},
   "outputs": [],
   "source": [
    "from sklearn.datasets import load_iris\n",
    "from sklearn.neighbors import KNeighborsClassifier\n",
    "from sklearn.metrics import accuracy_score\n",
    "from sklearn.metrics import confusion_matrix\n",
    "from sklearn.metrics import classification_report"
   ]
  },
  {
   "cell_type": "markdown",
   "id": "d91fb79a",
   "metadata": {},
   "source": [
    "---\n",
    "### To load dataset"
   ]
  },
  {
   "cell_type": "code",
   "execution_count": 17,
   "id": "06fb6362",
   "metadata": {},
   "outputs": [],
   "source": [
    "dataset = load_iris()"
   ]
  },
  {
   "cell_type": "markdown",
   "id": "2ccb1bd7",
   "metadata": {},
   "source": [
    "--- \n",
    "### To train the model"
   ]
  },
  {
   "cell_type": "code",
   "execution_count": 18,
   "id": "fcf33c0f",
   "metadata": {},
   "outputs": [
    {
     "data": {
      "text/plain": [
       "KNeighborsClassifier()"
      ]
     },
     "execution_count": 18,
     "metadata": {},
     "output_type": "execute_result"
    }
   ],
   "source": [
    "model_3 = KNeighborsClassifier()\n",
    "model_3.fit(dataset.data, dataset.target)"
   ]
  },
  {
   "cell_type": "markdown",
   "id": "311ace10",
   "metadata": {},
   "source": [
    "---\n",
    "### To model predictions"
   ]
  },
  {
   "cell_type": "code",
   "execution_count": 19,
   "id": "bed16963",
   "metadata": {},
   "outputs": [],
   "source": [
    "expected = dataset.target\n",
    "predicted = model_3.predict(dataset.data)"
   ]
  },
  {
   "cell_type": "markdown",
   "id": "dca37379",
   "metadata": {},
   "source": [
    "---\n",
    "### To summarize the classification report"
   ]
  },
  {
   "cell_type": "code",
   "execution_count": 20,
   "id": "c1fc9141",
   "metadata": {},
   "outputs": [
    {
     "name": "stdout",
     "output_type": "stream",
     "text": [
      "96.6667\n"
     ]
    }
   ],
   "source": [
    "print (round(100*accuracy_score(expected, predicted),4))"
   ]
  },
  {
   "cell_type": "code",
   "execution_count": 21,
   "id": "750ebb4d",
   "metadata": {},
   "outputs": [
    {
     "name": "stdout",
     "output_type": "stream",
     "text": [
      "              precision    recall  f1-score   support\n",
      "\n",
      "           0       1.00      1.00      1.00        50\n",
      "           1       0.96      0.94      0.95        50\n",
      "           2       0.94      0.96      0.95        50\n",
      "\n",
      "    accuracy                           0.97       150\n",
      "   macro avg       0.97      0.97      0.97       150\n",
      "weighted avg       0.97      0.97      0.97       150\n",
      "\n"
     ]
    }
   ],
   "source": [
    "print (classification_report(expected, predicted))"
   ]
  },
  {
   "cell_type": "code",
   "execution_count": 22,
   "id": "88104cb6",
   "metadata": {},
   "outputs": [
    {
     "name": "stdout",
     "output_type": "stream",
     "text": [
      "[[50  0  0]\n",
      " [ 0 47  3]\n",
      " [ 0  2 48]]\n"
     ]
    }
   ],
   "source": [
    "print (confusion_matrix(expected, predicted))"
   ]
  },
  {
   "cell_type": "markdown",
   "id": "02b01a17",
   "metadata": {},
   "source": [
    "---\n",
    "## Classification and Regression Trees\n",
    "---"
   ]
  },
  {
   "cell_type": "code",
   "execution_count": 23,
   "id": "8a3cd1ea",
   "metadata": {},
   "outputs": [],
   "source": [
    "from sklearn.datasets import load_iris\n",
    "from sklearn.tree import DecisionTreeClassifier\n",
    "from sklearn.metrics import accuracy_score\n",
    "from sklearn.metrics import confusion_matrix\n",
    "from sklearn.metrics import classification_report"
   ]
  },
  {
   "cell_type": "markdown",
   "id": "3ec7eb26",
   "metadata": {},
   "source": [
    "### To load dataset"
   ]
  },
  {
   "cell_type": "code",
   "execution_count": 24,
   "id": "11bc5bb3",
   "metadata": {},
   "outputs": [],
   "source": [
    "dataset = load_iris()"
   ]
  },
  {
   "cell_type": "markdown",
   "id": "49a9369c",
   "metadata": {},
   "source": [
    "### To train the model"
   ]
  },
  {
   "cell_type": "code",
   "execution_count": 25,
   "id": "2199b6a9",
   "metadata": {},
   "outputs": [
    {
     "data": {
      "text/plain": [
       "DecisionTreeClassifier()"
      ]
     },
     "execution_count": 25,
     "metadata": {},
     "output_type": "execute_result"
    }
   ],
   "source": [
    "model_4 = DecisionTreeClassifier()\n",
    "model_4.fit(dataset.data, dataset.target)"
   ]
  },
  {
   "cell_type": "markdown",
   "id": "d218dd71",
   "metadata": {},
   "source": [
    "### To make predictions"
   ]
  },
  {
   "cell_type": "code",
   "execution_count": 26,
   "id": "b5f1d18e",
   "metadata": {},
   "outputs": [],
   "source": [
    "expected = dataset.target\n",
    "predicted = model_4.predict(dataset.data)"
   ]
  },
  {
   "cell_type": "markdown",
   "id": "4ba73bf6",
   "metadata": {},
   "source": [
    "### To summarize the classification report"
   ]
  },
  {
   "cell_type": "code",
   "execution_count": 27,
   "id": "1199cc6d",
   "metadata": {},
   "outputs": [
    {
     "name": "stdout",
     "output_type": "stream",
     "text": [
      "1.0\n"
     ]
    }
   ],
   "source": [
    "print (accuracy_score(expected, predicted))"
   ]
  },
  {
   "cell_type": "code",
   "execution_count": 28,
   "id": "b589f543",
   "metadata": {},
   "outputs": [
    {
     "name": "stdout",
     "output_type": "stream",
     "text": [
      "              precision    recall  f1-score   support\n",
      "\n",
      "           0       1.00      1.00      1.00        50\n",
      "           1       1.00      1.00      1.00        50\n",
      "           2       1.00      1.00      1.00        50\n",
      "\n",
      "    accuracy                           1.00       150\n",
      "   macro avg       1.00      1.00      1.00       150\n",
      "weighted avg       1.00      1.00      1.00       150\n",
      "\n"
     ]
    }
   ],
   "source": [
    "print (classification_report(expected, predicted))"
   ]
  },
  {
   "cell_type": "code",
   "execution_count": 29,
   "id": "ef913abe",
   "metadata": {},
   "outputs": [
    {
     "name": "stdout",
     "output_type": "stream",
     "text": [
      "[[50  0  0]\n",
      " [ 0 50  0]\n",
      " [ 0  0 50]]\n"
     ]
    }
   ],
   "source": [
    "print (confusion_matrix(expected, predicted))"
   ]
  },
  {
   "cell_type": "markdown",
   "id": "97769f0b",
   "metadata": {},
   "source": [
    "---\n",
    "## Support Vector Machines\n",
    "---"
   ]
  },
  {
   "cell_type": "code",
   "execution_count": 30,
   "id": "1b7577c7",
   "metadata": {},
   "outputs": [],
   "source": [
    "from sklearn.datasets import load_iris\n",
    "from sklearn.svm import SVC\n",
    "from sklearn.metrics import accuracy_score\n",
    "from sklearn.metrics import confusion_matrix\n",
    "from sklearn.metrics import classification_report"
   ]
  },
  {
   "cell_type": "markdown",
   "id": "5b4e1905",
   "metadata": {},
   "source": [
    "---\n",
    "### To load dataset "
   ]
  },
  {
   "cell_type": "code",
   "execution_count": 31,
   "id": "4eed024d",
   "metadata": {},
   "outputs": [],
   "source": [
    "dataset = load_iris()"
   ]
  },
  {
   "cell_type": "markdown",
   "id": "829c2808",
   "metadata": {},
   "source": [
    "---\n",
    "### To train the model"
   ]
  },
  {
   "cell_type": "code",
   "execution_count": 32,
   "id": "3a2a8d09",
   "metadata": {},
   "outputs": [
    {
     "data": {
      "text/plain": [
       "SVC()"
      ]
     },
     "execution_count": 32,
     "metadata": {},
     "output_type": "execute_result"
    }
   ],
   "source": [
    "model_5 = SVC()\n",
    "model_5.fit(dataset.data, dataset.target)"
   ]
  },
  {
   "cell_type": "markdown",
   "id": "f11c5987",
   "metadata": {},
   "source": [
    "---\n",
    "### To make predictions "
   ]
  },
  {
   "cell_type": "code",
   "execution_count": 33,
   "id": "2a8c7413",
   "metadata": {},
   "outputs": [],
   "source": [
    "expected = dataset.target\n",
    "predicted = model_5.predict(dataset.data)"
   ]
  },
  {
   "cell_type": "markdown",
   "id": "768fbe55",
   "metadata": {},
   "source": [
    "---\n",
    "### To summarize the classification report"
   ]
  },
  {
   "cell_type": "code",
   "execution_count": 34,
   "id": "6c60552a",
   "metadata": {},
   "outputs": [
    {
     "name": "stdout",
     "output_type": "stream",
     "text": [
      "0.9733333333333334\n"
     ]
    }
   ],
   "source": [
    "print (accuracy_score(expected, predicted))"
   ]
  },
  {
   "cell_type": "code",
   "execution_count": 35,
   "id": "5470c087",
   "metadata": {},
   "outputs": [
    {
     "name": "stdout",
     "output_type": "stream",
     "text": [
      "              precision    recall  f1-score   support\n",
      "\n",
      "           0       1.00      1.00      1.00        50\n",
      "           1       0.96      0.96      0.96        50\n",
      "           2       0.96      0.96      0.96        50\n",
      "\n",
      "    accuracy                           0.97       150\n",
      "   macro avg       0.97      0.97      0.97       150\n",
      "weighted avg       0.97      0.97      0.97       150\n",
      "\n"
     ]
    }
   ],
   "source": [
    "print (classification_report(expected, predicted))"
   ]
  },
  {
   "cell_type": "code",
   "execution_count": 36,
   "id": "dc39c20c",
   "metadata": {},
   "outputs": [
    {
     "name": "stdout",
     "output_type": "stream",
     "text": [
      "[[50  0  0]\n",
      " [ 0 48  2]\n",
      " [ 0  2 48]]\n"
     ]
    }
   ],
   "source": [
    "print (confusion_matrix(expected, predicted))"
   ]
  },
  {
   "cell_type": "code",
   "execution_count": null,
   "id": "bdfb4182",
   "metadata": {},
   "outputs": [],
   "source": []
  }
 ],
 "metadata": {
  "kernelspec": {
   "display_name": "Python 3",
   "language": "python",
   "name": "python3"
  },
  "language_info": {
   "codemirror_mode": {
    "name": "ipython",
    "version": 3
   },
   "file_extension": ".py",
   "mimetype": "text/x-python",
   "name": "python",
   "nbconvert_exporter": "python",
   "pygments_lexer": "ipython3",
   "version": "3.7.10"
  }
 },
 "nbformat": 4,
 "nbformat_minor": 5
}
