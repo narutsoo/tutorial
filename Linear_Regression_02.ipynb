{
  "nbformat": 4,
  "nbformat_minor": 0,
  "metadata": {
    "colab": {
      "name": "Linear_Regression_02.ipynb",
      "provenance": [],
      "authorship_tag": "ABX9TyNC+GJ2xwX/pwP55m3UOCKE",
      "include_colab_link": true
    },
    "kernelspec": {
      "name": "python3",
      "display_name": "Python 3"
    }
  },
  "cells": [
    {
      "cell_type": "markdown",
      "metadata": {
        "id": "view-in-github",
        "colab_type": "text"
      },
      "source": [
        "<a href=\"https://colab.research.google.com/github/narutsoo/tutorial/blob/master/Linear_Regression_02.ipynb\" target=\"_parent\"><img src=\"https://colab.research.google.com/assets/colab-badge.svg\" alt=\"Open In Colab\"/></a>"
      ]
    },
    {
      "cell_type": "markdown",
      "metadata": {
        "id": "_gviyWe6DhoA"
      },
      "source": [
        "---\n",
        "\n",
        "# ทดลองทำ Linear Regression #2\n",
        "\n",
        "---"
      ]
    },
    {
      "cell_type": "markdown",
      "metadata": {
        "id": "CrzFOPmgEQlS"
      },
      "source": [
        "\n",
        "\n",
        "จาก Library sklearn (หรือ scikit learn) เราจะเรียกใช้ datasets\n"
      ]
    },
    {
      "cell_type": "code",
      "metadata": {
        "id": "1wqQZ6OiANf1"
      },
      "source": [
        "from sklearn import datasets"
      ],
      "execution_count": 1,
      "outputs": []
    },
    {
      "cell_type": "markdown",
      "metadata": {
        "id": "5W48IMIOD0Bw"
      },
      "source": [
        "นำเข้าข้อมูล (Load Dataset) : ในที่นี้ใช้ข้อมูล \"Boston\" ที่มีอยู่ใน sklearn "
      ]
    },
    {
      "cell_type": "code",
      "metadata": {
        "id": "NQHJ_i65AP_f"
      },
      "source": [
        "boston = datasets.load_boston()"
      ],
      "execution_count": 2,
      "outputs": []
    },
    {
      "cell_type": "markdown",
      "metadata": {
        "id": "ulgAzCeXGLJ6"
      },
      "source": [
        "ทำการเก็บข้อมูล Features ต่าง ๆ ไว้ที่ตัวแปร X .. และ เก็บข้อมูล Target ไว้ที่ตัวแปร y "
      ]
    },
    {
      "cell_type": "code",
      "metadata": {
        "id": "03dcxp95ATq5"
      },
      "source": [
        "X = boston.data\n",
        "y = boston.target"
      ],
      "execution_count": 3,
      "outputs": []
    },
    {
      "cell_type": "markdown",
      "metadata": {
        "id": "N50EV7xjG5pX"
      },
      "source": [
        "แสดงตัวอย่าง Feature Name ของ Boston dataset"
      ]
    },
    {
      "cell_type": "code",
      "metadata": {
        "id": "3gkyDomYAXsB",
        "colab": {
          "base_uri": "https://localhost:8080/"
        },
        "outputId": "5d8948e2-38dc-4d77-b816-7a459e2af6cb"
      },
      "source": [
        "print (boston.feature_names)"
      ],
      "execution_count": 4,
      "outputs": [
        {
          "output_type": "stream",
          "text": [
            "['CRIM' 'ZN' 'INDUS' 'CHAS' 'NOX' 'RM' 'AGE' 'DIS' 'RAD' 'TAX' 'PTRATIO'\n",
            " 'B' 'LSTAT']\n"
          ],
          "name": "stdout"
        }
      ]
    },
    {
      "cell_type": "code",
      "metadata": {
        "id": "Z8ltuKdAAYKX",
        "colab": {
          "base_uri": "https://localhost:8080/"
        },
        "outputId": "0c374d3c-3855-44fb-dbde-4731569b147c"
      },
      "source": [
        "print (boston.data[0:5])\n",
        "print (boston.target[0:5])"
      ],
      "execution_count": 5,
      "outputs": [
        {
          "output_type": "stream",
          "text": [
            "[[6.3200e-03 1.8000e+01 2.3100e+00 0.0000e+00 5.3800e-01 6.5750e+00\n",
            "  6.5200e+01 4.0900e+00 1.0000e+00 2.9600e+02 1.5300e+01 3.9690e+02\n",
            "  4.9800e+00]\n",
            " [2.7310e-02 0.0000e+00 7.0700e+00 0.0000e+00 4.6900e-01 6.4210e+00\n",
            "  7.8900e+01 4.9671e+00 2.0000e+00 2.4200e+02 1.7800e+01 3.9690e+02\n",
            "  9.1400e+00]\n",
            " [2.7290e-02 0.0000e+00 7.0700e+00 0.0000e+00 4.6900e-01 7.1850e+00\n",
            "  6.1100e+01 4.9671e+00 2.0000e+00 2.4200e+02 1.7800e+01 3.9283e+02\n",
            "  4.0300e+00]\n",
            " [3.2370e-02 0.0000e+00 2.1800e+00 0.0000e+00 4.5800e-01 6.9980e+00\n",
            "  4.5800e+01 6.0622e+00 3.0000e+00 2.2200e+02 1.8700e+01 3.9463e+02\n",
            "  2.9400e+00]\n",
            " [6.9050e-02 0.0000e+00 2.1800e+00 0.0000e+00 4.5800e-01 7.1470e+00\n",
            "  5.4200e+01 6.0622e+00 3.0000e+00 2.2200e+02 1.8700e+01 3.9690e+02\n",
            "  5.3300e+00]]\n",
            "[24.  21.6 34.7 33.4 36.2]\n"
          ],
          "name": "stdout"
        }
      ]
    },
    {
      "cell_type": "markdown",
      "metadata": {
        "id": "aRkMRwFBXYQN"
      },
      "source": [
        "\n",
        "\n",
        "---\n",
        "เริ่มขั้นตอนการสร้าง (Train) / ทดสอบ (Test) Model\n",
        "\n",
        "\n",
        "---\n",
        "\n"
      ]
    },
    {
      "cell_type": "markdown",
      "metadata": {
        "id": "CbDC9K06HOtd"
      },
      "source": [
        "\n",
        "จาก Library sklearn\n",
        "*   เรียกใช้งาน Linear Regression ซึ่งอยู่ใน linear model\n",
        "*   เรียกใช้งาน train / test split (การแบ่งข้อมูล train / test) ซึ่งอยู่ใน model selection\n"
      ]
    },
    {
      "cell_type": "code",
      "metadata": {
        "id": "iJGALVXDAa5Y"
      },
      "source": [
        "from sklearn.linear_model import LinearRegression\n",
        "from sklearn.model_selection import train_test_split"
      ],
      "execution_count": 6,
      "outputs": []
    },
    {
      "cell_type": "markdown",
      "metadata": {
        "id": "S83jBGq8KIXD"
      },
      "source": [
        "\n",
        "\n",
        "*   ทำการแบ่งข้อมูล train (ใช้สร้าง Model) / test (ใช้ทดสอบ Model) \n",
        "*   สามารถกำหนด test size ได้ (ค่า test_size = 0.2 หมายถึง 20% เป็นข้อมูล test) \n",
        "\n"
      ]
    },
    {
      "cell_type": "code",
      "metadata": {
        "id": "8-qCdp-pIqSt"
      },
      "source": [
        "X_train, X_test, y_train, y_test = train_test_split(boston.data, boston.target, test_size = 0.2)"
      ],
      "execution_count": 7,
      "outputs": []
    },
    {
      "cell_type": "markdown",
      "metadata": {
        "id": "bhQXNWEvRGaA"
      },
      "source": [
        "\n",
        "\n",
        "*   เพื่อดูขนาดของข้อมูล train และ ข้อมูล test\n",
        "\n"
      ]
    },
    {
      "cell_type": "code",
      "metadata": {
        "id": "LcqNLGYYI1z2",
        "colab": {
          "base_uri": "https://localhost:8080/"
        },
        "outputId": "c7ef7259-c9dc-4697-b466-72327a56ec77"
      },
      "source": [
        "print (X_train.shape)\n",
        "print (X_test.shape)"
      ],
      "execution_count": 8,
      "outputs": [
        {
          "output_type": "stream",
          "text": [
            "(404, 13)\n",
            "(102, 13)\n"
          ],
          "name": "stdout"
        }
      ]
    },
    {
      "cell_type": "markdown",
      "metadata": {
        "id": "uqiwxqyATPo1"
      },
      "source": [
        "กำหนด Linear Regression Model ในชื่อตัวแปร **\"LR\"** (กำหนดค่า Normalize = True)"
      ]
    },
    {
      "cell_type": "code",
      "metadata": {
        "id": "py8KTWofI2xx"
      },
      "source": [
        "LR = LinearRegression(normalize=True)"
      ],
      "execution_count": 9,
      "outputs": []
    },
    {
      "cell_type": "markdown",
      "metadata": {
        "id": "xaIzcCkBWgW6"
      },
      "source": [
        "ทำการ Train model ด้วยข้อมูล X_train, y_train"
      ]
    },
    {
      "cell_type": "code",
      "metadata": {
        "id": "1hLdpK7-I-4H",
        "colab": {
          "base_uri": "https://localhost:8080/"
        },
        "outputId": "663fc4e1-d750-4149-83e6-7a6540b229b1"
      },
      "source": [
        "LR.fit(X_train, y_train)"
      ],
      "execution_count": 10,
      "outputs": [
        {
          "output_type": "execute_result",
          "data": {
            "text/plain": [
              "LinearRegression(copy_X=True, fit_intercept=True, n_jobs=None, normalize=True)"
            ]
          },
          "metadata": {
            "tags": []
          },
          "execution_count": 10
        }
      ]
    },
    {
      "cell_type": "markdown",
      "metadata": {
        "id": "LcdGQLCtU6pB"
      },
      "source": [
        "วัดประสิทธิภาพของ Model โดยใช้ข้อมูล X_test, y_test .."
      ]
    },
    {
      "cell_type": "code",
      "metadata": {
        "id": "aEXwz8ZXKuWQ"
      },
      "source": [
        "y_pred = LR.predict(X_test) "
      ],
      "execution_count": 11,
      "outputs": []
    },
    {
      "cell_type": "code",
      "metadata": {
        "id": "myeF_nlAsmmr",
        "colab": {
          "base_uri": "https://localhost:8080/"
        },
        "outputId": "9c9e4930-b7c1-485c-a9b9-9d09fe777cd9"
      },
      "source": [
        "from sklearn.metrics import mean_squared_error, r2_score\n",
        "import numpy as np\n",
        "\n",
        "rmse = np.sqrt(mean_squared_error(y_test, y_pred))\n",
        "print ('RMSE (Root Mean Squared Error) = ', rmse)\n",
        "\n",
        "r2 = r2_score(y_test, y_pred)\n",
        "print ('R2 = ', r2)"
      ],
      "execution_count": 12,
      "outputs": [
        {
          "output_type": "stream",
          "text": [
            "RMSE (Root Mean Squared Error) =  5.344118057400256\n",
            "R2 =  0.6712996972740259\n"
          ],
          "name": "stdout"
        }
      ]
    },
    {
      "cell_type": "code",
      "metadata": {
        "id": "uWVawzmjAQ0Q"
      },
      "source": [
        ""
      ],
      "execution_count": 12,
      "outputs": []
    }
  ]
}