{
  "nbformat": 4,
  "nbformat_minor": 0,
  "metadata": {
    "colab": {
      "name": "Column_Transformer_for_DataPrep.ipynb",
      "provenance": [],
      "authorship_tag": "ABX9TyNDtvhHGPqIs4FLiBsCnkNw",
      "include_colab_link": true
    },
    "kernelspec": {
      "name": "python3",
      "display_name": "Python 3"
    },
    "language_info": {
      "name": "python"
    }
  },
  "cells": [
    {
      "cell_type": "markdown",
      "metadata": {
        "id": "view-in-github",
        "colab_type": "text"
      },
      "source": [
        "<a href=\"https://colab.research.google.com/github/narutsoo/tutorial/blob/master/Column_Transformer_for_DataPrep.ipynb\" target=\"_parent\"><img src=\"https://colab.research.google.com/assets/colab-badge.svg\" alt=\"Open In Colab\"/></a>"
      ]
    },
    {
      "cell_type": "markdown",
      "metadata": {
        "id": "61gRGHu1aHuH"
      },
      "source": [
        "# Topic : How to Use the ColumnTransformer for Data Preparation\n",
        "*Reference*\n",
        "\n",
        "https://machinelearningmastery.com/columntransformer-for-numerical-and-categorical-data/"
      ]
    },
    {
      "cell_type": "markdown",
      "metadata": {
        "id": "4zhkGDmddRHO"
      },
      "source": [
        "---\n",
        "Import related libraries"
      ]
    },
    {
      "cell_type": "code",
      "metadata": {
        "id": "MXu1ghRAaPot"
      },
      "source": [
        "import pandas as pd\n",
        "from sklearn.pipeline import Pipeline\n",
        "from sklearn.model_selection import KFold\n",
        "from sklearn.model_selection import cross_val_score\n",
        "from sklearn.preprocessing import MinMaxScaler\n",
        "from sklearn.preprocessing import OneHotEncoder\n",
        "from sklearn.svm import SVR\n",
        "from sklearn.compose import ColumnTransformer\n",
        "from numpy import mean\n",
        "from numpy import std\n",
        "from numpy import absolute"
      ],
      "execution_count": 1,
      "outputs": []
    },
    {
      "cell_type": "markdown",
      "metadata": {
        "id": "a3a0PAeudPVK"
      },
      "source": [
        "Import data"
      ]
    },
    {
      "cell_type": "code",
      "metadata": {
        "id": "lgR4HyzZaERs"
      },
      "source": [
        "data = pd.read_csv(\"https://raw.githubusercontent.com/jbrownlee/Datasets/master/abalone.csv\", header=None)"
      ],
      "execution_count": 2,
      "outputs": []
    },
    {
      "cell_type": "code",
      "metadata": {
        "colab": {
          "base_uri": "https://localhost:8080/",
          "height": 203
        },
        "id": "2qXxx0Bkab4r",
        "outputId": "fb0e1270-6114-4c29-fb51-d384fd622480"
      },
      "source": [
        "data.head()"
      ],
      "execution_count": 3,
      "outputs": [
        {
          "output_type": "execute_result",
          "data": {
            "text/html": [
              "<div>\n",
              "<style scoped>\n",
              "    .dataframe tbody tr th:only-of-type {\n",
              "        vertical-align: middle;\n",
              "    }\n",
              "\n",
              "    .dataframe tbody tr th {\n",
              "        vertical-align: top;\n",
              "    }\n",
              "\n",
              "    .dataframe thead th {\n",
              "        text-align: right;\n",
              "    }\n",
              "</style>\n",
              "<table border=\"1\" class=\"dataframe\">\n",
              "  <thead>\n",
              "    <tr style=\"text-align: right;\">\n",
              "      <th></th>\n",
              "      <th>0</th>\n",
              "      <th>1</th>\n",
              "      <th>2</th>\n",
              "      <th>3</th>\n",
              "      <th>4</th>\n",
              "      <th>5</th>\n",
              "      <th>6</th>\n",
              "      <th>7</th>\n",
              "      <th>8</th>\n",
              "    </tr>\n",
              "  </thead>\n",
              "  <tbody>\n",
              "    <tr>\n",
              "      <th>0</th>\n",
              "      <td>M</td>\n",
              "      <td>0.455</td>\n",
              "      <td>0.365</td>\n",
              "      <td>0.095</td>\n",
              "      <td>0.5140</td>\n",
              "      <td>0.2245</td>\n",
              "      <td>0.1010</td>\n",
              "      <td>0.150</td>\n",
              "      <td>15</td>\n",
              "    </tr>\n",
              "    <tr>\n",
              "      <th>1</th>\n",
              "      <td>M</td>\n",
              "      <td>0.350</td>\n",
              "      <td>0.265</td>\n",
              "      <td>0.090</td>\n",
              "      <td>0.2255</td>\n",
              "      <td>0.0995</td>\n",
              "      <td>0.0485</td>\n",
              "      <td>0.070</td>\n",
              "      <td>7</td>\n",
              "    </tr>\n",
              "    <tr>\n",
              "      <th>2</th>\n",
              "      <td>F</td>\n",
              "      <td>0.530</td>\n",
              "      <td>0.420</td>\n",
              "      <td>0.135</td>\n",
              "      <td>0.6770</td>\n",
              "      <td>0.2565</td>\n",
              "      <td>0.1415</td>\n",
              "      <td>0.210</td>\n",
              "      <td>9</td>\n",
              "    </tr>\n",
              "    <tr>\n",
              "      <th>3</th>\n",
              "      <td>M</td>\n",
              "      <td>0.440</td>\n",
              "      <td>0.365</td>\n",
              "      <td>0.125</td>\n",
              "      <td>0.5160</td>\n",
              "      <td>0.2155</td>\n",
              "      <td>0.1140</td>\n",
              "      <td>0.155</td>\n",
              "      <td>10</td>\n",
              "    </tr>\n",
              "    <tr>\n",
              "      <th>4</th>\n",
              "      <td>I</td>\n",
              "      <td>0.330</td>\n",
              "      <td>0.255</td>\n",
              "      <td>0.080</td>\n",
              "      <td>0.2050</td>\n",
              "      <td>0.0895</td>\n",
              "      <td>0.0395</td>\n",
              "      <td>0.055</td>\n",
              "      <td>7</td>\n",
              "    </tr>\n",
              "  </tbody>\n",
              "</table>\n",
              "</div>"
            ],
            "text/plain": [
              "   0      1      2      3       4       5       6      7   8\n",
              "0  M  0.455  0.365  0.095  0.5140  0.2245  0.1010  0.150  15\n",
              "1  M  0.350  0.265  0.090  0.2255  0.0995  0.0485  0.070   7\n",
              "2  F  0.530  0.420  0.135  0.6770  0.2565  0.1415  0.210   9\n",
              "3  M  0.440  0.365  0.125  0.5160  0.2155  0.1140  0.155  10\n",
              "4  I  0.330  0.255  0.080  0.2050  0.0895  0.0395  0.055   7"
            ]
          },
          "metadata": {
            "tags": []
          },
          "execution_count": 3
        }
      ]
    },
    {
      "cell_type": "markdown",
      "metadata": {
        "id": "EkNLmAGldINw"
      },
      "source": [
        "Define input and output variables"
      ]
    },
    {
      "cell_type": "code",
      "metadata": {
        "id": "tg_Heqbgadkb"
      },
      "source": [
        "X = data.iloc[:,0:8]\n",
        "y = data.iloc[:,8]"
      ],
      "execution_count": 4,
      "outputs": []
    },
    {
      "cell_type": "markdown",
      "metadata": {
        "id": "FALMUr_7dCiO"
      },
      "source": [
        "Determine Numerical or Categorical features"
      ]
    },
    {
      "cell_type": "code",
      "metadata": {
        "id": "IJ948O62a5rl"
      },
      "source": [
        "numerical_ix = X.select_dtypes(include=['int64','float64']).columns\n",
        "categorical_ix = X.select_dtypes(include=['object','bool']).columns"
      ],
      "execution_count": 5,
      "outputs": []
    },
    {
      "cell_type": "code",
      "metadata": {
        "colab": {
          "base_uri": "https://localhost:8080/"
        },
        "id": "cgsluR2ja6rD",
        "outputId": "7d44bac6-a5cd-4745-bf0b-011d9a80c4a1"
      },
      "source": [
        "print (numerical_ix)\n",
        "print (categorical_ix)"
      ],
      "execution_count": 6,
      "outputs": [
        {
          "output_type": "stream",
          "text": [
            "Int64Index([1, 2, 3, 4, 5, 6, 7], dtype='int64')\n",
            "Int64Index([0], dtype='int64')\n"
          ],
          "name": "stdout"
        }
      ]
    },
    {
      "cell_type": "code",
      "metadata": {
        "id": "qe9VBWiqb96B"
      },
      "source": [
        "t = [('cat', OneHotEncoder(), categorical_ix), ('num', MinMaxScaler(), numerical_ix)]"
      ],
      "execution_count": 7,
      "outputs": []
    },
    {
      "cell_type": "code",
      "metadata": {
        "id": "nTN5ZHBacA_a"
      },
      "source": [
        "col_transform = ColumnTransformer(transformers=t)"
      ],
      "execution_count": 8,
      "outputs": []
    },
    {
      "cell_type": "markdown",
      "metadata": {
        "id": "3jjjKkbce0J_"
      },
      "source": [
        "Define the model"
      ]
    },
    {
      "cell_type": "code",
      "metadata": {
        "id": "BGWe9r_UcQXV"
      },
      "source": [
        "model = SVR(kernel='rbf', gamma='scale', C=100)"
      ],
      "execution_count": 9,
      "outputs": []
    },
    {
      "cell_type": "code",
      "metadata": {
        "id": "JxO_0EYkezdn"
      },
      "source": [
        "pipeline = Pipeline(steps=[('prep', col_transform), ('model', model)])"
      ],
      "execution_count": 10,
      "outputs": []
    },
    {
      "cell_type": "markdown",
      "metadata": {
        "id": "6e7vnkjmgaRI"
      },
      "source": [
        "Define cross-validation configuration"
      ]
    },
    {
      "cell_type": "code",
      "metadata": {
        "id": "cxX2_ZmxgKmk"
      },
      "source": [
        "cv = KFold(n_splits=10, shuffle=True, random_state=1)"
      ],
      "execution_count": 11,
      "outputs": []
    },
    {
      "cell_type": "markdown",
      "metadata": {
        "id": "2mkajPlUiPWm"
      },
      "source": [
        "Evaluate the pipeline using cross-validation using MAE"
      ]
    },
    {
      "cell_type": "code",
      "metadata": {
        "id": "A0b9abJfgmMg"
      },
      "source": [
        "scores = cross_val_score(pipeline, X, y, scoring='neg_mean_absolute_error', cv=cv, n_jobs=-1)"
      ],
      "execution_count": 12,
      "outputs": []
    },
    {
      "cell_type": "code",
      "metadata": {
        "id": "2BofxmAngz9q"
      },
      "source": [
        "scores = absolute(scores)"
      ],
      "execution_count": 13,
      "outputs": []
    },
    {
      "cell_type": "markdown",
      "metadata": {
        "id": "5Aylp91GiW9N"
      },
      "source": [
        "Print model's performance"
      ]
    },
    {
      "cell_type": "code",
      "metadata": {
        "colab": {
          "base_uri": "https://localhost:8080/"
        },
        "id": "WiCeKL7ug76S",
        "outputId": "c24d8389-fe9e-4012-c2d4-9e5e4a224697"
      },
      "source": [
        "print ('Accuracy = %.3f (std = %.3f)' %(mean(scores), std(scores)))"
      ],
      "execution_count": 14,
      "outputs": [
        {
          "output_type": "stream",
          "text": [
            "Accuracy = 1.465 (std = 0.047)\n"
          ],
          "name": "stdout"
        }
      ]
    }
  ]
}